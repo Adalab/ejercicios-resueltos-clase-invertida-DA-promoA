{
 "cells": [
  {
   "cell_type": "markdown",
   "metadata": {},
   "source": [
    "# Resolución ejercicios Sets"
   ]
  },
  {
   "cell_type": "markdown",
   "metadata": {
    "id": "5PcBreuKcX1-"
   },
   "source": [
    "\n",
    "\n",
    "---\n",
    "\n",
    "\n",
    "## Ejercicios: definir sets\n",
    "\n",
    "- Definir sets\n",
    "\n",
    "  1. Vuelve a definir la *lista* \n",
    "        ```\n",
    "        temperaturas_diciembre = [10, 10, 13, 14, 12, 15, \n",
    "                                  12, 11, 13, 17, 18, 15, \n",
    "                                  15, 17, 17, 13, 13, 11,\n",
    "                                  12, 10, 12, 14, 12, 12,\n",
    "                                  11, 12, 16, 16, 14, 17, 18]\n",
    "        ```\n",
    "  2. Conviértala en un set `diciembre`.\n",
    "  3. Piensa en 6 colores y define el set `colores` para guardarlos.\n",
    "\n",
    "- Ampliar sets\n",
    "\n",
    "  4. Añade `'lila'` a `colores` usando `.add()`.\n",
    "  5. Añade `'azul'`, `'rojo'`, y `'granate'` a `colores` usando `.update()`.\n",
    "\n",
    "- `in`, `not in`\n",
    "\n",
    "  6. Tu lista de `colores`, ¿tiene `'verde'`?\n",
    "  7. ¿Y tiene `'ROJO'`?\n",
    "\n",
    "\n",
    "---\n",
    "\n"
   ]
  },
  {
   "cell_type": "code",
   "execution_count": 5,
   "metadata": {
    "id": "Z5I4yJpqcX2F"
   },
   "outputs": [
    {
     "name": "stdout",
     "output_type": "stream",
     "text": [
      "3. {'rosa', 'naranja', 'amarillo', 'verde', 'azul', 'rojo'}\n",
      "4. {'rosa', 'naranja', 'lila', 'amarillo', 'verde', 'azul', 'rojo'}\n",
      "5. {'granate', 'rosa', 'naranja', 'lila', 'amarillo', 'verde', 'azul', 'rojo'}\n",
      "6. True\n",
      "7. False\n"
     ]
    }
   ],
   "source": [
    "# 1.-3.\n",
    "temperaturas_diciembre = [10, 10, 13, 14, 12, 15, \n",
    "                          12, 11, 13, 17, 18, 15, \n",
    "                          15, 17, 17, 13, 13, 11,\n",
    "                          12, 10, 12, 14, 12, 12,\n",
    "                          11, 12, 16, 16, 14, 17, 18]\n",
    "diciembre = set(temperaturas_diciembre)\n",
    "colores = {'rojo', 'azul', 'verde', 'amarillo', 'naranja', 'rosa'}\n",
    "print('3.',colores)\n",
    "\n",
    "# 4.-5.\n",
    "colores.add('lila')\n",
    "print('4.',colores)\n",
    "colores.update(['azul', 'rojo', 'granate'])\n",
    "print('5.',colores)\n",
    "\n",
    "# 6.-7.\n",
    "print('6.','verde' in colores)\n",
    "print('7.','ROJO' in colores)"
   ]
  },
  {
   "cell_type": "markdown",
   "metadata": {
    "id": "5PcBreuKcX1-"
   },
   "source": [
    "\n",
    "\n",
    "---\n",
    "\n",
    "\n",
    "## Ejercicios: propiedades y métodos de un set\n",
    "\n",
    "- Copiar, borrar elementos\n",
    "\n",
    "  8. Define el set `enero` para que sea igual a `diciembre`.\n",
    "  9. Quita las temperaturas `17`, y `18` de `enero`.\n",
    "\n",
    "- Tamaño de un set\n",
    "\n",
    "  10. ¿Cuántas temperaturas distintas había en diciembre?\n",
    "  11. ¿Y cuántas en enero?\n",
    "\n",
    "\n",
    "---\n",
    "\n"
   ]
  },
  {
   "cell_type": "code",
   "execution_count": 9,
   "metadata": {},
   "outputs": [
    {
     "name": "stdout",
     "output_type": "stream",
     "text": [
      "8. {10, 11, 12, 13, 14, 15, 16, 17, 18}\n",
      "9. {10, 11, 12, 13, 14, 15, 16}\n",
      "10. 9\n",
      "11. 7\n"
     ]
    }
   ],
   "source": [
    "# 8.\n",
    "enero = diciembre.copy()\n",
    "print('8.',enero)\n",
    "\n",
    "# 9.\n",
    "enero.discard(17)\n",
    "enero.remove(18)\n",
    "print('9.',enero)\n",
    "\n",
    "# 10.-11.\n",
    "print('10.', len(diciembre))\n",
    "print('11.', len(enero))"
   ]
  },
  {
   "cell_type": "markdown",
   "metadata": {
    "id": "5PcBreuKcX1-"
   },
   "source": [
    "\n",
    "\n",
    "---\n",
    "\n",
    "\n",
    "## Ejercicios: set operaciones\n",
    "\n",
    "- Crear sets en base de otros sets\n",
    "\n",
    "  12. Identifica los elementos que haya en `diciembre` que no haya en `enero`.\n",
    "  13. Identifica los elementos que haya en `enero` que no haya en `diciembre`.\n",
    "  14. Identifica los elementos que tienen en común `diciembre` y `enero`.\n",
    "  15. Identifica la differencia simétrica de `colores` y `{'marrón','amarillo','cian'}`. ¿Qué significa el resultado entonces?\n",
    "\n",
    "- Comparar sets\n",
    "\n",
    "  16. ¿Son *disjoint* `diciembre` y `enero`? ¿Por qué (no)?\n",
    "  17. ¿Es `{'rojo','azul'}` un superset de colores?\n",
    "  18. ¿Es un subset?\n",
    "\n",
    "---\n",
    "\n"
   ]
  },
  {
   "cell_type": "code",
   "execution_count": 16,
   "metadata": {
    "id": "Z5I4yJpqcX2F"
   },
   "outputs": [
    {
     "name": "stdout",
     "output_type": "stream",
     "text": [
      "12. {17, 18}\n",
      "13. set()\n",
      "14. {10, 11, 12, 13, 14, 15, 16}\n",
      "15. {'verde', 'cian', 'rojo', 'marrón', 'granate', 'lila', 'rosa', 'azul', 'naranja'}\n",
      "    Significa que todos los colores menos el amarillo estaban en uno de los dos sets,\n",
      "    pero que el amarillo ya estaba en colores y por tanto no aparece en el output.\n",
      "16. False porque hay temperaturas en enero que también están en diciembre.\n",
      "17. False\n",
      "17. True\n"
     ]
    }
   ],
   "source": [
    "# 12.-15.\n",
    "print('12.',diciembre - enero)\n",
    "print('13.',enero - diciembre)\n",
    "print('14.',diciembre & enero)\n",
    "print('15.',colores.symmetric_difference({'marrón','amarillo','cian'})) \n",
    "print('   ','Significa que todos los colores menos el amarillo estaban en uno de los dos sets,')\n",
    "print('   ','pero que el amarillo ya estaba en colores y por tanto no aparece en el output.')\n",
    "\n",
    "# 16.-18.\n",
    "print('16.',diciembre.isdisjoint(enero),'porque hay temperaturas en enero que también están en diciembre.')\n",
    "print('17.',{'rojo','azul'} > colores)\n",
    "print('17.',{'rojo','azul'} < colores)"
   ]
  },
  {
   "cell_type": "markdown",
   "metadata": {
    "id": "aCLnA8lRcX2F"
   },
   "source": [
    "\n",
    "\n",
    "---\n"
   ]
  }
 ],
 "metadata": {
  "interpreter": {
   "hash": "a0ccb3fb2a12034e618c66a243d7fd6d5f37b04d32daddf997049a3f07fbb524"
  },
  "kernelspec": {
   "display_name": "Python 3.10.2 64-bit",
   "language": "python",
   "name": "python3"
  },
  "language_info": {
   "codemirror_mode": {
    "name": "ipython",
    "version": 3
   },
   "file_extension": ".py",
   "mimetype": "text/x-python",
   "name": "python",
   "nbconvert_exporter": "python",
   "pygments_lexer": "ipython3",
   "version": "3.10.2"
  },
  "orig_nbformat": 4
 },
 "nbformat": 4,
 "nbformat_minor": 2
}
