{
 "cells": [
  {
   "cell_type": "markdown",
   "metadata": {},
   "source": [
    "# Resolución Ejercicios tratamiento de ficheros 2"
   ]
  },
  {
   "cell_type": "markdown",
   "metadata": {},
   "source": [
    "---\n",
    "## Ejercicios crear y escribir en archivos de texto\n",
    "\n",
    "- Crear archivos\n",
    "\n",
    "    1. El archivo `'escribir.txt'` no existe, si intentaríamos abrirlo con `open()` en el modo por defecto, ¿da un error? ¿Por qué (no)?\n",
    "    2. Si intentaríamos abrirlo con `open()` en el modo 'r', ¿da un error? ¿Por qué (no)?\n",
    "    3. Si intentaríamos abrirlo con `open()` en el modo 'x', ¿da un error? ¿Por qué (no)?\n",
    "    4. Si intentaríamos abrirlo con `open()` en el modo 'w', ¿da un error? ¿Por qué (no)?\n",
    "    5. Si intentaríamos abrirlo con `open()` en el modo 'a', ¿da un error? ¿Por qué (no)?\n",
    "    6. Crea el archivo con `open()` y `with`. Llama la variable en que se guarderá la connexión con el archivo `f`. Usa `pass` para ocupar el código indentado sin hacer nada todavía.\n",
    "\n",
    "- Escribir contenido\n",
    "\n",
    "    7. Vuelve a abrir `'escribir.txt'` y usa `f.write()` para escribir `'Con este texto deja de ser vacío.'` en la primera línea. ¿Cómo cierras la connexión al archivo (si hace falta)?\n",
    "    8. Vuelve a abrir `'escribir.txt'` y usa `f.write()` para escribir `'Esta línea reemplaza la anterior.'` en la primera línea.\n",
    "    9. Vuelve a abrir `'escribir.txt'` y usa `f.writelines()` para escribir `'\\nsegunda', '\\ntercera', '\\ncuarta'` en las líneas 2, 3, y 4, *sin* tocar la primera línea.\n",
    "\n",
    "---"
   ]
  },
  {
   "cell_type": "code",
   "execution_count": 1,
   "metadata": {},
   "outputs": [
    {
     "name": "stdout",
     "output_type": "stream",
     "text": [
      "1: Sí, da un error porque no existe, y por defecto está en modo 'r', por lo tanto requiere un archivo existente\n",
      "2: Sí, da un error porque no existe, y está en modo 'r', por lo tanto requiere un archivo existente\n",
      "3: No da un error, porque en modo 'x' siempre crea un archivo, y daría un error si no existiera\n",
      "4: No da un error, porque en modo 'w' crea un archivo si no existiera, tampoco daría un error si sí existiera\n",
      "5: No da un error, porque en modo 'a' funciona como modo 'w': crea un archivo si no existiera, tampoco daría un error si sí existiera\n",
      "6: Crear un archivo\n",
      "7: Abrir en modo 'w' write\n",
      "8: Abrir en modo 'w' write\n",
      "9: Abrir en modo 'a' append\n"
     ]
    }
   ],
   "source": [
    "print('1. Sí, da un error porque no existe, y por defecto está en modo \\'r\\', por lo tanto requiere un archivo existente')\n",
    "# with open('escribir.txt') as f:\n",
    "#     pass\n",
    "# FileNotFoundError: [Errno 2] No such file or directory: 'escribir.txt'\n",
    "\n",
    "print('2. Sí, da un error porque no existe, y está en modo \\'r\\', por lo tanto requiere un archivo existente')\n",
    "# with open('escribir.txt', mode='r') as f:\n",
    "#     pass\n",
    "# FileNotFoundError: [Errno 2] No such file or directory: 'escribir.txt'\n",
    "\n",
    "print('3. No da un error, porque en modo \\'x\\' siempre crea un archivo, y daría un error si no existiera')\n",
    "# with open('escribir.txt', mode='x') as f:\n",
    "#     pass\n",
    "\n",
    "print('4. No da un error, porque en modo \\'w\\' crea un archivo si no existiera, tampoco daría un error si sí existiera')\n",
    "# with open('escribir.txt', mode='w') as f:\n",
    "#     pass\n",
    "\n",
    "print('5. No da un error, porque en modo \\'a\\' funciona como modo \\'w\\': crea un archivo si no existiera, tampoco daría un error si sí existiera')\n",
    "# with open('escribir.txt', mode='a') as f:\n",
    "#     pass\n",
    "\n",
    "print('6. Crear un archivo')\n",
    "with open('escribir.txt', mode='w') as f:\n",
    "    pass\n",
    "\n",
    "print('7. Abrir en modo \\'w\\' write')\n",
    "with open('escribir.txt', mode='w') as f:\n",
    "    f.write('Con este texto deja de ser vacío.')\n",
    "\n",
    "print('8. Abrir en modo \\'w\\' write')\n",
    "with open('escribir.txt', mode='w') as f:\n",
    "    f.write('Esta línea reemplaza la anterior.')\n",
    "\n",
    "print('9. Abrir en modo \\'a\\' append')\n",
    "with open('escribir.txt', mode='a') as f:\n",
    "    f.writelines(['\\nsegunda', '\\ntercera', '\\ncuarta'])"
   ]
  },
  {
   "cell_type": "markdown",
   "metadata": {},
   "source": [
    "---\n",
    "\n",
    "## Ejercicios archivos xml\n",
    "\n",
    "- La teoría de este apartado la pondrás en práctica en el apartado que viene.\n",
    "\n",
    "---"
   ]
  },
  {
   "cell_type": "code",
   "execution_count": null,
   "metadata": {},
   "outputs": [],
   "source": []
  },
  {
   "cell_type": "markdown",
   "metadata": {},
   "source": [
    "---\n",
    "## Ejercicios trabajar con xml desde Python\n",
    "\n",
    "- Abrir un archivo xml\n",
    "\n",
    "    10. Carga el submódulo adecuado y pónle el alias `ET`.\n",
    "    11. Carga el árbol xml del archivo 'ejercicio1.xml' a la variable `tree`.\n",
    "    12. Saca el elemento raíz de `tree` en la variable `root`.\n",
    "    13. ¿Cómo se llama el elemento raíz? Usa una propiedad para descubrirlo, y imprime el resultado.\n",
    "    14. ¿Tiene atributos la raíz?\n",
    "\n",
    "- Elementos hijos\n",
    "\n",
    "    15. ¿Cuántos hijos tiene la raíz? ¿Cómo se llaman?\n",
    "    16. El primer hijo, ¿tiene atributos?\n",
    "    17. El primer hijo, ¿tiene hijos o tiene texto directamente?\n",
    "    18. Del segundo hijo, su primer hijo, ¿tiene hijos o tiene texto directamente?\n",
    "    19. Del segundo hijo, su segundo hijo, ¿tiene hijos o tiene texto directamente?\n",
    "    20. Imprime el texto que haya en el elemento `hex` del primer hijo del tipo `color`.\n",
    "\n",
    "---"
   ]
  },
  {
   "cell_type": "code",
   "execution_count": 10,
   "metadata": {},
   "outputs": [
    {
     "name": "stdout",
     "output_type": "stream",
     "text": [
      "10. -\n",
      "11. <xml.etree.ElementTree.ElementTree object at 0x7f8f9a258790>\n",
      "12. <Element 'colores' at 0x7f8f9aca9400>\n",
      "13. colores\n",
      "14. {}\n",
      "15. 2\n",
      "    ['color', 'color']\n",
      "16. {'id': '1', 'name': 'turquesa'}\n",
      "17. Cuántos hijos tiene color : 3\n",
      "    elementos: ['pantone', 'rgb', 'hex']\n",
      "    texto: \n",
      "        \n",
      "18. Cuántos hijos tiene pantone : 0\n",
      "    texto: \n",
      "            425C\n",
      "        \n",
      "19. Cuántos hijos tiene rgb : 3\n",
      "    elementos: ['red', 'green', 'blue']\n",
      "20. root: color: hex: \n",
      "            3CDBC0\n",
      "        \n"
     ]
    }
   ],
   "source": [
    "# 10.\n",
    "print('10.', '-')\n",
    "import xml.etree.ElementTree as ET\n",
    "\n",
    "# 11.\n",
    "tree = ET.parse('../../../materiales-da-a/modulo-1/modulo-1-python-basico/assets/files/ejercicio1.xml')\n",
    "print('11.', tree)\n",
    "\n",
    "# 12.\n",
    "root = tree.getroot()\n",
    "print('12.', root)\n",
    "\n",
    "# 13. Se llama 'colores'\n",
    "print('13.', root.tag)\n",
    "\n",
    "# 14. No.\n",
    "print('14.', root.attrib)\n",
    "\n",
    "# 15. 2 hijos, tipo xml.etree.ElementTree.Element, tag = 'color'\n",
    "print('15.',len(root))\n",
    "print('   ',[element.tag for element in root])\n",
    "\n",
    "# 16. Sí, 'id' y 'name'\n",
    "print('16.',root[0].attrib)\n",
    "\n",
    "# 17. Sí, 3 hijos, no tiene texto\n",
    "print('17.','Cuántos hijos tiene', root[0].tag, ':', len(root[0]))\n",
    "print('   ','elementos:',[element.tag for element in root[0]])\n",
    "print('   ','texto:',root[0].text)\n",
    "\n",
    "# 18. No, solo texto\n",
    "print('18.','Cuántos hijos tiene', root[1][0].tag, ':', len(root[1][0]))\n",
    "print('   ','texto:',root[1][0].text)\n",
    "\n",
    "# 19. Sí, tiene 3 hijos\n",
    "print('19.','Cuántos hijos tiene', root[1][1].tag, ':', len(root[1][1]))\n",
    "print('   ','elementos:',[element.tag for element in root[1][1]])\n",
    "\n",
    "# 20. 3CDBC0\n",
    "print('20.','root: color: hex:',root.find('color').find('hex').text)"
   ]
  },
  {
   "cell_type": "markdown",
   "metadata": {},
   "source": [
    "---"
   ]
  }
 ],
 "metadata": {
  "interpreter": {
   "hash": "a0ccb3fb2a12034e618c66a243d7fd6d5f37b04d32daddf997049a3f07fbb524"
  },
  "kernelspec": {
   "display_name": "Python 3.10.2 64-bit",
   "language": "python",
   "name": "python3"
  },
  "language_info": {
   "codemirror_mode": {
    "name": "ipython",
    "version": 3
   },
   "file_extension": ".py",
   "mimetype": "text/x-python",
   "name": "python",
   "nbconvert_exporter": "python",
   "pygments_lexer": "ipython3",
   "version": "3.9.7"
  },
  "orig_nbformat": 4
 },
 "nbformat": 4,
 "nbformat_minor": 2
}
