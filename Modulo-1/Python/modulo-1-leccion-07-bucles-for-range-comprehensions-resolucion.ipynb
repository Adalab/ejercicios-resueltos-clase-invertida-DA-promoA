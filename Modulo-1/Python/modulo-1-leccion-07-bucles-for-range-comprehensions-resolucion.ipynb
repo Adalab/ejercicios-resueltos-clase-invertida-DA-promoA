{
 "cells": [
  {
   "cell_type": "markdown",
   "metadata": {},
   "source": [
    "# Resolución ejercicios Bucles for"
   ]
  },
  {
   "cell_type": "markdown",
   "metadata": {
    "id": "5PcBreuKcX1-"
   },
   "source": [
    "\n",
    "---\n",
    "\n",
    "\n",
    "## Ejercicios: for, continue, break, else, pass\n",
    "\n",
    "- Bucles for\n",
    "\n",
    "  1. De tu nombre, imprime todas las letras uno por uno.\n",
    "\n",
    "- Saltar iteraciones\n",
    "\n",
    "  2. De la frase `'Hello'` imprime todas las letras que no sean una `'l'` usando `if`.\n",
    "  3. Haz lo mismo que en 2) usando `continue`.\n",
    "  4. De la frase `'Hello'` imprime todas las letras parando el bucle si encuentras una `'o'`.\n",
    "\n",
    "\n",
    "- Si no se ha interrumpido en ninguna iteración\n",
    "\n",
    "  5. Al ejercicio 2), añade 'no breaks' al final del bucle.\n",
    "  6. Al ejercicio 4), añade 'no breaks' al final del bucle.\n",
    "\n",
    "- Especificar un hueco para código futuro\n",
    "\n",
    "  7. En el ejercicio 1) reserva un hueco para el caso en que encuentre una 'x' en tu nombre, pero déjalo sin especificar.\n",
    "\n",
    "---\n",
    "\n"
   ]
  },
  {
   "cell_type": "code",
   "execution_count": 3,
   "metadata": {},
   "outputs": [
    {
     "name": "stdout",
     "output_type": "stream",
     "text": [
      "1.\n",
      "A\n",
      "n\n",
      "n\n",
      "e\n",
      "\n",
      "2.\n",
      "H\n",
      "e\n",
      "o\n",
      "\n",
      "3.\n",
      "H\n",
      "e\n",
      "o\n",
      "\n",
      "4.\n",
      "H\n",
      "e\n",
      "l\n",
      "l\n"
     ]
    }
   ],
   "source": [
    "# 1.\n",
    "print('1.')\n",
    "for letra in 'Anne':\n",
    "    print(letra)\n",
    "print() # imprimir linea vacía para que se leen más claro los resultados\n",
    "\n",
    "# 2.\n",
    "print('2.')\n",
    "for x in 'Hello':\n",
    "    if x != 'l':\n",
    "        print(x)\n",
    "print() \n",
    "\n",
    "# 3.\n",
    "print('3.')\n",
    "for x in 'Hello':\n",
    "    if x == 'l':\n",
    "        continue    \n",
    "    print(x)\n",
    "print()\n",
    "\n",
    "# 4.\n",
    "print('4.')\n",
    "for x in 'Hello':\n",
    "    if x == 'o':\n",
    "        break\n",
    "    print(x)"
   ]
  },
  {
   "cell_type": "code",
   "execution_count": 14,
   "metadata": {},
   "outputs": [
    {
     "name": "stdout",
     "output_type": "stream",
     "text": [
      "\n",
      "5)\n",
      "H\n",
      "e\n",
      "o\n",
      "no breaks\n",
      "\n",
      "6)\n",
      "H\n",
      "e\n",
      "l\n",
      "l\n",
      "\n",
      "7)\n",
      "A\n",
      "n\n",
      "n\n",
      "e\n"
     ]
    }
   ],
   "source": [
    "# 5.\n",
    "print('5.')\n",
    "for x in 'Hello':\n",
    "    if x != 'l':\n",
    "        print(x)\n",
    "else:\n",
    "    print('no breaks')\n",
    "print()\n",
    "\n",
    "# 6.\n",
    "print('6.')\n",
    "for x in 'Hello':\n",
    "    if x == 'o':\n",
    "        break\n",
    "    print(x)\n",
    "else:\n",
    "    print('no breaks')\n",
    "print()\n",
    "\n",
    "# 7.\n",
    "print('7.')\n",
    "for letra in 'Anne':\n",
    "    if letra == 'x':\n",
    "        continue\n",
    "    print(letra)"
   ]
  },
  {
   "cell_type": "markdown",
   "metadata": {
    "id": "5PcBreuKcX1-"
   },
   "source": [
    "\n",
    "---\n",
    "\n",
    "\n",
    "## Ejercicios: range\n",
    "\n",
    "- Con un argumento\n",
    "\n",
    "  8. Define e imprime un rango de 0 a 6 (excluido).\n",
    "  9. Define e imprime un rango de 3 elementos.\n",
    "\n",
    "- Con dos argumentos\n",
    "\n",
    "  10. Define e imprime un rango de 3 a 6 ambos incluidos.\n",
    "  11. Define e imprime un rango de 5 a 9 ambos excluidos.\n",
    "  12. Define e imprime un rango de 3 elementos que empieza en 2.\n",
    "\n",
    "- Con tres argumentos\n",
    "\n",
    "  13. Define e imprime un rango que empieza en 2, aumentando cada paso por 3, que pare antes de llegar al número 13.\n",
    "  14. Define e imprime un rango de impares hasta 10.\n",
    "\n",
    "---\n",
    "\n"
   ]
  },
  {
   "cell_type": "code",
   "execution_count": 5,
   "metadata": {},
   "outputs": [
    {
     "name": "stdout",
     "output_type": "stream",
     "text": [
      "8.\n",
      "0\n",
      "1\n",
      "2\n",
      "3\n",
      "4\n",
      "5\n",
      "\n",
      "9.\n",
      "0\n",
      "1\n",
      "2\n"
     ]
    }
   ],
   "source": [
    "# 8.\n",
    "print('8.')\n",
    "for x in range(6): print(x)\n",
    "print()\n",
    "\n",
    "# 9.\n",
    "print('9.')\n",
    "for x in range(3): print(x)"
   ]
  },
  {
   "cell_type": "code",
   "execution_count": 6,
   "metadata": {},
   "outputs": [
    {
     "name": "stdout",
     "output_type": "stream",
     "text": [
      "10.\n",
      "3\n",
      "4\n",
      "5\n",
      "6\n",
      "\n",
      "11.\n",
      "6\n",
      "7\n",
      "8\n",
      "\n",
      "12.\n",
      "2\n",
      "3\n",
      "4\n",
      "\n"
     ]
    }
   ],
   "source": [
    "# 10.\n",
    "print('10.')\n",
    "for x in range(3,7): print(x)\n",
    "print()\n",
    "\n",
    "# 11.\n",
    "print('11.')\n",
    "for x in range(6,9): print(x)\n",
    "print()\n",
    "\n",
    "# 12.\n",
    "print('12.')\n",
    "for x in range(2,5): print(x)\n",
    "print()"
   ]
  },
  {
   "cell_type": "code",
   "execution_count": 7,
   "metadata": {},
   "outputs": [
    {
     "name": "stdout",
     "output_type": "stream",
     "text": [
      "13.\n",
      "2\n",
      "5\n",
      "8\n",
      "11\n",
      "\n",
      "14.\n",
      "1\n",
      "3\n",
      "5\n",
      "7\n",
      "9\n"
     ]
    }
   ],
   "source": [
    "# 13.\n",
    "print('13.')\n",
    "for x in range(2,13,3): print(x)\n",
    "print()\n",
    "\n",
    "# 14.\n",
    "print('14.')\n",
    "for x in range(1,10,2): print(x)"
   ]
  },
  {
   "cell_type": "markdown",
   "metadata": {
    "id": "5PcBreuKcX1-"
   },
   "source": [
    "\n",
    "---\n",
    "\n",
    "\n",
    "## Ejercicios: list comprehensions\n",
    "\n",
    "- List comprehensions sin filtrar\n",
    "\n",
    "  15. Pasa todos los caracteres (`letra`) de `'Hello'` a la lista `hola`. Imprime `hola`.\n",
    "  16. Pasa todos los números (`num`) de 6 a 18 (excluido) a la lista `nums`. Imprime `nums`.\n",
    "\n",
    "- List comprehensions filtradas\n",
    "\n",
    "  17. Pasa todos los caracteres (`x`) de `'Hello'` que no sean una `'l'` a la lista `hola`. Imprime `hola`.\n",
    "  18. Pasa todos los números (`x`) de 6 a 18 (excluido) que sean divisibles por `5` a la lista `nums`. Imprime `nums`.\n",
    "\n",
    "- List comprehensions con conversión\n",
    "\n",
    "  19. Pasa todos los caracteres (`x`) de `'Hello'` convertido en mayúsculas a la lista `hola2`. Imprime `hola2`.\n",
    "  20. Pasa los resultados del ejercicio 18. divididos por `5` en forma de `int` a la lista `nums2`. Imprime `nums2`.\n",
    "\n",
    "\n",
    "---\n",
    "\n"
   ]
  },
  {
   "cell_type": "code",
   "execution_count": 8,
   "metadata": {},
   "outputs": [
    {
     "name": "stdout",
     "output_type": "stream",
     "text": [
      "15. ['H', 'e', 'l', 'l', 'o']\n",
      "16. [6, 7, 8, 9, 10, 11, 12, 13, 14, 15, 16, 17]\n",
      "17. ['H', 'e', 'o']\n",
      "18. [10, 15]\n",
      "19. ['H', 'E', 'L', 'L', 'O']\n",
      "20. [2, 3]\n"
     ]
    }
   ],
   "source": [
    "# 15.\n",
    "hola = [letra for letra in 'Hello']\n",
    "print('15.', hola)\n",
    "\n",
    "# 16.\n",
    "nums = [num for num in range(6,18)]\n",
    "print('16.', nums)\n",
    "\n",
    "# 17.\n",
    "hola = [x for x in 'Hello' if x != 'l']\n",
    "print('17.', hola)\n",
    "\n",
    "# 18.\n",
    "nums = [x for x in range(6,18) if x % 5 == 0]\n",
    "print('18.', nums)\n",
    "\n",
    "# 19.\n",
    "hola2 = [x.upper() for x in 'Hello']\n",
    "print('19.', hola2)\n",
    "\n",
    "# 20.\n",
    "nums2 = [int(x/5) for x in range(6,18) if x % 5 == 0]\n",
    "print('20.', nums2)\n"
   ]
  }
 ],
 "metadata": {
  "interpreter": {
   "hash": "a0ccb3fb2a12034e618c66a243d7fd6d5f37b04d32daddf997049a3f07fbb524"
  },
  "kernelspec": {
   "display_name": "Python 3.10.2 64-bit",
   "language": "python",
   "name": "python3"
  },
  "language_info": {
   "codemirror_mode": {
    "name": "ipython",
    "version": 3
   },
   "file_extension": ".py",
   "mimetype": "text/x-python",
   "name": "python",
   "nbconvert_exporter": "python",
   "pygments_lexer": "ipython3",
   "version": "3.9.7"
  },
  "orig_nbformat": 4
 },
 "nbformat": 4,
 "nbformat_minor": 2
}
