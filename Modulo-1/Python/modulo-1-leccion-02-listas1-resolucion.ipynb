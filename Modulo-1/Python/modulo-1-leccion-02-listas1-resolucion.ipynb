{
 "cells": [
  {
   "cell_type": "markdown",
   "metadata": {
    "id": "TR1t7jBeCc57"
   },
   "source": [
    "# Resolución ejercicios Listas 1"
   ]
  },
  {
   "cell_type": "markdown",
   "metadata": {
    "id": "5PcBreuKcX1-"
   },
   "source": [
    "\n",
    "\n",
    "---\n",
    "\n",
    "\n",
    "## Ejercicios: definir listas\n",
    "\n",
    "- Definir listas\n",
    "\n",
    "  1. Haz una lista `colores` de los primeros 6 colores que te vienen a la mente.\n",
    "  2. Haz una lista `buses` de las líneas de autobúses que pasan por tu casa.\n",
    "  3. Apunta la previsión de temperaturas máximas para todos los días de esta semana en `temperaturas`.\n",
    "\n",
    "- Convertir a listas\n",
    "\n",
    "  4. Convierte tu(s) nombre(s) a una lista `nombres` de caracteres.\n",
    "  5. Convierte tu(s) apellido(s) a una lista `apellidos` de caracteres.\n",
    "\n",
    "\n",
    "---\n",
    "\n"
   ]
  },
  {
   "cell_type": "code",
   "execution_count": 5,
   "metadata": {},
   "outputs": [],
   "source": [
    "colores = ['rojo', 'azul', 'verde', 'amarillo', 'naranja', 'rosa']\n",
    "buses = [55, 81, 108, 247, 'N17']\n",
    "temperaturas = [13, 12, 13, 11, 10, 10, 11, 12, 14]\n",
    "\n",
    "nombres = list('Anne Marijke')\n",
    "apellidos = list('Krus')"
   ]
  },
  {
   "cell_type": "markdown",
   "metadata": {
    "id": "5PcBreuKcX1-"
   },
   "source": [
    "\n",
    "\n",
    "---\n",
    "\n",
    "\n",
    "## Ejercicios: propiedades de listas\n",
    "\n",
    "- Usar `len()`, `min()`, y `max()`\n",
    "\n",
    "  6. ¿Cuántos búses pasan por tu casa?\n",
    "  7. ¿Cuántos caracteres hay en tu apellido(s) (inluyendo los espacios)?\n",
    "  8. ¿Qué son las temperaturas máximas en el mejor (`t_max`) y peor (`t_min`) día para esta semana?\n",
    "\n",
    "- Usar `in`, `not in`\n",
    "\n",
    "  9. Hay una 'e' en tu nombre?\n",
    "  10. Tienes el color 'rosa' en la lista de colores?\n",
    "  11. Puedo escribir tu nombre *sin* usar una 'x'? (`not in`)\n",
    "\n",
    "\n",
    "---\n",
    "\n"
   ]
  },
  {
   "cell_type": "code",
   "execution_count": 8,
   "metadata": {},
   "outputs": [
    {
     "name": "stdout",
     "output_type": "stream",
     "text": [
      "6. 5\n",
      "7. 4\n",
      "8. 14 ºC y 10 ºC\n",
      "9. True\n",
      "10. True\n",
      "11. True\n"
     ]
    }
   ],
   "source": [
    "len(buses)\n",
    "len(apellidos)\n",
    "t_max = max(temperaturas)\n",
    "t_min = min(temperaturas)\n",
    "\n",
    "print('6.',len(buses))\n",
    "print('7.',len(apellidos))\n",
    "print('8.',t_max,'ºC y',t_min,'ºC')\n",
    "\n",
    "print('9.','e' in nombres)\n",
    "print('10.','rosa' in colores)\n",
    "print('11.','x' not in nombres)"
   ]
  },
  {
   "cell_type": "markdown",
   "metadata": {
    "id": "5PcBreuKcX1-"
   },
   "source": [
    "\n",
    "\n",
    "---\n",
    "\n",
    "\n",
    "## Ejercicios: métodos para listas\n",
    "\n",
    "- Hacer copias y borrar sus contenidos\n",
    "\n",
    "  12. Copia el contenido de `temperaturas` a `temperaturas2`, y `temperaturas3`.\n",
    "  13. Vacía el contenido de la variable `temperaturas2`\n",
    "  14. Imprime el contenido de `temperaturas` y `temperaturas2`.\n",
    "  15. Copia el contenido de `nombres` a `nombres2`.\n",
    "  16. Copia el contenido de `apellidos` a `apellidos2`.\n",
    "\n",
    "- Cambiar el orden de los contenidos\n",
    "\n",
    "  17. Haz que `temperatuas3` demuestre las temperaturas de esta semana en orden anticronológico.\n",
    "  18. Ordena los caracteres de tus nombres y tus apellidos en las listas `nombres2` y `apellidos2`. Imprime el resultado y investiga: ¿qué orden ha cogido? ¿Cómo trata las mayúsculas?\n",
    "\n",
    "- Contar duplicados\n",
    "\n",
    "  19. ¿Cuántas 'a' tiene tu nombre? ¿Y cuántas 'o'?\n",
    "  20. Verifica que los resultados de 19. son iguales para la lista `nombres2`.\n",
    "  21. ¿Cuántas veces esta semana llega la temperatura a `t_max`? ¿Y cuántas a `t_min`?\n",
    "\n",
    "- Bonus\n",
    "\n",
    "  22. Imprime esta frase, pero con los datos tuyos metido *como variables* en los cuatro sitios en que ves un número: 'La temperatura máxima esta semana será 14 ºC, que ocurrirá en 1 días(s). El día más friolero tendrá una temperatura máxima de 10 ºC, que ocurrirá en 2 día(s).'\n",
    "---\n",
    "\n"
   ]
  },
  {
   "cell_type": "code",
   "execution_count": 21,
   "metadata": {
    "id": "Z5I4yJpqcX2F"
   },
   "outputs": [
    {
     "name": "stdout",
     "output_type": "stream",
     "text": [
      "14. temperaturas: [13, 12, 13, 11, 10, 10, 11, 12, 14] , temperaturas2: []\n",
      "17. temperaturas3: [14, 12, 11, 10, 10, 11, 13, 12, 13]\n",
      "18. nombres2: [' ', 'A', 'M', 'a', 'e', 'e', 'i', 'j', 'k', 'n', 'n', 'r'] apellidos2: ['K', 'r', 's', 'u']\n",
      "Primero los espacios, luego las mayúsculas de A-Z, y por último las menúsculas de a-z.\n",
      "19. nombres e: 2 , o: 0\n",
      "20. nombres2 e: 2 , o: 0\n",
      "21. temp max: 1 , min: 2\n",
      "22. La temperatura máxima esta semana será 14 ºC, que ocurrirá en 1 días(s). El día más friolero tendrá una temperatura máxima de 10 ºC, que ocurrirá en 2 día(s).\n"
     ]
    }
   ],
   "source": [
    "# 12.\n",
    "temperaturas2 = temperaturas.copy()\n",
    "temperaturas3 = temperaturas.copy()\n",
    "\n",
    "# 13.\n",
    "temperaturas2.clear()\n",
    "\n",
    "# 14.\n",
    "print('14.', 'temperaturas:', temperaturas, ', temperaturas2:', temperaturas2)\n",
    "\n",
    "# 15 y 16.\n",
    "nombres2 = nombres.copy()\n",
    "apellidos2 = apellidos.copy()\n",
    "\n",
    "# 17.\n",
    "temperaturas3.reverse()\n",
    "print('17.', 'temperaturas3:', temperaturas3)\n",
    "\n",
    "# 18.\n",
    "nombres2.sort()\n",
    "apellidos2.sort()\n",
    "print('18.', 'nombres2:', nombres2, 'apellidos2:', apellidos2)\n",
    "print('Primero los espacios, luego las mayúsculas de A-Z, y por último las menúsculas de a-z.')\n",
    "\n",
    "# 19.\n",
    "print('19.', 'nombres e:', nombres.count('e'), ', o:',nombres.count('o'))\n",
    "\n",
    "# 20.\n",
    "print('20.', 'nombres2 e:', nombres2.count('e'), ', o:',nombres2.count('o'))\n",
    "\n",
    "# 21. \n",
    "print('21.', 'temp max:', temperaturas.count(t_max), ', min:', temperaturas.count(t_min))\n",
    "\n",
    "# Bonus, 22.\n",
    "print('22. La temperatura máxima esta semana será', t_max, 'ºC, que ocurrirá en', temperaturas.count(t_max), 'días(s).', \n",
    "      'El día más friolero tendrá una temperatura máxima de', t_min, 'ºC, que ocurrirá en', temperaturas.count(t_min), 'día(s).')"
   ]
  }
 ],
 "metadata": {
  "interpreter": {
   "hash": "b3ba2566441a7c06988d0923437866b63cedc61552a5af99d1f4fb67d367b25f"
  },
  "kernelspec": {
   "display_name": "Python 3.7.6 64-bit ('base': conda)",
   "language": "python",
   "name": "python3"
  },
  "language_info": {
   "codemirror_mode": {
    "name": "ipython",
    "version": 3
   },
   "file_extension": ".py",
   "mimetype": "text/x-python",
   "name": "python",
   "nbconvert_exporter": "python",
   "pygments_lexer": "ipython3",
   "version": "3.7.6"
  },
  "orig_nbformat": 4
 },
 "nbformat": 4,
 "nbformat_minor": 2
}
