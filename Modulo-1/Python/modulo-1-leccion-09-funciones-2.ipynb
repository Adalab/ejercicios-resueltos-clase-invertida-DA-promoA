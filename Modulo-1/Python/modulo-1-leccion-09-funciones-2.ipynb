{
 "cells": [
  {
   "cell_type": "markdown",
   "metadata": {},
   "source": [
    "# Resolución Ejercicios funciones 2"
   ]
  },
  {
   "cell_type": "markdown",
   "metadata": {},
   "source": [
    "---\n",
    "\n",
    "## Ejercicios return\n",
    "\n",
    "- Usar return\n",
    "\n",
    "    19. Cambia la función `listarCaracteresEnComun()` con los argumentos arbitrarios del apartado anterior para que no te imprime sino que devuelve la lista `comun`.\n",
    "    20. Llama a la función asignando el resultado a la variable `en_todos`.\n",
    "\n",
    "- Global o local, ¿a cuál pertenecen las siguientes variables?\n",
    "\n",
    "    21. `en_todos`\n",
    "    22. `comun`\n",
    "    23. `input_strings`\n",
    "    24. `a` en el ejercicio 6\n",
    "\n",
    "---"
   ]
  },
  {
   "cell_type": "code",
   "execution_count": 1,
   "metadata": {},
   "outputs": [
    {
     "name": "stdout",
     "output_type": "stream",
     "text": [
      "['s', 'j']\n"
     ]
    }
   ],
   "source": [
    "# 19.\n",
    "def listarCaracteresEnComun(*input_strings):\n",
    "    strings = []\n",
    "    for input_string in input_strings:\n",
    "        strings.append(input_string.lower())\n",
    "\n",
    "    comun = list(strings[0])\n",
    "\n",
    "    for string in strings[1:]:\n",
    "        for letra in comun:\n",
    "            if letra not in string:\n",
    "                comun.remove(letra)\n",
    "    return comun                                # 19.\n",
    "\n",
    "# 20.\n",
    "en_todos = listarCaracteresEnComun('Soja','Ojos','Justo','Ejes')\n",
    "print(en_todos)\n",
    "\n",
    "# 21. global\n",
    "# 22. local\n",
    "# 23. local\n",
    "# 24. local"
   ]
  },
  {
   "cell_type": "markdown",
   "metadata": {},
   "source": [
    "---\n",
    "\n",
    "## Ejercicios clases\n",
    "\n",
    "- De momento no hace falta que definis clases propias, sólo que sabéis que existen y cómo leerlas por si las encontráis en vuestro trabajo después del bootcamp.\n",
    "\n",
    "---"
   ]
  }
 ],
 "metadata": {
  "interpreter": {
   "hash": "13b61c53029f9938c0e2f8047b7792943f3985c3124654a984486e1d28611813"
  },
  "kernelspec": {
   "display_name": "Python 3.9.7 ('base')",
   "language": "python",
   "name": "python3"
  },
  "language_info": {
   "codemirror_mode": {
    "name": "ipython",
    "version": 3
   },
   "file_extension": ".py",
   "mimetype": "text/x-python",
   "name": "python",
   "nbconvert_exporter": "python",
   "pygments_lexer": "ipython3",
   "version": "3.9.7"
  },
  "orig_nbformat": 4
 },
 "nbformat": 4,
 "nbformat_minor": 2
}
