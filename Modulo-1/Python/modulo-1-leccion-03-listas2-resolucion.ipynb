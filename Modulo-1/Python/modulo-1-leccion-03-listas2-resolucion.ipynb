{
 "cells": [
  {
   "cell_type": "markdown",
   "metadata": {},
   "source": [
    "# Resolución ejercicios Listas 2"
   ]
  },
  {
   "cell_type": "markdown",
   "metadata": {},
   "source": [
    "\n",
    "\n",
    "---\n",
    "\n",
    "\n",
    "## Ejercicios: sacar contenido en un índice conocido\n",
    "\n",
    "- Definir listas\n",
    "\n",
    "  1. La lista de `compras` contiene 'peras', 'garbanzos', 'pan', y 'papel higiénico'.\n",
    "  2. La lista `harrypotter` contiene 'la piedra filosofal', 'la cámara secreta', 'el prisionero de Azkaban', 'el cáliz de fuego', 'la Orden del Fénix', 'el misterio del príncipe', y 'las reliquias de la Muerte'.\n",
    "  3. La lista `dias_es` contiene 'lunes', 'martes', 'miércoles', 'jueves', 'viernes', 'sábado', y 'domingo'.\n",
    "  4. La lista `numeros_primos` contiene 2, 3, 5, 7, 11, 13, 17, 19, 23, y 29.\n",
    "\n",
    "- Los índices `0` y `1`\n",
    "  \n",
    "  5. ¿Qué está en el primer lugar de la lista de `compras`?\n",
    "  6. ¿Qué número primo corresponde al índice `1`?\n",
    "\n",
    "- Índices predeterminados\n",
    "\n",
    "  7. ¿Cómo se llama el cuarto libro de Harry Potter?\n",
    "  8. ¿Cuál es el quinto día de la semana?\n",
    "  9. ¿Cuál era el último que he añadido a la lista de compras?\n",
    "  \n",
    "---\n",
    "\n"
   ]
  },
  {
   "cell_type": "code",
   "execution_count": 1,
   "metadata": {
    "id": "Z5I4yJpqcX2F"
   },
   "outputs": [
    {
     "name": "stdout",
     "output_type": "stream",
     "text": [
      "5. peras\n",
      "6. 3\n",
      "7. el cáliz de fuego\n",
      "8. viernes\n",
      "9. papel higiénico\n"
     ]
    }
   ],
   "source": [
    "# 1.-4.\n",
    "compras = ['peras', 'garbanzos', 'pan', 'papel higiénico']\n",
    "harrypotter = ['la piedra filosofal', 'la cámara secreta', 'el prisionero de Azkaban', 'el cáliz de fuego', 'la Orden del Fénix', 'el misterio del príncipe', 'las reliquias de la Muerte']\n",
    "dias_es = ['lunes', 'martes', 'miércoles', 'jueves', 'viernes', 'sábado', 'domingo']\n",
    "numeros_primos = [2, 3, 5, 7, 11, 13, 17, 19, 23, 29]\n",
    "\n",
    "# 5.-6.\n",
    "print('5.',compras[0])\n",
    "print('6.',numeros_primos[1])\n",
    "\n",
    "# 7.-9.\n",
    "print('7.',harrypotter[3])\n",
    "print('8.',dias_es[4])\n",
    "print('9.',compras[len(compras)-1])"
   ]
  },
  {
   "cell_type": "markdown",
   "metadata": {
    "id": "5PcBreuKcX1-"
   },
   "source": [
    "\n",
    "\n",
    "---\n",
    "\n",
    "\n",
    "## Ejercicios: índices del final de la lista y el método `.index()`\n",
    "\n",
    "- Definir otra lista\n",
    "\n",
    "  10. La lista `dias_en` contiene 'monday', 'tuesday', 'wednesday', 'thursday', 'friday', 'saturday', y 'sunday'.\n",
    "  11. Define temperatures_diciembre con copiar y pegar:\n",
    "  ```\n",
    "  temperaturas_diciembre = [10, 10, 13, 14, 12, 15, \n",
    "                            12, 11, 13, 17, 18, 15, \n",
    "                            15, 17, 17, 13, 13, 11,\n",
    "                            12, 10, 12, 14, 12, 12,\n",
    "                            11, 12, 16, 16, 14, 17, 18]\n",
    "\n",
    "- Finales de listas\n",
    "\n",
    "  12. ¿Cuál era el penúltimo libro de Harry Potter?\n",
    "  13. ¿Qué era el último que he añadido a la lista de compras? (Encuentra otra forma que en 9.)\n",
    "\n",
    "- Usar funciónes de la última clase con `.index()`\n",
    "\n",
    "  14. ¿Está 'arroz' en la lista de compras? ¿Si está, ¿dónde?\n",
    "  15. ¿Está 'pan' en la lista de compras? ¿Si está, ¿dónde?\n",
    "\n",
    "- Bonus\n",
    "\n",
    "  16. ¿Qué era la temperatura máxima en diciembre, y en qué fecha occurrió por primera vez?\n",
    "  17. Encuentra el índice de `'miércoles'` en `dias_es` y úsalo para sacar la traducción al inglés de la lista `dias_en`.\n",
    "  18. Traduce `'saturday'` al español usando las listas definidas.\n",
    "\n",
    "---\n",
    "\n"
   ]
  },
  {
   "cell_type": "code",
   "execution_count": 2,
   "metadata": {},
   "outputs": [
    {
     "name": "stdout",
     "output_type": "stream",
     "text": [
      "12. el misterio del príncipe\n",
      "13. papel higiénico\n",
      "14. Está 'arroz' en compras? False\n",
      "15. Está 'pan' en compras? True\n",
      "    Está en el índice 2\n",
      "16. Temperatura máxima: 18 ºC, primer día en que occurrió: 11 de diciembre.\n",
      "17. El índice de míercoles es 2 que se traduce a wednesday\n",
      "18. sábado\n"
     ]
    }
   ],
   "source": [
    "# 10.-11.\n",
    "dias_en = ['monday', 'tuesday', 'wednesday', 'thursday', 'friday', 'saturday', 'sunday']\n",
    "temperaturas_diciembre = [10, 10, 13, 14, 12, 15, \n",
    "                          12, 11, 13, 17, 18, 15, \n",
    "                          15, 17, 17, 13, 13, 11,\n",
    "                          12, 10, 12, 14, 12, 12,\n",
    "                          11, 12, 16, 16, 14, 17, 18]\n",
    "\n",
    "# 12.-13.\n",
    "print('12.',harrypotter[-2])\n",
    "print('13.',compras[-1])\n",
    "\n",
    "# 14.-15.\n",
    "print('14.',\"Está 'arroz' en compras?\",'arroz' in compras)\n",
    "print('15.',\"Está 'pan' en compras?\",'pan' in compras)\n",
    "print('    Está en el índice', compras.index('pan'))\n",
    "\n",
    "# Bonus\n",
    "\n",
    "# 16.\n",
    "print('16.', 'Temperatura máxima:', max(temperaturas_diciembre),\n",
    "             'ºC, primer día en que occurrió:', temperaturas_diciembre.index(max(temperaturas_diciembre)) + 1,\n",
    "             'de diciembre.')\n",
    "\n",
    "# 17. \n",
    "print('17.','El índice de míercoles es', dias_es.index('miércoles'), \n",
    "            'que se traduce a', dias_en[dias_es.index('miércoles')])\n",
    "\n",
    "\n",
    "# 18. \n",
    "print('18.', dias_es[dias_en.index('saturday')])"
   ]
  },
  {
   "cell_type": "markdown",
   "metadata": {
    "id": "_Qv3Rnw8OWAv"
   },
   "source": [
    "**Repaso**:\n",
    "- El index `[:]`.\n",
    "- El trozo `[x:]`.\n",
    "- El trozo `[:x]`.\n",
    "- Sacar cada 2o índice con `[::2]`, cada 3o con `[::3]`, etc.\n",
    "\n",
    "Y combinaciónes como:\n",
    "- El trozo `[a:b]`.\n",
    "- El trozo `[a:-b]`.\n",
    "- Los trozos `[:-b]` y `[-a:]`.\n",
    "- Los trozos `[a:b:2]`, `[:-b:3]`, etc.\n",
    "\n"
   ]
  },
  {
   "cell_type": "markdown",
   "metadata": {
    "id": "5PcBreuKcX1-"
   },
   "source": [
    "\n",
    "\n",
    "---\n",
    "\n",
    "\n",
    "## Ejercicios: sacar trozos por índices\n",
    "\n",
    "- Inicio de la lista, índices positivos\n",
    "\n",
    "  19. Saca las primeras tres cosas de `compras`.\n",
    "  20. Saca el primer día que hay en `dias_en`.\n",
    "  21. Saca los primeros cuatro libros de Harry Potter.\n",
    "\n",
    "- Finales de la lista, índices negativos\n",
    "\n",
    "  22. Saca las últimas dos cosas de `compras`.\n",
    "  23. Saca los últimos tres días que hay en `días_es`.\n",
    "\n",
    "- Trozos entremedio\n",
    "\n",
    "  24. Saca el segundo (index positivo) al penúltimo (index negativo) de `compras`.\n",
    "  25. Saca el tercer (index *negativo*) día al segundo al último (index *positivo*) de la semana en inglés.\n",
    "\n",
    "- Saltando índices\n",
    "\n",
    "  26. Saca la temperatura en diciembre cada 7 días.\n",
    "  27. Saca cada segundo número primo.\n",
    "\n",
    "- Bonus\n",
    "\n",
    "  28. Me interesan las temperaturas en diciembre a partir del valor máximo.\n",
    "  29. En ese nuevo trozo, encuentra el índice de la temperatura mínima.\n",
    "  30. ¿Cómo evolucionó la temperatura del día más caluroso al día más friolero en diciembre?\n",
    "\n",
    "- Super extra bonus\n",
    "\n",
    "  31. ¿Puedes resolver los ejercicios 28.-30. en una sola 'línea' de código? Recuerda que usar múltiples líneas, y espacios para organizar los parentesis ayuda mucho para la legibilidad. Aún así no será muy legible este caso.\n",
    "\n",
    "\n",
    "---\n",
    "\n"
   ]
  },
  {
   "cell_type": "code",
   "execution_count": 3,
   "metadata": {},
   "outputs": [
    {
     "name": "stdout",
     "output_type": "stream",
     "text": [
      "19. ['peras', 'garbanzos', 'pan']\n",
      "20. monday\n",
      "21. ['la piedra filosofal', 'la cámara secreta', 'el prisionero de Azkaban', 'el cáliz de fuego']\n",
      "22. ['pan', 'papel higiénico']\n",
      "23. ['viernes', 'sábado', 'domingo']\n",
      "24. ['garbanzos', 'pan']\n",
      "25. ['wednesday', 'thursday', 'friday']\n",
      "26. [10, 11, 17, 14, 14]\n",
      "27. [2, 5, 11, 17, 23]\n",
      "28. [18, 15, 15, 17, 17, 13, 13, 11, 12, 10, 12, 14, 12, 12, 11, 12, 16, 16, 14, 17, 18]\n",
      "29. 9\n",
      "30. [18, 15, 15, 17, 17, 13, 13, 11, 12, 10]\n",
      "31a. [18, 15, 15, 17, 17, 13, 13, 11, 12, 10]\n",
      "31b. [18, 15, 15, 17, 17, 13, 13, 11, 12, 10]\n"
     ]
    }
   ],
   "source": [
    "print('19.', compras[0:3])\n",
    "print('20.', dias_en[0])\n",
    "print('21.', harrypotter[0:4])\n",
    "\n",
    "print('22.', compras[-2:])\n",
    "print('23.', dias_es[-3:])\n",
    "\n",
    "print('24.', compras[1:-1])\n",
    "print('25.', dias_en[-5:5])\n",
    "\n",
    "print('26.', temperaturas_diciembre[::7])\n",
    "print('27.', numeros_primos[::2])\n",
    "\n",
    "# Bonus\n",
    "a_partir_del_max = temperaturas_diciembre[ temperaturas_diciembre.index( max(temperaturas_diciembre) ) :]\n",
    "print('28.', a_partir_del_max )\n",
    "print('29.', a_partir_del_max.index( min(a_partir_del_max) ))\n",
    "print('30.', a_partir_del_max[ : a_partir_del_max.index( min(a_partir_del_max) )+1 ] )\n",
    "\n",
    "# Super extra bonus\n",
    "print('31a.', temperaturas_diciembre[ \n",
    "                                       temperaturas_diciembre.index( max(temperaturas_diciembre) )\n",
    "                                       :\n",
    "                                       (\n",
    "                                          temperaturas_diciembre[ temperaturas_diciembre.index( max(temperaturas_diciembre) ) \n",
    "                                                                :].index( min(temperaturas_diciembre[ temperaturas_diciembre.index( max(temperaturas_diciembre) ) \n",
    "                                                                                                      :]\n",
    "                                                                              )\n",
    "                                                                          ) \n",
    "                                          + 1\n",
    "                                          + temperaturas_diciembre.index( max(temperaturas_diciembre) )\n",
    "                                       )\n",
    "                                     ])\n",
    "# Alternativa, usando el segundo argumento de incio para el método .index()\n",
    "print('31b.', temperaturas_diciembre[\n",
    "                                       temperaturas_diciembre.index( max(temperaturas_diciembre) ) \n",
    "                                       : \n",
    "                                       temperaturas_diciembre.index( min(temperaturas_diciembre), temperaturas_diciembre.index( max(temperaturas_diciembre) ) )\n",
    "                                       +1\n",
    "                                     ])\n"
   ]
  },
  {
   "cell_type": "markdown",
   "metadata": {
    "id": "5PcBreuKcX1-"
   },
   "source": [
    "\n",
    "\n",
    "---\n",
    "\n",
    "\n",
    "## Ejercicios: la función `sorted()` y la palabra `del`\n",
    "\n",
    "- Copiar una lista\n",
    "\n",
    "  32. Copia la lista `dias_es` a otra y llámala `dias_copia`.\n",
    "  \n",
    "- Ordenar\n",
    "\n",
    "  33. Ordena `dias_copia` usando el método `.sort()`.\n",
    "  34. Ordena a `dias_es` usando la función `sorted()`, demuéstralo con `print()`.\n",
    "  35. ¿Cuál ha sido cambiado, y cuál tiene el orden original? Imprime `dias_es` y `dias_copia` para comprobar tu respuesta.\n",
    "\n",
    "- Borrar por índice\n",
    "\n",
    "  36. ¿En qué índice se encuentra el string `'jueves'` en `dias_copia`, y `'viernes'`?\n",
    "  37. Borra `'jueves'` de `dias_copia`.\n",
    "  38. ¿En qué índice se encontrará `'viernes'` ahora?\n",
    "  39. ¿Cuántos elementos quedan en `dias_copia`? ¿Cuál es el índice del último elemento entonces?\n",
    "\n",
    "- Bonus\n",
    "\n",
    "  40. Encuentra `'martes'` en `dias_copia` y bórralo en una sola línea.\n",
    "  41. Si aplicas `sorted()` o `.sort()` dentro de la función `print()`, ¿cuál(es) te imprime(n) la lista ordenada y por qué (no)? \n",
    "---\n",
    "\n"
   ]
  },
  {
   "cell_type": "code",
   "execution_count": 4,
   "metadata": {},
   "outputs": [
    {
     "name": "stdout",
     "output_type": "stream",
     "text": [
      "33. ['domingo', 'jueves', 'lunes', 'martes', 'miércoles', 'sábado', 'viernes']\n",
      "34. ['domingo', 'jueves', 'lunes', 'martes', 'miércoles', 'sábado', 'viernes']\n",
      "35. Sólo dias_copia es ordenada alfabéticamente. dias_es mantiene el orden original.\n",
      "    ['domingo', 'jueves', 'lunes', 'martes', 'miércoles', 'sábado', 'viernes'] ['lunes', 'martes', 'miércoles', 'jueves', 'viernes', 'sábado', 'domingo']\n",
      "36. 1 6\n",
      "37. ['domingo', 'lunes', 'martes', 'miércoles', 'sábado', 'viernes']\n",
      "38. 6 - 1 = 5, para verificarlo: 5\n",
      "39. 6 elementos, y 5 es entonces el último índice que existe.\n",
      "40. ['domingo', 'lunes', 'miércoles', 'sábado', 'viernes']\n",
      "41. La función sorted() devuelve una lista ordenada, el método .sort() cambia el orden de una lista que ya existe y no devuelve nada.\n"
     ]
    }
   ],
   "source": [
    "# 32.\n",
    "dias_copia = dias_es.copy()\n",
    "\n",
    "# 33.-35.\n",
    "dias_copia.sort()\n",
    "print('33.', dias_copia)\n",
    "print('34.', sorted(dias_es))\n",
    "print('35.', 'Sólo dias_copia es ordenada alfabéticamente. dias_es mantiene el orden original.')\n",
    "print('   ', dias_copia, dias_es)\n",
    "\n",
    "# 36.-39.\n",
    "print('36.', dias_copia.index('jueves'), dias_copia.index('viernes'))\n",
    "del dias_copia[dias_copia.index('jueves')]\n",
    "print('37.', dias_copia)\n",
    "print('38.', '6 - 1 = 5, para verificarlo:', dias_copia.index('viernes'))\n",
    "print('39.', len(dias_copia),'elementos, y', len(dias_copia)-1, 'es entonces el último índice que existe.')\n",
    "\n",
    "# Bonus\n",
    "# 40.\n",
    "del dias_copia[dias_copia.index('martes')]\n",
    "print('40.',dias_copia)\n",
    "print('41.','La función sorted() devuelve una lista ordenada, el método .sort() cambia el orden de una lista que ya existe y no devuelve nada.')"
   ]
  },
  {
   "cell_type": "code",
   "execution_count": null,
   "metadata": {},
   "outputs": [],
   "source": []
  },
  {
   "cell_type": "markdown",
   "metadata": {
    "id": "5PcBreuKcX1-"
   },
   "source": [
    "\n",
    "\n",
    "---\n",
    "\n",
    "\n",
    "## Ejercicios: más métodos para listas\n",
    "\n",
    "- Añadir contenido a una lista\n",
    "\n",
    "  42. Añade a la lista de `harrypotter` el último título `'Animales fantásticos y dónde encontrarlos'`.\n",
    "  43. Añade a la lista de compras `'sal'` al princípio de la lista (pista: qué índice es?).\n",
    "  44. Haz que `dias_en` y `dias_es` cubran dos semanas enteras, usando `.extend()`.\n",
    "\n",
    "- Quitar contenido de una lista\n",
    "\n",
    "  45. Pop el tercer elemento de las compras a la variable `elem3`.\n",
    "  46. Quita el pan de la lista de compras.\n",
    "\n",
    "---\n",
    "\n"
   ]
  },
  {
   "cell_type": "code",
   "execution_count": 5,
   "metadata": {},
   "outputs": [
    {
     "name": "stdout",
     "output_type": "stream",
     "text": [
      "42. ['la piedra filosofal', 'la cámara secreta', 'el prisionero de Azkaban', 'el cáliz de fuego', 'la Orden del Fénix', 'el misterio del príncipe', 'las reliquias de la Muerte', 'animales fantásticos y dónde encontrarlos']\n",
      "43. ['sal', 'peras', 'garbanzos', 'pan', 'papel higiénico']\n",
      "44. ['monday', 'tuesday', 'wednesday', 'thursday', 'friday', 'saturday', 'sunday', 'monday', 'tuesday', 'wednesday', 'thursday', 'friday', 'saturday', 'sunday']\n",
      "    ['lunes', 'martes', 'miércoles', 'jueves', 'viernes', 'sábado', 'domingo', 'lunes', 'martes', 'miércoles', 'jueves', 'viernes', 'sábado', 'domingo']\n",
      "45. garbanzos\n",
      "    ['sal', 'peras', 'pan', 'papel higiénico']\n",
      "46. ['sal', 'peras', 'papel higiénico']\n"
     ]
    }
   ],
   "source": [
    "# 42.\n",
    "harrypotter.append('animales fantásticos y dónde encontrarlos')\n",
    "print('42.', harrypotter)\n",
    "\n",
    "# 43.\n",
    "compras.insert(0,'sal')\n",
    "print('43.', compras)\n",
    "\n",
    "# 44.\n",
    "dias_en.extend(dias_en)\n",
    "dias_es.extend(dias_es)\n",
    "print('44.', dias_en)\n",
    "print('   ', dias_es)\n",
    "\n",
    "# 45.\n",
    "elem3 = compras.pop(2)\n",
    "print('45.', elem3)\n",
    "print('   ', compras)\n",
    "\n",
    "# 46.\n",
    "compras.remove('pan')\n",
    "print('46.', compras)"
   ]
  },
  {
   "cell_type": "code",
   "execution_count": null,
   "metadata": {},
   "outputs": [],
   "source": []
  }
 ],
 "metadata": {
  "interpreter": {
   "hash": "b3ba2566441a7c06988d0923437866b63cedc61552a5af99d1f4fb67d367b25f"
  },
  "kernelspec": {
   "display_name": "Python 3.7.6 64-bit ('base': conda)",
   "language": "python",
   "name": "python3"
  },
  "language_info": {
   "codemirror_mode": {
    "name": "ipython",
    "version": 3
   },
   "file_extension": ".py",
   "mimetype": "text/x-python",
   "name": "python",
   "nbconvert_exporter": "python",
   "pygments_lexer": "ipython3",
   "version": "3.7.6"
  },
  "orig_nbformat": 4
 },
 "nbformat": 4,
 "nbformat_minor": 2
}
