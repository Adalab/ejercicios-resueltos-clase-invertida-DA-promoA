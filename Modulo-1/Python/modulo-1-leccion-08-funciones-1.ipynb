{
 "cells": [
  {
   "cell_type": "markdown",
   "metadata": {},
   "source": [
    "# Resolución Ejercicios funciones 1"
   ]
  },
  {
   "cell_type": "markdown",
   "metadata": {},
   "source": [
    "---\n",
    "## Ejercicios funciones y argumentos\n",
    "\n",
    "- Definir una función y llamarla\n",
    "\n",
    "    1. Haz que la función `sumar()` imprime `Vamos a sumar algo.` usando la función `print()`.\n",
    "    2. Llama la función y comprueba que te imprima la frase.\n",
    "\n",
    "- Ampliar una función con argumentos\n",
    "\n",
    "    3. Añade dos argumentos en la definición de `sumar()`. Llamalos a y b.\n",
    "    4. Después de imprimir la frase, queremos que se imprima otra frase: `'Sumamos', a, 'y', b, ':'`.\n",
    "    5. Al final imprime `a + b`.\n",
    "    6. Llama la función `sumar()` con los argumentos 3 y 5 y comprueba que te imprima lo correcto.\n",
    "\n",
    "---"
   ]
  },
  {
   "cell_type": "code",
   "execution_count": 2,
   "metadata": {},
   "outputs": [
    {
     "name": "stdout",
     "output_type": "stream",
     "text": [
      "2.\n",
      "Vamos a sumar algo.\n"
     ]
    }
   ],
   "source": [
    "# 1.\n",
    "def sumar():\n",
    "    print('Vamos a sumar algo.')\n",
    "\n",
    "# 2.\n",
    "print('2.')\n",
    "sumar()"
   ]
  },
  {
   "cell_type": "code",
   "execution_count": 4,
   "metadata": {},
   "outputs": [
    {
     "name": "stdout",
     "output_type": "stream",
     "text": [
      "6.\n",
      "Vamos a sumar algo.\n",
      "Sumamos 3 y 5 :\n",
      "8\n"
     ]
    }
   ],
   "source": [
    "\n",
    "# 3-5.\n",
    "def sumar(a, b): # 3.\n",
    "    print('Vamos a sumar algo.') \n",
    "    print('Sumamos', a, 'y', b, ':') # 4.\n",
    "    print(a + b) #5.\n",
    "\n",
    "# 6.\n",
    "print('6.')\n",
    "sumar(3, 5)"
   ]
  },
  {
   "cell_type": "markdown",
   "metadata": {},
   "source": [
    "---\n",
    "\n",
    "## Ejercicios argumentos arbitrarios\n",
    "\n",
    "- Definir una función con argumentos y llámala.\n",
    "\n",
    "    7. Define la función `listarCaracteresEnComun()` con los argumentos `string1` y `string2`. Acuérdate de la palabra `pass`.\n",
    "    8. Llámala con `'Soja'` y `'Ojos'`.\n",
    "    9. Dentro de la función definimos una lista *vacía*, que se llama `comun`.\n",
    "    10. Para cada `letra` en `string1`, si `letra` está en `string2` queremos usar el método `.append()` para añadir la `letra` a la lista `comun`.\n",
    "    11. Después de haber recorrido por todas las letras de `string1` queremos imprimir la lista `comun`.\n",
    "    12. Llama a la función ampliada con `'Soja'` y `'Ojos'`.\n",
    "    13. ¿Qué pasa con la S? Amplia la función con un método para cambiar los strings antes de recorrerlos. Comprueba que funciona.\n",
    "\n",
    "- Cambia la función para que acepta argumentos arbitrarios\n",
    "\n",
    "    14. Cambia los argumentos `string1` y `string2` por un sólo argumento `*input_strings`.\n",
    "    15. Para convertirlos strings todos en menúsculas lo primero que haremos al entrar en la función es esto, añadelo:\n",
    "        ```\n",
    "        strings = []\n",
    "        for input_string in input_strings:\n",
    "        strings.append(input_string.lower())\n",
    "        ```\n",
    "    16. En vez de llenar la lista `comun` con las letras que encontramos vamos a empezar la lista con todas las letras del primer string, y vamos restando los que *no* haya en alguno de los strings detrás. Haz entonces que `comun` se inicia como una `list()` del primer contenido de `strings`. Usa el indice que apunte al primer elemento de `strings`. \n",
    "    17. Para cada `string` en `strings[1:]` (¿ese `[1:]` qué dice?) queremos mirar cada `letra` en `comun`. Si `letra` no está en `string`, usamos `comun.remove(letra)`. Al final de los tres bucles (for, for, if) queremos imprimir la lista `comun`. Fíjate bien en la indentación para que se imprime *fuera* de los bucles.\n",
    "    18. Llama a la función con los siguientes strings: `'Soja','Ojos','Justo','Ejes'`. Si not te sale lo esperado o te da un error empieza otra vez en el paso 14. y lea bien.\n",
    "---"
   ]
  },
  {
   "cell_type": "code",
   "execution_count": 5,
   "metadata": {},
   "outputs": [
    {
     "name": "stdout",
     "output_type": "stream",
     "text": [
      "['o', 'j']\n",
      "['s', 'o', 'j']\n"
     ]
    }
   ],
   "source": [
    "# 7.\n",
    "def listarCaracteresEnComun(string1, string2):\n",
    "    pass\n",
    "\n",
    "# 8.\n",
    "listarCaracteresEnComun('Soja','Ojos')\n",
    "\n",
    "# 9.\n",
    "def listarCaracteresEnComun(string1, string2):\n",
    "    comun = []\n",
    "\n",
    "# 10.-11.\n",
    "def listarCaracteresEnComun(string1, string2):\n",
    "    comun = []\n",
    "    for letra in string1:       # 10.\n",
    "        if letra in string2:    # 10.\n",
    "            comun.append(letra) # 10.\n",
    "    print(comun)                # 11.\n",
    "\n",
    "# 12.\n",
    "listarCaracteresEnComun('Soja','Ojos')\n",
    "\n",
    "# 13.\n",
    "def listarCaracteresEnComun(string1, string2):\n",
    "    comun = []\n",
    "    string1 = string1.lower()\n",
    "    string2 = string2.lower()\n",
    "    for letra in string1:\n",
    "        if letra in string2:\n",
    "            comun.append(letra)\n",
    "    print(comun)\n",
    "\n",
    "listarCaracteresEnComun('Soja','Ojos')"
   ]
  },
  {
   "cell_type": "code",
   "execution_count": 6,
   "metadata": {},
   "outputs": [
    {
     "name": "stdout",
     "output_type": "stream",
     "text": [
      "['s', 'j']\n"
     ]
    }
   ],
   "source": [
    "# 14.- 15.\n",
    "def listarCaracteresEnComun(*input_strings):    # 14.\n",
    "    strings = []                                # 15.\n",
    "    for input_string in input_strings:          # 15.\n",
    "        strings.append(input_string.lower())    # 15.\n",
    "\n",
    "    comun = list(strings[0])                    # 16.\n",
    "\n",
    "    for string in strings[1:]:                  # 17. Las letras del strings[0] ya está dentro de comun, queremos comprobar si existen de strings[1] en adelantante \n",
    "        for letra in comun:                     # 17.\n",
    "            if letra not in string:             # 17.\n",
    "                comun.remove(letra)             # 17.\n",
    "    print(comun)                                # 17.\n",
    "\n",
    "# 18.\n",
    "listarCaracteresEnComun('Soja','Ojos','Justo','Ejes')"
   ]
  }
 ],
 "metadata": {
  "interpreter": {
   "hash": "13b61c53029f9938c0e2f8047b7792943f3985c3124654a984486e1d28611813"
  },
  "kernelspec": {
   "display_name": "Python 3.9.7 ('base')",
   "language": "python",
   "name": "python3"
  },
  "language_info": {
   "codemirror_mode": {
    "name": "ipython",
    "version": 3
   },
   "file_extension": ".py",
   "mimetype": "text/x-python",
   "name": "python",
   "nbconvert_exporter": "python",
   "pygments_lexer": "ipython3",
   "version": "3.9.7"
  },
  "orig_nbformat": 4
 },
 "nbformat": 4,
 "nbformat_minor": 2
}
