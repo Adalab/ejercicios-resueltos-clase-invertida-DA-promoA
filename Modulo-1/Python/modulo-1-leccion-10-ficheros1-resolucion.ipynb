{
 "cells": [
  {
   "cell_type": "markdown",
   "metadata": {},
   "source": [
    "# Resolución Ejercicios tratamiento de ficheros 1"
   ]
  },
  {
   "cell_type": "markdown",
   "metadata": {},
   "source": [
    "---\n",
    "## Ejercicios modulos, rutas relativas y absolutas\n",
    "\n",
    "- Importar un módulo\n",
    "\n",
    "    1. Carga el módulo `datetime`.\n",
    "    2. Carga el módulo `datetime` con el alias (= nombre local) `dt`.\n",
    "\n",
    "- Importar contenidos de un módulo\n",
    "\n",
    "    3. Carga la clase `date` del módulo `datetime`.\n",
    "    4. Carga la clase `date` del módulo `datetime` con el alias `fecha`.\n",
    "\n",
    "- Usar contenidos de un módulo\n",
    "\n",
    "    5. Usa el método `.today()` de la clase `date` del módulo con alias `dt` para la variable `hoy1`. Imprime `hoy1`.\n",
    "    6. Usa el método `.today()` de la con alias `fecha` para la variable `hoy2`. Imprime `hoy2`.\n",
    "\n",
    "---"
   ]
  },
  {
   "cell_type": "code",
   "execution_count": 1,
   "metadata": {},
   "outputs": [
    {
     "name": "stdout",
     "output_type": "stream",
     "text": [
      "2022-03-25\n",
      "2022-03-25\n"
     ]
    }
   ],
   "source": [
    "# 1.\n",
    "import datetime\n",
    "# 2.\n",
    "import datetime as dt\n",
    "# 3.\n",
    "from datetime import date\n",
    "# 4.\n",
    "from datetime import date as fecha\n",
    "\n",
    "# 5.\n",
    "hoy1 = dt.date.today()\n",
    "print(hoy1)\n",
    "# 6.\n",
    "hoy2 = fecha.today()\n",
    "print(hoy2)"
   ]
  },
  {
   "cell_type": "markdown",
   "metadata": {},
   "source": [
    "---"
   ]
  },
  {
   "cell_type": "markdown",
   "metadata": {},
   "source": [
    "---\n",
    "## Ejercicios módulo `os`\n",
    "\n",
    "- Este apartado ya hicimos los ejercicios juntas al explicar la teoría. \n",
    "\n",
    "---"
   ]
  },
  {
   "cell_type": "markdown",
   "metadata": {},
   "source": [
    "---\n",
    "## Ejercicios módulo `shutil`\n",
    "\n",
    "- Este apartado no tiene ejercicios. \n",
    "\n",
    "---"
   ]
  },
  {
   "cell_type": "markdown",
   "metadata": {},
   "source": [
    "---\n",
    "## Ejercicios `open()` y `close()`\n",
    "\n",
    "- Ubicación del archivo\n",
    "\n",
    "    7. ¿Dónde tienes guardado el archivo `'ejercicio.txt'`? Guarda la ruta absoluta en `ubi_carp_ej`.\n",
    "    8. ¿En qué carpeta estás ejecutando este notebook? (No necesariamente es la ubicación del notebook, obténla de otra forma.)\n",
    "    9. Construye la ruta al archivo `'ejercicio.txt'` con una ruta absoluta en `ubi_ej_abs`. Usa `ubi_carp_ej` para construirla.\n",
    "    10. Construye la ruta al archivo `'ejercicio.txt'` con una ruta relativa en `ubi_ej_rel`.\n",
    "\n",
    "- Abrir y cerrar\n",
    "\n",
    "    11. Abre el archivo `'ejercicio.txt'` como `f`, y ciérralo.\n",
    "    12. Abre el archivo, imprime los primeros 28 caractéres, y ciérralo.\n",
    "    13. Abre el archivo, guarda los primeros 30 caractéres como `ejer30`, ciérralo, y imprime `ejer30`.\n",
    "\n",
    "---"
   ]
  },
  {
   "cell_type": "code",
   "execution_count": 2,
   "metadata": {},
   "outputs": [
    {
     "name": "stdout",
     "output_type": "stream",
     "text": [
      "7. J:/My Drive/materiales-da-a/modulo-1/modulo-1-python-basico/assets/files\n",
      "8. /mnt/c/Adalab/ejercicios-en-clase-da-a/Modulo-1/Python\n",
      "9. J:/My Drive/materiales-da-a/modulo-1/modulo-1-python-basico/assets/files/ejercicio.txt\n",
      "10. ../../../materiales-da-a/modulo-1/modulo-1-python-basico/assets/files/ejercicio.txt\n",
      "12. Vamos a cantar una canción.\n",
      "\n",
      "13. Vamos a cantar una canción.\n",
      "Es\n"
     ]
    }
   ],
   "source": [
    "import os\n",
    "\n",
    "# 7.-10.\n",
    "ubi_carp_ej = 'J:/My Drive/materiales-da-a/modulo-1/modulo-1-python-basico/assets/files'\n",
    "print('7.', ubi_carp_ej)\n",
    "\n",
    "os.getcwd()\n",
    "print('8.', os.getcwd())\n",
    "\n",
    "ubi_ej_abs = ubi_carp_ej + '/ejercicio.txt'\n",
    "print('9.', ubi_ej_abs)\n",
    "\n",
    "ubi_ej_rel = '../../../materiales-da-a/modulo-1/modulo-1-python-basico/assets/files/ejercicio.txt'\n",
    "print('10.', ubi_ej_rel)\n",
    "\n",
    "# 11.\n",
    "f = open(ubi_ej_rel)\n",
    "f.close()\n",
    "\n",
    "# 12.\n",
    "f = open(ubi_ej_rel)\n",
    "print('12.', f.read(28))\n",
    "f.close()\n",
    "\n",
    "# 13.\n",
    "f = open(ubi_ej_rel)\n",
    "ejer30 = f.read(30)\n",
    "f.close()\n",
    "print('13.', ejer30)"
   ]
  },
  {
   "cell_type": "markdown",
   "metadata": {},
   "source": [
    "---"
   ]
  },
  {
   "cell_type": "markdown",
   "metadata": {},
   "source": [
    "---\n",
    "## Ejercicios `readline()`, `readlines()`, y la palabra `with`\n",
    "\n",
    "- Abrir archivos con `with`\n",
    "\n",
    "    14. Abre el archivo `'ejercicio.txt'` con `with`. Llama la variable en que se guarderá la connexión con el archivo `f`. Usa pass ocupar el código indentado sin hacer nada todavía.\n",
    "    15. Con `with`, lee la primera línea (sin contar cuantos caractéres son) y guárdala en `lin1`.\n",
    "    16. Imprime `lin1`. ¿Está abierto (bloqueado) el archivo `'ejercicio.txt'` ahora mismo?\n",
    "\n",
    "- Obtener una lista con el contenido del archivo.\n",
    "\n",
    "    17. Obtén la lista `lista_ejer` con el contenido de `'ejercicio.txt'`.\n",
    "\n",
    "- Bonus\n",
    "\n",
    "    18. Con un bucle `for` imprime las líneas que haya en la lista. Con un bucle `if` determina qué línea es la quinta (`[4]`) y imprime esa frase adelantada por `'-> '`.\n",
    "\n",
    "---"
   ]
  },
  {
   "cell_type": "code",
   "execution_count": 17,
   "metadata": {},
   "outputs": [
    {
     "name": "stdout",
     "output_type": "stream",
     "text": [
      "16. Vamos a cantar una canciÃ³n.\n",
      "\n",
      "    El archivo ya no está abierto.\n",
      "18.\n",
      "Vamos a cantar una canciÃ³n.\n",
      "\n",
      "Es broma, no hay que cantar en este bootcamp...\n",
      "\n",
      "...aunque si te gustarÃ­a...\n",
      "\n",
      "ahora que lo pienso. \n",
      "\n",
      "->  MaÃ±ana en clase quiÃ©n se anima??\n"
     ]
    }
   ],
   "source": [
    "import os\n",
    "\n",
    "ubi_carp_ej = 'J:/My Drive/materiales-da-a/modulo-1/modulo-1-python-basico/assets/files'\n",
    "ubi_ej_abs = ubi_carp_ej + '/ejercicio.txt'\n",
    "\n",
    "# 14.\n",
    "with open(ubi_ej_abs) as f:\n",
    "    pass\n",
    "\n",
    "# 15.\n",
    "with open(ubi_ej_abs) as f:\n",
    "    lin1 = f.readline()\n",
    "\n",
    "# 16.\n",
    "print('16.', lin1)\n",
    "print('   ','El archivo ya no está abierto.')\n",
    "\n",
    "# 17.\n",
    "with open(ubi_ej_abs) as f:\n",
    "    lista_ejer = f.readlines()\n",
    "\n",
    "\n",
    "# 18. Os dejamos algunas alternativas, todos son correctas:\n",
    "\n",
    "# print('18.')\n",
    "# for count, line in enumerate(lista_ejer):\n",
    "#     if count == 4:\n",
    "#         print('-> ', end='')\n",
    "#     print(line)\n",
    "\n",
    "# print('18.')\n",
    "# for line in lista_ejer:\n",
    "#     if line == lista_ejer[4]:\n",
    "#         print('-> ', end='')\n",
    "#     print(line)\n",
    "\n",
    "# print('18.')\n",
    "# for i in range(len(lista_ejer)):\n",
    "#     if i == 4:\n",
    "#         print('-> ', end='')\n",
    "#     print(lista_ejer[i])\n",
    "\n",
    "print('18.')\n",
    "for i in range(len(lista_ejer)):\n",
    "    if i == 4:\n",
    "        print('-> ', lista_ejer[i])\n",
    "    else:\n",
    "        print(lista_ejer[i])"
   ]
  },
  {
   "cell_type": "markdown",
   "metadata": {},
   "source": [
    "---"
   ]
  },
  {
   "cell_type": "markdown",
   "metadata": {},
   "source": [
    "---\n",
    "## Ejercicios argumentos opcionales para `open()`\n",
    "\n",
    "- Usar `readlines()` con un archivo abierto con argumentos opcionales\n",
    "\n",
    "    19. Lee las líneas del archivo `'ejercicio.txt'` en modo binario. Imprime la primera línea.\n",
    "    20. Lee las líneas del archivo `'ejercicio.txt'` con un encoding de `'utf-8'`. Deja el modo en por defecto. Imprime la última (qué índice es?)\n",
    "\n",
    "---"
   ]
  },
  {
   "cell_type": "code",
   "execution_count": 19,
   "metadata": {},
   "outputs": [
    {
     "name": "stdout",
     "output_type": "stream",
     "text": [
      "19. b'Vamos a cantar una canci\\xc3\\xb3n.\\r\\n'\n",
      "20. Mañana en clase quién se anima??\n"
     ]
    }
   ],
   "source": [
    "import os\n",
    "\n",
    "ubi_carp_ej = 'J:/My Drive/materiales-da-a/modulo-1/modulo-1-python-basico/assets/files'\n",
    "ubi_ej_abs = ubi_carp_ej + '/ejercicio.txt'\n",
    "\n",
    "# 19.\n",
    "with open(ubi_ej_abs, mode='rb') as f:\n",
    "    lista_ejer = f.readlines()\n",
    "    \n",
    "print('19.',lista_ejer[0])\n",
    "\n",
    "# 20.\n",
    "with open(ubi_ej_abs, encoding='utf-8') as f:\n",
    "    lista_ejer = f.readlines()\n",
    "    \n",
    "print('20.',lista_ejer[-1])\n"
   ]
  },
  {
   "cell_type": "markdown",
   "metadata": {},
   "source": [
    "---"
   ]
  }
 ],
 "metadata": {
  "interpreter": {
   "hash": "a0ccb3fb2a12034e618c66a243d7fd6d5f37b04d32daddf997049a3f07fbb524"
  },
  "kernelspec": {
   "display_name": "Python 3.10.2 64-bit",
   "language": "python",
   "name": "python3"
  },
  "language_info": {
   "codemirror_mode": {
    "name": "ipython",
    "version": 3
   },
   "file_extension": ".py",
   "mimetype": "text/x-python",
   "name": "python",
   "nbconvert_exporter": "python",
   "pygments_lexer": "ipython3",
   "version": "3.9.7"
  },
  "orig_nbformat": 4
 },
 "nbformat": 4,
 "nbformat_minor": 2
}
