{
 "cells": [
  {
   "cell_type": "markdown",
   "metadata": {},
   "source": [
    "# Resolución ejercicios Tuplas"
   ]
  },
  {
   "cell_type": "markdown",
   "metadata": {
    "id": "5PcBreuKcX1-"
   },
   "source": [
    "\n",
    "\n",
    "---\n",
    "\n",
    "\n",
    "## Ejercicios: definir tuplas\n",
    "\n",
    "- Definir tuplas\n",
    "\n",
    "  1. Crea una tupla `persona1` para juntar los siguientes datos: 61 kg, 1.54 m altura, pelo marrón, sin usar parentesis. (Serán del tipo `int`, `float` y `str`.)\n",
    "  2. Crea una tupla para la `persona2` de 68 kg, 1.65 m y pelo rubio, usando parentesis.\n",
    "  3. Crea una lista `talla` que recompila 'M', 42, y 39. \n",
    "\n",
    "- Convertir y juntar\n",
    "\n",
    "  4. Convierte la lista `talla` a una tupla.\n",
    "  5. Une a la tupla de `persona1` los datos en `talla`.\n",
    "\n",
    "---\n",
    "\n"
   ]
  },
  {
   "cell_type": "code",
   "execution_count": 19,
   "metadata": {
    "id": "Z5I4yJpqcX2F"
   },
   "outputs": [
    {
     "name": "stdout",
     "output_type": "stream",
     "text": [
      "1. (68, 1.65, 'marrón')\n",
      "2. (61, 1.54, 'rubio')\n",
      "3. ['M', 42, 39]\n",
      "4. ('M', 42, 39)\n",
      "5. (68, 1.65, 'marrón', 'M', 42, 39)\n"
     ]
    }
   ],
   "source": [
    "# 1.-3.\n",
    "persona1 = 68, 1.65, 'marrón'\n",
    "print('1.', persona1)\n",
    "persona2 = (61, 1.54, 'rubio')\n",
    "print('2.', persona2)\n",
    "talla = ['M', 42, 39]\n",
    "print('3.', talla)\n",
    "\n",
    "# 4.\n",
    "print('4.', tuple(talla))\n",
    "\n",
    "# 5.\n",
    "persona1 = persona1 + tuple(talla)\n",
    "print('5.', persona1)"
   ]
  },
  {
   "cell_type": "markdown",
   "metadata": {
    "id": "5PcBreuKcX1-"
   },
   "source": [
    "\n",
    "\n",
    "---\n",
    "\n",
    "\n",
    "## Ejercicios: propiedades y métodos de una tupla\n",
    "\n",
    "- Indexar tuplas\n",
    "\n",
    "  6. Saca de `persona2` el contenido del tercer elemento y llámalo `color`.\n",
    "  7. ¿Cuántos elementos hay ahora en `persona1`? (Es decir, ¿cuál es su longitud?)\n",
    "  8. Guarda el último elemento de `persona1` en `zapatos`.\n",
    "\n",
    "- Desempaquetar\n",
    "\n",
    "  9. Crea las variables `peso`, `altura`, `color`, `camiseta`, `pantalon`, y `zapatos` y llénalas con el contenido de `persona1`. Imprime `camiseta` para comprobar el resultado.\n",
    "  10. Crea las variables `peso`, `altura`, `color`, `ropa`, y `zapatos` y llénalas con el contenido adecuado de `persona1`. Imprime `ropa` para comprobar el resultado.\n",
    "  11. Intenta sobreescribir las variables de 9. con el contenido de `persona2`, ¿te sale? \n",
    "---\n",
    "\n"
   ]
  },
  {
   "cell_type": "code",
   "execution_count": 20,
   "metadata": {
    "id": "Z5I4yJpqcX2F"
   },
   "outputs": [
    {
     "name": "stdout",
     "output_type": "stream",
     "text": [
      "6. rubio\n",
      "7. 6\n",
      "8. 39\n",
      "9. M\n",
      "10. ['M', 42]\n"
     ]
    },
    {
     "ename": "ValueError",
     "evalue": "not enough values to unpack (expected 6, got 3)",
     "output_type": "error",
     "traceback": [
      "\u001b[1;31m---------------------------------------------------------------------------\u001b[0m",
      "\u001b[1;31mValueError\u001b[0m                                Traceback (most recent call last)",
      "Input \u001b[1;32mIn [20]\u001b[0m, in \u001b[0;36m<module>\u001b[1;34m\u001b[0m\n\u001b[0;32m     16\u001b[0m \u001b[38;5;28mprint\u001b[39m(\u001b[38;5;124m'\u001b[39m\u001b[38;5;124m10.\u001b[39m\u001b[38;5;124m'\u001b[39m, ropa)\n\u001b[0;32m     18\u001b[0m \u001b[38;5;66;03m# 11. \u001b[39;00m\n\u001b[1;32m---> 19\u001b[0m peso, altura, color, camiseta, pantalon, zapatos \u001b[38;5;241m=\u001b[39m persona2\n",
      "\u001b[1;31mValueError\u001b[0m: not enough values to unpack (expected 6, got 3)"
     ]
    }
   ],
   "source": [
    "# 6.-7.\n",
    "color = persona2[2]\n",
    "print('6.', color)\n",
    "print('7.', len(persona1))\n",
    "\n",
    "# 8.\n",
    "zapatos = persona1[-1]\n",
    "print('8.', zapatos)\n",
    "\n",
    "# 9.\n",
    "peso, altura, color, camiseta, pantalon, zapatos = persona1\n",
    "print('9.', camiseta)\n",
    "\n",
    "# 10.\n",
    "peso, altura, color, *ropa, zapatos = persona1\n",
    "print('10.', ropa)\n",
    "\n",
    "# 11. \n",
    "peso, altura, color, camiseta, pantalon, zapatos = persona2\n"
   ]
  },
  {
   "cell_type": "markdown",
   "metadata": {
    "id": "5PcBreuKcX1-"
   },
   "source": [
    "\n",
    "\n",
    "---\n",
    "\n",
    "\n",
    "## Ejercicios: la función `zip()`\n",
    "\n",
    "- Zipear\n",
    "\n",
    "  11. Crea el zip `personas` con `persona1` y `persona2`.\n",
    "  12. ¿Cuántas \"filas\" tiene `personas`? ¿Por qué?\n",
    "  13. Crea una tupla `etiquetas` con `peso`, `altura`, y `color`.\n",
    "  14. Crea al zip de `etiquetas`, `persona1`, y `persona2`.\n",
    "\n",
    "- Manipular zips\n",
    "\n",
    "  15. Ordena las propiedades de las personas alfabéticamente. \n",
    "\n",
    "---\n",
    "\n"
   ]
  },
  {
   "cell_type": "code",
   "execution_count": 32,
   "metadata": {
    "id": "Z5I4yJpqcX2F"
   },
   "outputs": [
    {
     "name": "stdout",
     "output_type": "stream",
     "text": [
      "11. [(68, 61), (1.65, 1.54), ('marrón', 'rubio')]\n",
      "12. 3\n",
      "13. ('peso', 'altura', 'color')\n",
      "14. [('peso', 68, 61), ('altura', 1.65, 1.54), ('color', 'marrón', 'rubio')]\n",
      "15. [('altura', 1.65, 1.54), ('color', 'marrón', 'rubio'), ('peso', 68, 61)]\n"
     ]
    }
   ],
   "source": [
    "# 11.\n",
    "personas = zip(persona1,persona2)\n",
    "print('11.', list(personas))\n",
    "# 12.\n",
    "personas = zip(persona1,persona2)\n",
    "print('12.', len(list(personas)))\n",
    "\n",
    "# 13. \n",
    "etiquetas = ('peso', 'altura', 'color')\n",
    "print('13.', etiquetas)\n",
    "\n",
    "# 14.\n",
    "personas = list(zip(etiquetas,persona1,persona2))\n",
    "print('14.', personas)\n",
    "\n",
    "# 15.\n",
    "personas = list(zip(etiquetas,persona1,persona2))\n",
    "personas.sort()\n",
    "print('15.', personas)\n",
    "\n"
   ]
  },
  {
   "cell_type": "markdown",
   "metadata": {
    "id": "aCLnA8lRcX2F"
   },
   "source": [
    "\n",
    "\n",
    "---\n"
   ]
  }
 ],
 "metadata": {
  "interpreter": {
   "hash": "a0ccb3fb2a12034e618c66a243d7fd6d5f37b04d32daddf997049a3f07fbb524"
  },
  "kernelspec": {
   "display_name": "Python 3.10.2 64-bit",
   "language": "python",
   "name": "python3"
  },
  "language_info": {
   "codemirror_mode": {
    "name": "ipython",
    "version": 3
   },
   "file_extension": ".py",
   "mimetype": "text/x-python",
   "name": "python",
   "nbconvert_exporter": "python",
   "pygments_lexer": "ipython3",
   "version": "3.10.2"
  },
  "orig_nbformat": 4
 },
 "nbformat": 4,
 "nbformat_minor": 2
}
