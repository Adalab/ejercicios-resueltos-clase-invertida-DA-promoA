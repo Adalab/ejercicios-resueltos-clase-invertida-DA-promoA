{
 "cells": [
  {
   "cell_type": "markdown",
   "metadata": {},
   "source": [
    "#### EJERCICIO 1\n",
    "\n",
    "Imprime por pantalla el nombre de las tablas que componen la base de datos \"tienda\"."
   ]
  },
  {
   "cell_type": "code",
   "execution_count": null,
   "metadata": {},
   "outputs": [],
   "source": [
    "import mysql.connector\n",
    "\n",
    "mydb = mysql.connector.connect(\n",
    "  host=\"localhost\",\n",
    "  user=\"root\",\n",
    "  password=\"AlumnaAdalab\",\n",
    "  database=\"tienda\"\n",
    ")\n",
    "\n",
    "mycursor = mydb.cursor()\n",
    "\n",
    "mycursor.execute(\"SHOW TABLES\")\n",
    "\n",
    "for x in mycursor:\n",
    "  print(x)"
   ]
  },
  {
   "cell_type": "markdown",
   "metadata": {},
   "source": [
    "#### EJERCICIO 2\n",
    "\n",
    "Imprime por pantalla la información acerca de las columnas que componen la tabla \"Employees\":"
   ]
  },
  {
   "cell_type": "code",
   "execution_count": null,
   "metadata": {},
   "outputs": [],
   "source": [
    "import mysql.connector\n",
    "\n",
    "mydb = mysql.connector.connect(\n",
    "  host=\"localhost\",\n",
    "  user=\"root\",\n",
    "  password=\"AlumnaAdalab\",\n",
    "  database=\"INFORMATION_SCHEMA\"\n",
    ")\n",
    "\n",
    "mycursor = mydb.cursor()\n",
    "\n",
    "mycursor.execute(\"SELECT * FROM COLUMNS WHERE TABLE_NAME = 'employees'\")\n",
    "\n",
    "for x in mycursor:\n",
    "  print(x)"
   ]
  },
  {
   "cell_type": "markdown",
   "metadata": {},
   "source": [
    "#### EJERCICIO 3\n",
    "\n",
    "Realiza una consulta SELECT que obtenga los nombres, teléfonos y direcciones de todas las empresas cliente de la tabla customers. Imprime por pantalla los datos recuperados usando el método *fetchone()*"
   ]
  },
  {
   "cell_type": "code",
   "execution_count": null,
   "metadata": {},
   "outputs": [],
   "source": [
    "import mysql.connector\n",
    "\n",
    "mydb = mysql.connector.connect(\n",
    "  host=\"localhost\",\n",
    "  user=\"root\",\n",
    "  password=\"AlumnaAdalab\",\n",
    "  database=\"tienda\"\n",
    ")\n",
    "\n",
    "mycursor = mydb.cursor()\n",
    "\n",
    "mycursor.execute(\"SELECT customerName, phone, addressLine1 FROM Customers\")\n",
    "\n",
    "myresult = mycursor.fetchone()  \n",
    "while myresult != None:\n",
    "  print(myresult)\n",
    "  myresult = mycursor.fetchone()"
   ]
  },
  {
   "cell_type": "markdown",
   "metadata": {},
   "source": [
    "#### EJERCICIO 4\n",
    "\n",
    "Buscar aquellos registros de la tabla Customers que correspondan a clientes de USA pero que no tengan un valor guardado para el campo *state*. Accede a los datos con *fetchall()*"
   ]
  },
  {
   "cell_type": "code",
   "execution_count": null,
   "metadata": {},
   "outputs": [],
   "source": [
    "import mysql.connector\n",
    "\n",
    "mydb = mysql.connector.connect(\n",
    "  host=\"localhost\",\n",
    "  user=\"root\",\n",
    "  password=\"AlumnaAdalab\",\n",
    "  database=\"tienda\"\n",
    ")\n",
    "\n",
    "mycursor = mydb.cursor()\n",
    "\n",
    "mycursor.execute(\"SELECT * FROM Customers WHERE country = 'USA' AND state IS NULL\")\n",
    "\n",
    "myresult = mycursor.fetchall()\n",
    "print(myresult)"
   ]
  },
  {
   "cell_type": "markdown",
   "metadata": {},
   "source": [
    "#### EJERCICIO 5\n",
    "\n",
    "Realiza una consulta SELECT que obtenga el número identificativo de cliente más bajo de la base de datos.\n"
   ]
  },
  {
   "cell_type": "code",
   "execution_count": null,
   "metadata": {},
   "outputs": [],
   "source": [
    "import mysql.connector\n",
    "\n",
    "mydb = mysql.connector.connect(\n",
    "  host=\"localhost\",\n",
    "  user=\"root\",\n",
    "  password=\"AlumnaAdalab\",\n",
    "  database=\"tienda\"\n",
    ")\n",
    "\n",
    "mycursor = mydb.cursor()\n",
    "\n",
    "mycursor.execute(\"SELECT * FROM Customers ORDER BY customerNumber\")\n",
    "myresult = mycursor.fetchone()\n",
    "print(myresult)"
   ]
  },
  {
   "cell_type": "markdown",
   "metadata": {},
   "source": [
    "#### EJERCICIO 6\n",
    "\n",
    "Selecciona el máximo de credito que tiene cualquiera de los clientes del empleado con número 1165."
   ]
  },
  {
   "cell_type": "code",
   "execution_count": null,
   "metadata": {},
   "outputs": [],
   "source": [
    "import mysql.connector\n",
    "\n",
    "mydb = mysql.connector.connect(\n",
    "  host=\"localhost\",\n",
    "  user=\"root\",\n",
    "  password=\"AlumnaAdalab\",\n",
    "  database=\"tienda\"\n",
    ")\n",
    "\n",
    "mycursor = mydb.cursor()\n",
    "\n",
    "mycursor.execute(\"SELECT MAX(creditLimit) FROM Customers WHERE salesRepEmployeeNumber = 1165\")\n",
    "myresult = mycursor.fetchone()\n",
    "print(myresult)"
   ]
  },
  {
   "cell_type": "markdown",
   "metadata": {},
   "source": [
    "#### EJERCICIO 7\n",
    "\n",
    "Selecciona el número de clientes en cada pais."
   ]
  },
  {
   "cell_type": "code",
   "execution_count": null,
   "metadata": {},
   "outputs": [],
   "source": [
    "import mysql.connector\n",
    "\n",
    "mydb = mysql.connector.connect(\n",
    "  host=\"localhost\",\n",
    "  user=\"root\",\n",
    "  password=\"AlumnaAdalab\",\n",
    "  database=\"tienda\"\n",
    ")\n",
    "\n",
    "mycursor = mydb.cursor()\n",
    "\n",
    "mycursor.execute(\"SELECT COUNT(customerNumber) AS numeroClientes, country FROM Customers GROUP BY country\")\n",
    "\n",
    "myresult = mycursor.fetchall()\n",
    "print(myresult)"
   ]
  },
  {
   "cell_type": "markdown",
   "metadata": {},
   "source": [
    "#### EJERCICIO 8\n",
    "\n",
    "Crea un dataframe que contenga todas las entradas de la tabla Customers. Para ello usa un *cursor* y el método *execute()*:"
   ]
  },
  {
   "cell_type": "code",
   "execution_count": null,
   "metadata": {},
   "outputs": [],
   "source": [
    "import mysql.connector\n",
    "import pandas as pd\n",
    "\n",
    "cnx = mysql.connector.connect(user='root', password='AlumnaAdalab',\n",
    "                              host='127.0.0.1',\n",
    "                              database='tienda')\n",
    "\n",
    "print(cnx)\n",
    "mycursor = cnx.cursor()\n",
    "mycursor.execute(\"SELECT * FROM Customers\")\n",
    "myresult = mycursor.fetchall()\n",
    "\n",
    "#Se crea un dataframe con los resultados de la consulta SQL almacenados en myresult.\n",
    "df_customers = pd.DataFrame(myresult)\n",
    "#print(df_customers)\n",
    "\n",
    "#Cerramos la conexion\n",
    "cnx.close()"
   ]
  },
  {
   "cell_type": "markdown",
   "metadata": {},
   "source": [
    "#### EJERCICIO 9\n",
    "\n",
    "Como Customers tiene un número de registros muy elevado, crea un nuevo dataframe con los 20 primeros registros e imprímelos por pantalla:"
   ]
  },
  {
   "cell_type": "code",
   "execution_count": null,
   "metadata": {},
   "outputs": [],
   "source": [
    "import mysql.connector\n",
    "import pandas as pd\n",
    "\n",
    "cnx = mysql.connector.connect(user='root', password='AlumnaAdalab',\n",
    "                              host='127.0.0.1',\n",
    "                              database='tienda')\n",
    "\n",
    "print(cnx)\n",
    "mycursor = cnx.cursor()\n",
    "mycursor.execute(\"SELECT * FROM Customers LIMIT 20\")\n",
    "myresult = mycursor.fetchall()\n",
    "\n",
    "#Se crea un dataframe con los resultados de la consulta SQL almacenados en myresult.\n",
    "df_customers = pd.DataFrame(myresult)\n",
    "print(df_customers)\n",
    "\n",
    "#Cerramos la conexion\n",
    "cnx.close()"
   ]
  },
  {
   "cell_type": "markdown",
   "metadata": {},
   "source": [
    "#### EJERCICIO 10\n",
    "\n",
    "El resultado anterior tiene 13 columnas, por lo que no es cómodo para su visualización por el terminal (o en este mismo notebook).\n",
    "Crea un dataframe con los resultados para los 20 primeros registros, ordenados por el nombre del cliente (customerName) y guarda los resultados en un fichero .csv, cuyas columnas estén separadas por ';'."
   ]
  },
  {
   "cell_type": "code",
   "execution_count": null,
   "metadata": {},
   "outputs": [],
   "source": [
    "import mysql.connector\n",
    "import pandas as pd\n",
    "\n",
    "cnx = mysql.connector.connect(user='root', password='AlumnaAdalab',\n",
    "                              host='127.0.0.1',\n",
    "                              database='tienda')\n",
    "\n",
    "print(cnx)\n",
    "mycursor = cnx.cursor()\n",
    "mycursor.execute(\"SELECT * FROM Customers ORDER BY customerName LIMIT 20\")\n",
    "myresult = mycursor.fetchall()\n",
    "\n",
    "#Se crea un dataframe con los resultados de la consulta SQL almacenados en myresult.\n",
    "df_customers = pd.DataFrame(myresult)\n",
    "print(df_customers)\n",
    "\n",
    "df_customers.to_csv('ejercicio3.csv',sep=';')\n",
    "\n",
    "#Cerramos la conexion\n",
    "cnx.close()"
   ]
  },
  {
   "cell_type": "code",
   "execution_count": null,
   "metadata": {},
   "outputs": [],
   "source": []
  },
  {
   "cell_type": "code",
   "execution_count": null,
   "metadata": {},
   "outputs": [],
   "source": []
  }
 ],
 "metadata": {
  "language_info": {
   "name": "python"
  },
  "orig_nbformat": 4
 },
 "nbformat": 4,
 "nbformat_minor": 2
}
