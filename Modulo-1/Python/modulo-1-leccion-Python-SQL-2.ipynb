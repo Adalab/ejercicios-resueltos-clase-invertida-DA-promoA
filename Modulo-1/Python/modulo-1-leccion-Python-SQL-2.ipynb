{
 "cells": [
  {
   "cell_type": "markdown",
   "metadata": {},
   "source": [
    "#### EJERCICIO 1\n",
    "\n",
    "Crea una tabla Proyectos con información acerca de los proyectos de una empresa. Que al menos tenga los campos ID_Proyecto, NombreProyecto, Presupuesto.\n",
    "Piensa cómo definir los tipos de datos de las columnas, clave primaria, clave foránea y otras restricciones."
   ]
  },
  {
   "cell_type": "code",
   "execution_count": null,
   "metadata": {},
   "outputs": [],
   "source": [
    "import mysql.connector\n",
    "\n",
    "cnx = mysql.connector.connect(user='root', password='AlumnaAdalab',\n",
    "                              host='127.0.0.1', database='tienda')\n",
    "\n",
    "\n",
    "mycursor = cnx.cursor()\n",
    "try:\n",
    "    mycursor.execute(\"CREATE TABLE Proyectos (ID_Proyecto INT, NombreProyecto VARCHAR(50) NOT NULL, Presupuesto FLOAT NOT NULL, PRIMARY KEY (ID_Proyecto))\")\n",
    "    print(mycursor)\n",
    "except mysql.connector.Error as err:\n",
    "    print(err)\n",
    "    print(\"Error Code:\", err.errno)\n",
    "    print(\"SQLSTATE\", err.sqlstate)\n",
    "    print(\"Message\", err.msg)"
   ]
  },
  {
   "cell_type": "markdown",
   "metadata": {},
   "source": [
    "#### EJERCICIO 2\n",
    "Crea una tabla llamada \"EmpleadasYProyectos\" que contenga información sobre proyectos a los que esten asociadas las empleadas. Haz que dicha tabla tenga dos atributos: ID_Empleada e ID_Proyecto."
   ]
  },
  {
   "cell_type": "code",
   "execution_count": null,
   "metadata": {},
   "outputs": [],
   "source": [
    "import mysql.connector\n",
    "\n",
    "cnx = mysql.connector.connect(user='root', password='AlumnaAdalab',\n",
    "                              host='127.0.0.1', database='tienda')\n",
    "\n",
    "\n",
    "mycursor = cnx.cursor()\n",
    "try:\n",
    "    mycursor.execute(\"CREATE TABLE EmpleadasYProyectos (ID_Empleada INT, ID_Proyecto INT, PRIMARY KEY (ID_Empleada, ID_Proyecto), FOREIGN KEY (ID_Proyecto) REFERENCES Proyectos(ID_Proyecto))\")\n",
    "    print(mycursor)\n",
    "except mysql.connector.Error as err:\n",
    "    print(err)\n",
    "    print(\"Error Code:\", err.errno)\n",
    "    print(\"SQLSTATE\", err.sqlstate)\n",
    "    print(\"Message\", err.msg)"
   ]
  },
  {
   "cell_type": "markdown",
   "metadata": {},
   "source": [
    "#### EJERCICIO 3\n",
    "\n",
    "Inserta entradas en la tabla Proyectos (las que quieras, pero al menos 3):"
   ]
  },
  {
   "cell_type": "code",
   "execution_count": null,
   "metadata": {},
   "outputs": [],
   "source": [
    "import mysql.connector\n",
    "\n",
    "cnx = mysql.connector.connect(user='root', password='AlumnaAdalab',\n",
    "                              host='127.0.0.1', database='tienda')\n",
    "\n",
    "\n",
    "mycursor = cnx.cursor()\n",
    "sql = \"INSERT INTO Proyectos (ID_Proyecto, NombreProyecto, Presupuesto) VALUES (%s, %s, %s)\"\n",
    "val = [\n",
    "  (1, 'Proyecto1',1000.0),\n",
    "  (2, 'Proyecto2', 2000.0),\n",
    "  (3, 'Proyecto2', 132.0)\n",
    "]\n",
    "\n",
    "try: \n",
    "    mycursor.executemany(sql, val)\n",
    "    cnx.commit()\n",
    "    print(mycursor.rowcount, \"registro/s insertado/s.\")\n",
    "\n",
    "except mysql.connector.Error as err:\n",
    "    print(err)\n",
    "    print(\"Error Code:\", err.errno)\n",
    "    print(\"SQLSTATE\", err.sqlstate)\n",
    "    print(\"Message\", err.msg)"
   ]
  },
  {
   "cell_type": "markdown",
   "metadata": {},
   "source": [
    "#### EJERCICIO 4\n",
    "\n",
    "Elimina el último registro de los que insertaste en el ejercicio anterior:"
   ]
  },
  {
   "cell_type": "code",
   "execution_count": null,
   "metadata": {},
   "outputs": [],
   "source": [
    "import mysql.connector\n",
    "\n",
    "cnx = mysql.connector.connect(user='root', password='AlumnaAdalab',\n",
    "                              host='127.0.0.1', database='tienda')\n",
    "\n",
    "\n",
    "mycursor = cnx.cursor()\n",
    "sql = \"DELETE FROM Proyectos WHERE ID_Proyecto = 3\"\n",
    "try:\n",
    "    mycursor.execute(sql)\n",
    "    cnx.commit()\n",
    "    print(mycursor.rowcount, \"registro/s eliminado/s\")\n",
    "\n",
    "except mysql.connector.Error as err:\n",
    "    print(err)\n",
    "    print(\"Error Code:\", err.errno)\n",
    "    print(\"SQLSTATE\", err.sqlstate)\n",
    "    print(\"Message\", err.msg)"
   ]
  },
  {
   "cell_type": "markdown",
   "metadata": {},
   "source": [
    "#### EJERCICIO 5\n",
    "\n",
    "Elimina la tabla EmpleadasYProyectos:"
   ]
  },
  {
   "cell_type": "code",
   "execution_count": null,
   "metadata": {},
   "outputs": [],
   "source": [
    "import mysql.connector\n",
    "\n",
    "cnx = mysql.connector.connect(user='root', password='AlumnaAdalab',\n",
    "                              host='127.0.0.1', database='tienda')\n",
    "\n",
    "\n",
    "mycursor = cnx.cursor()\n",
    "sql = \"DROP TABLE EmpleadasYProyectos\"\n",
    "try:\n",
    "    mycursor.execute(sql)\n",
    "\n",
    "except mysql.connector.Error as err:\n",
    "    print(err)\n",
    "    print(\"Error Code:\", err.errno)\n",
    "    print(\"SQLSTATE\", err.sqlstate)\n",
    "    print(\"Message\", err.msg)"
   ]
  },
  {
   "cell_type": "markdown",
   "metadata": {},
   "source": [
    "#### EJERCICIO 6\n",
    "\n",
    "Crea una base de datos llamada BD_Alumna:"
   ]
  },
  {
   "cell_type": "code",
   "execution_count": null,
   "metadata": {},
   "outputs": [],
   "source": [
    "import mysql.connector\n",
    "\n",
    "cnx = mysql.connector.connect(user='root', password='AlumnaAdalab',\n",
    "                              host='127.0.0.1')\n",
    "\n",
    "\n",
    "mycursor = cnx.cursor()\n",
    "try:\n",
    "    mycursor.execute(\"CREATE DATABASE BD_Alumna\")\n",
    "    print(mycursor)\n",
    "except mysql.connector.Error as err:\n",
    "    print(err)\n",
    "    print(\"Error Code:\", err.errno)\n",
    "    print(\"SQLSTATE\", err.sqlstate)\n",
    "    print(\"Message\", err.msg)"
   ]
  },
  {
   "cell_type": "markdown",
   "metadata": {},
   "source": [
    "#### EJERCICIO 7\n",
    "\n",
    "Actualiza la primera entrada de la tabla Proyectos cambiando el Presupuesto del proyecto con ID_Proyecto = 1 a 30000€:"
   ]
  },
  {
   "cell_type": "code",
   "execution_count": null,
   "metadata": {},
   "outputs": [],
   "source": [
    "import mysql.connector\n",
    "\n",
    "cnx = mysql.connector.connect(user='root', password='AlumnaAdalab',\n",
    "                              host='127.0.0.1', database='tienda')\n",
    "\n",
    "\n",
    "mycursor = cnx.cursor()\n",
    "sql = \"UPDATE Proyectos SET Presupuesto = 30000 WHERE ID_Proyecto = 1\"\n",
    "try:\n",
    "    mycursor.execute(sql)\n",
    "    cnx.commit()\n",
    "    print(mycursor.rowcount, \"registro/s modificado/s.\")\n",
    "\n",
    "except mysql.connector.Error as err:\n",
    "    print(err)\n",
    "    print(\"Error Code:\", err.errno)\n",
    "    print(\"SQLSTATE\", err.sqlstate)\n",
    "    print(\"Message\", err.msg)\n",
    "\n",
    "mycursor.execute(\"SELECT * FROM Proyectos\")  \n",
    "results = mycursor.fetchall()\n",
    "print(results)"
   ]
  },
  {
   "cell_type": "code",
   "execution_count": null,
   "metadata": {},
   "outputs": [],
   "source": []
  }
 ],
 "metadata": {
  "language_info": {
   "name": "python"
  },
  "orig_nbformat": 4
 },
 "nbformat": 4,
 "nbformat_minor": 2
}
