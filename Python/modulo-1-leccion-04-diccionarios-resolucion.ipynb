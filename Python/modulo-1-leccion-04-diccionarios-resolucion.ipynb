{
 "cells": [
  {
   "cell_type": "markdown",
   "metadata": {},
   "source": [
    "# Resolución ejercicios Diccionarios"
   ]
  },
  {
   "cell_type": "markdown",
   "metadata": {
    "id": "5PcBreuKcX1-"
   },
   "source": [
    "\n",
    "\n",
    "---\n",
    "\n",
    "\n",
    "## Ejercicios: definir diccionarios\n",
    "\n",
    "- Definir diccionarios\n",
    "\n",
    "  1. Crea un dict `festivos` con las fechas como claves y los nombres como valores: 01/01 Año Nuevo, 06/01 Epifanía del Señor, 15/04 Viernes Santo, 15/08 Asunción de la Virgen, 12/10 Fiesta Nacional de España, 01/11 Todos los Santos, 06/12 Día de la Constitución Española, y 08/12 Inmaculada Concepción.\n",
    "  2. Crea un dict `monarcas` con los países como claves y los nombres como valores: Bélgica Philippe, Dinamarca Margrethe II, Holanda Beatrix, Noruega Harald V, España Felipe VI, Reino Unido Elizabeth II.\n",
    "\n",
    "- Leer, añadir, y cambiar elementos\n",
    "\n",
    "  3. Qué festivo hay el 15/04?\n",
    "  4. La reina `'Beatrix'` abdicó, ahora es el rey `'Willem-Alexander'`. Actualiza el dict.\n",
    "  5. El rey de Luxemburgo se llama `Henri`. Añadelo al dict usando `.update()`. \n",
    "\n",
    "---\n",
    "\n"
   ]
  },
  {
   "cell_type": "code",
   "execution_count": 7,
   "metadata": {
    "id": "Z5I4yJpqcX2F"
   },
   "outputs": [
    {
     "name": "stdout",
     "output_type": "stream",
     "text": [
      "3. Viernes Santo\n",
      "4. {'Bélgica': 'Philippe', 'Dinamarca': 'Margrethe II', 'Holanda': 'Willem-Alexander', 'Noruega': 'Harald V', 'España': 'Felipe VI', 'Reino Unido': 'Elizabeth II'}\n",
      "5. {'Bélgica': 'Philippe', 'Dinamarca': 'Margrethe II', 'Holanda': 'Willem-Alexander', 'Noruega': 'Harald V', 'España': 'Felipe VI', 'Reino Unido': 'Elizabeth II', 'Luxemburgo': 'Henri'}\n"
     ]
    }
   ],
   "source": [
    "# 1.\n",
    "festivos = {'01/01':'Año Nuevo', \n",
    "            '06/01':'Epifanía del Señor', \n",
    "            '15/04':'Viernes Santo', \n",
    "            '15/08':'Asunción de la Virgen', \n",
    "            '12/10':'Fiesta Nacional de España', \n",
    "            '01/11':'Todos los Santos', \n",
    "            '06/12':'Día de la Constitución Española', \n",
    "            '08/12':'Inmaculada Concepción'}\n",
    "\n",
    "# 2.\n",
    "monarcas = {'Bélgica'    :'Philippe'    , \n",
    "            'Dinamarca'  :'Margrethe II', \n",
    "            'Holanda'    :'Beatrix'     , \n",
    "            'Noruega'    :'Harald V'    , \n",
    "            'España'     :'Felipe VI'   , \n",
    "            'Reino Unido':'Elizabeth II'}\n",
    "\n",
    "# 3.\n",
    "print('3.', festivos['15/04'])\n",
    "\n",
    "# 4.\n",
    "monarcas['Holanda'] = 'Willem-Alexander'\n",
    "print('4.', monarcas)\n",
    "\n",
    "# 5.\n",
    "monarcas['Luxemburgo'] = 'Henri'\n",
    "print('5.', monarcas)"
   ]
  },
  {
   "cell_type": "markdown",
   "metadata": {
    "id": "5PcBreuKcX1-"
   },
   "source": [
    "\n",
    "\n",
    "---\n",
    "\n",
    "\n",
    "## Ejercicios: propiedades de un `dict`\n",
    "\n",
    "- Comprobar contenidos\n",
    "\n",
    "  6. ¿Cuántos países están definidos en `monarcas`?\n",
    "  7. ¿Es `'Monaco'` uno de ellos?\n",
    "  8. ¿Es verdad que nos olvidamos de poner `'Suecia'`? Compruébalo de una manera en que obtengas un `True`.\n",
    "\n",
    "- Listar los contenidos\n",
    "\n",
    "  9. Saca una lista de todos los *países* en el dict `monarcas`.\n",
    "  10. Saca una lista de los nombres de los festivos.\n",
    "  11. Imprime el diccionario de festivos.\n",
    "  12. Imprime una lista de todos los elementos que hay en festivos.\n",
    "\n",
    "---\n",
    "\n"
   ]
  },
  {
   "cell_type": "code",
   "execution_count": 14,
   "metadata": {
    "id": "Z5I4yJpqcX2F"
   },
   "outputs": [
    {
     "name": "stdout",
     "output_type": "stream",
     "text": [
      "6. 7\n",
      "7. False\n",
      "8. True\n",
      "9. dict_keys(['Bélgica', 'Dinamarca', 'Holanda', 'Noruega', 'España', 'Reino Unido', 'Luxemburgo'])\n",
      "10. dict_values(['Año Nuevo', 'Epifanía del Señor', 'Viernes Santo', 'Asunción de la Virgen', 'Fiesta Nacional de España', 'Todos los Santos', 'Día de la Constitución Española', 'Inmaculada Concepción'])\n",
      "11. {'01/01': 'Año Nuevo', '06/01': 'Epifanía del Señor', '15/04': 'Viernes Santo', '15/08': 'Asunción de la Virgen', '12/10': 'Fiesta Nacional de España', '01/11': 'Todos los Santos', '06/12': 'Día de la Constitución Española', '08/12': 'Inmaculada Concepción'}\n",
      "12. dict_items([('01/01', 'Año Nuevo'), ('06/01', 'Epifanía del Señor'), ('15/04', 'Viernes Santo'), ('15/08', 'Asunción de la Virgen'), ('12/10', 'Fiesta Nacional de España'), ('01/11', 'Todos los Santos'), ('06/12', 'Día de la Constitución Española'), ('08/12', 'Inmaculada Concepción')])\n"
     ]
    }
   ],
   "source": [
    "# 6.-8.\n",
    "print('6.', len(monarcas))\n",
    "print('7.', 'Monaco' in monarcas)\n",
    "print('8.', 'Suecia' not in monarcas)\n",
    "\n",
    "# 9.-12.\n",
    "print('9.', monarcas.keys())\n",
    "print('10.', festivos.values())\n",
    "print('11.', festivos)\n",
    "print('12.', festivos.items())"
   ]
  },
  {
   "cell_type": "markdown",
   "metadata": {
    "id": "5PcBreuKcX1-"
   },
   "source": [
    "\n",
    "\n",
    "---\n",
    "\n",
    "\n",
    "## Ejercicios: más métodos para dicts\n",
    "\n",
    "- Copiar dicts, y borrar elementos\n",
    "\n",
    "  13. Copia `monarcas` a `monarcas2010`.\n",
    "  14. Quita España de `monarcas2010` con `.pop()`.\n",
    "  15. Borra Holanda y Bélgica de `monarcas2010` con `del`.\n",
    "  16. Quita el último elemento de `monarcas2010` (que añadimos en ejercicio 5.).\n",
    "\n",
    "- Vaciar y borrar dicts\n",
    "\n",
    "  17. Vacia el dict `monarcas2010` usando el método para ello.\n",
    "  18. Borra el dict `monarcas2010` entero.\n",
    "\n",
    "- Obtener valores\n",
    "\n",
    "  19. ¿Qué festivo hay el 06/01?\n",
    "  20. Obten el festivo que haya el 08/03, y en su defecto devuélve 'Día Internacional de la Mujer'.\n",
    "  20. Obten el festivo que haya el 15/04, y en su defecto devuélve 'Semana Santa'.\n",
    "\n",
    "\n",
    "---\n",
    "\n"
   ]
  },
  {
   "cell_type": "code",
   "execution_count": 25,
   "metadata": {
    "id": "Z5I4yJpqcX2F"
   },
   "outputs": [
    {
     "name": "stdout",
     "output_type": "stream",
     "text": [
      "13. {'Bélgica': 'Philippe', 'Dinamarca': 'Margrethe II', 'Holanda': 'Willem-Alexander', 'Noruega': 'Harald V', 'España': 'Felipe VI', 'Reino Unido': 'Elizabeth II', 'Luxemburgo': 'Henri'}\n",
      "14. Felipe VI\n",
      "15. {'Dinamarca': 'Margrethe II', 'Noruega': 'Harald V', 'Reino Unido': 'Elizabeth II', 'Luxemburgo': 'Henri'}\n",
      "16. ('Luxemburgo', 'Henri')\n",
      "    {'Dinamarca': 'Margrethe II', 'Noruega': 'Harald V', 'Reino Unido': 'Elizabeth II'}\n",
      "17. None\n",
      "19. Epifanía del Señor\n",
      "20. Día Internacional de la Mujer\n",
      "21. Viernes Santo\n"
     ]
    }
   ],
   "source": [
    "# 13.-14.\n",
    "monarcas2010 = monarcas.copy()\n",
    "print('13.',monarcas2010)\n",
    "print('14.',monarcas2010.pop('España'))\n",
    "\n",
    "# 15.-16.\n",
    "del monarcas2010['Bélgica'],monarcas2010['Holanda']\n",
    "print('15.',monarcas2010)\n",
    "print('16.',monarcas2010.popitem())\n",
    "print('   ',monarcas2010)\n",
    "\n",
    "# 17.\n",
    "print('17.',monarcas2010.clear())\n",
    "\n",
    "# 18.\n",
    "del monarcas2010\n",
    "\n",
    "# 19.-21.\n",
    "print('19.',festivos['06/01'])\n",
    "print('20.',festivos.get('08/03','Día Internacional de la Mujer'))\n",
    "print('21.',festivos.get('15/04','Semana Santa'))\n"
   ]
  },
  {
   "cell_type": "markdown",
   "metadata": {
    "id": "aCLnA8lRcX2F"
   },
   "source": [
    "\n",
    "\n",
    "---\n"
   ]
  }
 ],
 "metadata": {
  "interpreter": {
   "hash": "a0ccb3fb2a12034e618c66a243d7fd6d5f37b04d32daddf997049a3f07fbb524"
  },
  "kernelspec": {
   "display_name": "Python 3.10.2 64-bit",
   "language": "python",
   "name": "python3"
  },
  "language_info": {
   "codemirror_mode": {
    "name": "ipython",
    "version": 3
   },
   "file_extension": ".py",
   "mimetype": "text/x-python",
   "name": "python",
   "nbconvert_exporter": "python",
   "pygments_lexer": "ipython3",
   "version": "3.10.2"
  },
  "orig_nbformat": 4
 },
 "nbformat": 4,
 "nbformat_minor": 2
}
