{
 "cells": [
  {
   "cell_type": "code",
   "execution_count": null,
   "metadata": {},
   "outputs": [],
   "source": []
  },
  {
   "cell_type": "markdown",
   "metadata": {},
   "source": [
    "# Challenges para entrevistas técnicas\n",
    "\n"
   ]
  },
  {
   "cell_type": "code",
   "execution_count": 54,
   "metadata": {},
   "outputs": [],
   "source": [
    "# Importacion de librerias\n",
    "\n",
    "import numpy as np\n",
    "import random\n",
    "import re"
   ]
  },
  {
   "cell_type": "markdown",
   "metadata": {},
   "source": [
    "## Calentamiento\n",
    "\n",
    "### 1. Índices\n",
    "Saca la lista de los *valores* de este diccionario y encuéntra la ubicación de la palabra 'Adalab'.\n",
    "\n",
    "```python\n",
    "    dict = {'alpha':15, 'beta':True, 'gamma':'alumnas', 'delta':2, 'epsilon':-500.13, 'zeta':False, 'eta':[1,2,3], 'theta':'Adalab', 'iota':0, 'kappa':'K', 'lambda':1e5, 'mu':'apple', 'nu':'RGB', 'xi':'Ada'}\n",
    "```"
   ]
  },
  {
   "cell_type": "markdown",
   "metadata": {},
   "source": [
    "# SOL 1"
   ]
  },
  {
   "cell_type": "code",
   "execution_count": 8,
   "metadata": {},
   "outputs": [
    {
     "name": "stdout",
     "output_type": "stream",
     "text": [
      "Aqui tienes todo el diccionario [15, True, 'alumnas', 2, -500.13, False, [1, 2, 3], 'Adalab', 0, 'K', 100000.0, 'apple', 'RGB', 'Ada']\n",
      "El índice lo tienes en la posicion 7\n"
     ]
    }
   ],
   "source": [
    "dict = {'alpha':15, 'beta':True, 'gamma':'alumnas', 'delta':2, 'epsilon':-500.13, 'zeta':False, 'eta':[1,2,3], 'theta':'Adalab', 'iota':0, 'kappa':'K', 'lambda':1e5, 'mu':'apple', 'nu':'RGB', 'xi':'Ada'}\n",
    "\n",
    "lista = list(dict.values())\n",
    "\n",
    "print('Aqui tienes todo los valores del diccionario',list(dict.values()) )\n",
    "for  values in lista:\n",
    "    if values == 'Adalab':\n",
    "        print('El índice lo tienes en la posicion',lista.index('Adalab'))\n",
    "   \n"
   ]
  },
  {
   "cell_type": "markdown",
   "metadata": {},
   "source": [
    "# Sol 2"
   ]
  },
  {
   "cell_type": "code",
   "execution_count": 7,
   "metadata": {},
   "outputs": [
    {
     "name": "stdout",
     "output_type": "stream",
     "text": [
      "Aqui tienes todo el diccionario [15, True, 'alumnas', 2, -500.13, False, [1, 2, 3], 'Adalab', 0, 'K', 100000.0, 'apple', 'RGB', 'Ada']\n",
      "El índice lo tienes en la posicion 7\n"
     ]
    }
   ],
   "source": [
    "dict = {'alpha':15, 'beta':True, 'gamma':'alumnas', 'delta':2, 'epsilon':-500.13, 'zeta':False, 'eta':[1,2,3], 'theta':'Adalab', 'iota':0, 'kappa':'K', 'lambda':1e5, 'mu':'apple', 'nu':'RGB', 'xi':'Ada'}\n",
    "\n",
    "i=0\n",
    "print('Aqui tienes todo los valores del diccionario',list(dict.values()) )\n",
    "for key, values in dict.items():\n",
    "    if values == 'Adalab': \n",
    "        print('El índice lo tienes en la posicion',i)\n",
    "    i = i+1 \n"
   ]
  },
  {
   "cell_type": "markdown",
   "metadata": {},
   "source": [
    "# Sol 3"
   ]
  },
  {
   "cell_type": "code",
   "execution_count": 4,
   "metadata": {},
   "outputs": [
    {
     "data": {
      "text/plain": [
       "7"
      ]
     },
     "execution_count": 4,
     "metadata": {},
     "output_type": "execute_result"
    }
   ],
   "source": [
    "print('Aqui tienes todo los valores del diccionario',list(dict.values()) )\n",
    "lista = list(dict.values())\n",
    "lista.index('Adalab')"
   ]
  },
  {
   "cell_type": "markdown",
   "metadata": {},
   "source": [
    "### 2. Contenedores\n",
    "\n",
    "Si me interesa encontrar los contenidos de dos listas aleatorias que *no* estén en ambas, ¿qué tipo de contenedor me puede servir? ¿Cómo lo harías?"
   ]
  },
  {
   "cell_type": "markdown",
   "metadata": {},
   "source": [
    "# Sol 1"
   ]
  },
  {
   "cell_type": "code",
   "execution_count": 30,
   "metadata": {},
   "outputs": [
    {
     "data": {
      "text/plain": [
       "[3, 4, 5, 6, 8, 9, 10, 12]"
      ]
     },
     "execution_count": 30,
     "metadata": {},
     "output_type": "execute_result"
    }
   ],
   "source": [
    "import numpy as  np\n",
    "np.random.seed(42)\n",
    "array1 = np.random.randint(1,10,10)\n",
    "array2 =np.random.randint(5,15,10)\n",
    "list(np.setxor1d(array1,array2))"
   ]
  },
  {
   "cell_type": "markdown",
   "metadata": {},
   "source": [
    "# Sol 2"
   ]
  },
  {
   "cell_type": "code",
   "execution_count": 29,
   "metadata": {},
   "outputs": [
    {
     "data": {
      "text/plain": [
       "[3, 4, 5, 6, 8, 9, 10, 12]"
      ]
     },
     "execution_count": 29,
     "metadata": {},
     "output_type": "execute_result"
    }
   ],
   "source": [
    "np.random.seed(42)\n",
    "lista1 = list(np.random.randint(1,10,10))\n",
    "lista2 =list(np.random.randint(5,15,10))\n",
    "list(set(lista1) ^ set(lista2))"
   ]
  },
  {
   "cell_type": "markdown",
   "metadata": {},
   "source": [
    "### 3. Funciones\n",
    "\n",
    "Haremos una función que, al llamarla, nos devuelve la suma de la lista, y *a la vez* nos deja la lista que le dimos como argumento ordenado sin devolverla."
   ]
  },
  {
   "cell_type": "code",
   "execution_count": 44,
   "metadata": {},
   "outputs": [
    {
     "data": {
      "text/plain": [
       "[81, 14, 3, 94, 35]"
      ]
     },
     "execution_count": 44,
     "metadata": {},
     "output_type": "execute_result"
    }
   ],
   "source": [
    "random.seed(42)\n",
    "lista = random.sample(range(100),5)\n",
    "\n",
    "# definicion de la funcion \n",
    "def suma(lista):\n",
    "    lista.sort()\n",
    "    return sum(lista)\n",
    "    # Este el programita\n",
    "\n",
    "print('La lista inicial', lista)\n",
    "print('La suma es:', suma(lista))\n",
    "print('La lista despues de ordenarse', lista)"
   ]
  },
  {
   "cell_type": "markdown",
   "metadata": {},
   "source": [
    "### 4. List comprehensions\n",
    "\n",
    "Como os acordáis, se puede generar una lista usando un for loop, pero hay un atajo: la list comprehension. De la misma manera queremos construir un diccionario en una sola línea, usando una dict comprehension.\n",
    "\n",
    "```python\n",
    "    resultado = []\n",
    "    for item in lista:\n",
    "        if item > 5:\n",
    "            resultado.append(item-5)\n",
    "        else:\n",
    "            resultado.append(item)\n",
    "```\n",
    "\n",
    "sería\n",
    "\n",
    "```python\n",
    "    resultado = [item-5 if item>5 else item for item in lista]\n",
    "```\n",
    "\n",
    "Para cada alumna queremos generar un nombre de usuario semi-anónimo, queremos que se guarde en un dictionario tanto el nombre original como el nombre de usuario. Nos basamos en sus cumpleaños.\n",
    "\n",
    "Ejemplo:\n",
    "\n",
    "```python\n",
    "    alumnas = {'Anne': '11-03'}\n",
    "    usuarios = {'Anne': 'A11e03'}\n",
    "```\n"
   ]
  },
  {
   "cell_type": "code",
   "execution_count": 48,
   "metadata": {},
   "outputs": [],
   "source": [
    "alumnas = {'Lorena':'15-09', 'Jennifer':'03-12', 'Camila':'30-04', 'Margarita':'12-06'}\n",
    "usuarias = {nombre:nombre[0]+fechas[:2]+nombre[-1]+fechas[-2:] for nombre, fechas in alumnas.items()}\n",
    "usuarias"
   ]
  },
  {
   "cell_type": "markdown",
   "metadata": {},
   "source": [
    "### 5. ¿Es un DNI valido?\n",
    "\n",
    "Los DNI españoles pueden ser:\n",
    "\n",
    "- NIF (Numero de Identificación Fiscal) - 8 numeros y una letra, o\n",
    "- NIE (Numero de Identificación de Extranjeros) - 1 letra, 7 numeros y 1 letra.\n",
    "\n",
    "La última letra es una [letra de control](http://www.interior.gob.es/web/servicios-al-ciudadano/dni/calculo-del-digito-de-control-del-nif-nie). Comprueba si un DNI dado (en formato string) es válido o no."
   ]
  },
  {
   "cell_type": "code",
   "execution_count": null,
   "metadata": {},
   "outputs": [],
   "source": [
    "\n",
    "dni = 'Y5785826Y'\n",
    "\n",
    "equiv = {'X':'0','Y':'1','Z':'2'}\n",
    "controls = 'TRWAGMYFPDXBNJZSQVHLCKE'\n",
    "\n",
    "if dni[0] in equiv.keys():\n",
    "    dni = equiv[dni[0]]+dni[1:]\n",
    "\n",
    "if dni[-1] == controls[int(re.search('\\d+',dni).group())%23]:\n",
    "    print('valido')\n",
    "else:\n",
    "    print('invalido')"
   ]
  },
  {
   "cell_type": "markdown",
   "metadata": {},
   "source": [
    "## Amazon coding questions\n",
    "\n",
    "### 1. Encuentra el número que no está en la lista\n",
    "Tenemos una lista desordenada con números positivos de `1` a `n`. Siempre faltará un sólo número de esta lista aleatoria, ¿cómo identifico cuál falta? Usa una función para que este código devuelve los resultados deseados:\n",
    "\n",
    "```python\n",
    "    lista1 = [3,7,1,2,8,4,5]\n",
    "    x = find_missing(lista1) # nos tiene que devolver 6\n",
    "    print(x)\n",
    "\n",
    "    lista2 = [4,6,1,3,5]\n",
    "    x = find_missing(lista2) # nos tiene que devolver 2\n",
    "    print(x)\n",
    "```"
   ]
  },
  {
   "cell_type": "markdown",
   "metadata": {},
   "source": [
    "# SOL 1"
   ]
  },
  {
   "cell_type": "code",
   "execution_count": 69,
   "metadata": {},
   "outputs": [
    {
     "name": "stdout",
     "output_type": "stream",
     "text": [
      " el valor que falta es 6\n"
     ]
    }
   ],
   "source": [
    "def find_missing(list):\n",
    "    lista_ordenada = sorted(list)\n",
    "    for values in range(lista_ordenada[0], lista_ordenada[-1]+1):\n",
    "        if values not in lista_ordenada:\n",
    "            faltante = values\n",
    "    return faltante\n",
    "print(' el valor que falta es', find_missing(lista1))\n"
   ]
  },
  {
   "cell_type": "code",
   "execution_count": 71,
   "metadata": {},
   "outputs": [
    {
     "name": "stdout",
     "output_type": "stream",
     "text": [
      " el valor que falta es 2\n"
     ]
    }
   ],
   "source": [
    "print(' el valor que falta es', find_missing(lista2))"
   ]
  },
  {
   "cell_type": "markdown",
   "metadata": {},
   "source": [
    "# Sol 2"
   ]
  },
  {
   "cell_type": "code",
   "execution_count": 72,
   "metadata": {},
   "outputs": [
    {
     "name": "stdout",
     "output_type": "stream",
     "text": [
      " el valor que falta es 6\n"
     ]
    }
   ],
   "source": [
    "def find_missing(list):\n",
    "    for values in range(min(list), max(list)+1):\n",
    "        if values not in list:\n",
    "            faltante = values\n",
    "    return faltante\n",
    "print(' el valor que falta es', find_missing(lista1))"
   ]
  },
  {
   "cell_type": "markdown",
   "metadata": {},
   "source": [
    "# Sol 3"
   ]
  },
  {
   "cell_type": "code",
   "execution_count": null,
   "metadata": {},
   "outputs": [],
   "source": [
    "def find_missing(input):\n",
    "    sum_of_elements = sum(input)\n",
    "    n = len(input) + 1\n",
    "    actual_sum = (n * (n + 1) ) / 2\n",
    "    return actual_sum - sum_of_elements\n",
    "    # return [x for x in range(1,len(input)+1) if x not in input][0]"
   ]
  },
  {
   "cell_type": "code",
   "execution_count": 59,
   "metadata": {},
   "outputs": [],
   "source": [
    "lista_ordenada = sorted(lista1)"
   ]
  },
  {
   "cell_type": "markdown",
   "metadata": {},
   "source": [
    "### 2. Cortar strings\n",
    "Nos dan un string largo y un set de palabras cortas. Comprueba si es posible cortar el string dado en trozos del set. Hay distintos caminos para resolver esto, antes de empezar, ¿cuál será el más fácil en programar?\n",
    "\n",
    "```python\n",
    "    can_segment_string('apple', {'app', 'ple'}) # False\n",
    "    can_segment_string('apple', {'ap', 'ple'}) # True\n",
    "```"
   ]
  },
  {
   "cell_type": "code",
   "execution_count": null,
   "metadata": {},
   "outputs": [],
   "source": [
    "def can_segment_string(s, wordlist):\n",
    "  #TODO: Write - Your - Code\n",
    "  return"
   ]
  },
  {
   "cell_type": "code",
   "execution_count": 73,
   "metadata": {},
   "outputs": [],
   "source": [
    "parte_palabra = {'Tit','a','n','as'}"
   ]
  },
  {
   "cell_type": "code",
   "execution_count": 77,
   "metadata": {},
   "outputs": [
    {
     "ename": "NameError",
     "evalue": "name 'unset' is not defined",
     "output_type": "error",
     "traceback": [
      "\u001b[0;31m---------------------------------------------------------------------------\u001b[0m",
      "\u001b[0;31mNameError\u001b[0m                                 Traceback (most recent call last)",
      "\u001b[0;32m<ipython-input-77-1674e2078ba8>\u001b[0m in \u001b[0;36m<module>\u001b[0;34m\u001b[0m\n\u001b[0;32m----> 1\u001b[0;31m \u001b[0munset\u001b[0m\u001b[0;34m(\u001b[0m\u001b[0mparte_palabra\u001b[0m\u001b[0;34m)\u001b[0m\u001b[0;34m\u001b[0m\u001b[0;34m\u001b[0m\u001b[0m\n\u001b[0m",
      "\u001b[0;31mNameError\u001b[0m: name 'unset' is not defined"
     ]
    }
   ],
   "source": [
    "unset(parte_palabra)"
   ]
  },
  {
   "cell_type": "code",
   "execution_count": 85,
   "metadata": {},
   "outputs": [],
   "source": [
    "palabra='Titanas'\n",
    "parte_palabra={'Tit','a','n','as'}\n",
    "joined_string = \"\".join(parte_palabra) "
   ]
  },
  {
   "cell_type": "code",
   "execution_count": 86,
   "metadata": {},
   "outputs": [
    {
     "data": {
      "text/plain": [
       "'Titasan'"
      ]
     },
     "execution_count": 86,
     "metadata": {},
     "output_type": "execute_result"
    }
   ],
   "source": [
    "joined_string"
   ]
  },
  {
   "cell_type": "code",
   "execution_count": 81,
   "metadata": {},
   "outputs": [],
   "source": [
    "palabra = 'Titanas'\n",
    "parte_palabra = {'Tit','a','n','as'}\n",
    "\n",
    "def can_segment_string(palabra, parte_palabra):\n",
    "    for i in range(1, len(palabra)+1):\n",
    "        primera_palabra = palabra[0:i]\n",
    "        if primera_palabra in parte_palabra:\n",
    "            segunda_palabra = palabra[i:]\n",
    "            if not segunda_palabra or segunda_palabra in parte_palabra or can_segment_string(segunda_palabra,parte_palabra):\n",
    "                return True\n",
    "        return False\n"
   ]
  },
  {
   "cell_type": "code",
   "execution_count": 84,
   "metadata": {},
   "outputs": [
    {
     "data": {
      "text/plain": [
       "False"
      ]
     },
     "execution_count": 84,
     "metadata": {},
     "output_type": "execute_result"
    }
   ],
   "source": [
    "can_segment_string(palabra, parte_palabra)"
   ]
  },
  {
   "cell_type": "code",
   "execution_count": 82,
   "metadata": {},
   "outputs": [
    {
     "name": "stdout",
     "output_type": "stream",
     "text": [
      "False\n",
      "False\n",
      "False\n",
      "False\n"
     ]
    }
   ],
   "source": [
    "print(can_segment_string('applepie',{'pear', 'pie', 'peach', 'apple'}))  # True\n",
    "print(can_segment_string('applepeer',{'pear', 'pie', 'peach', 'apple'})) # False\n",
    "print(can_segment_string('hellonow',{'hell', 'on', 'now', 'hello'}))     # True\n",
    "print(can_segment_string('Adalabrocks',{'abro', 'rock','cks', 'lab','Ada','l', 'Adalab'}))  # True"
   ]
  },
  {
   "cell_type": "markdown",
   "metadata": {},
   "source": [
    "## Facebook coding questions\n",
    "\n",
    "### 1. Mover los ceros a la izquierda\n",
    "Nos dan un string con números aleatorios. Algunos de ellos son `0`. Encuentra todos los ceros y ponlos al principio de la lista, manteniendo el orden de los demás números.\n",
    "\n",
    "Ejemplo:\n",
    "\n",
    "```python\n",
    "    A = [1,10,88,0,59,63,0,20,0]\n",
    "    x = move_zeros_to_left(A)\n",
    "    print(x)\n",
    "```\n",
    "\n",
    "tiene que devolver\n",
    "\n",
    "```python\n",
    "    [0, 0, 0, 1, 10, 88, 59, 63, 20]\n",
    "```"
   ]
  },
  {
   "cell_type": "code",
   "execution_count": 102,
   "metadata": {},
   "outputs": [],
   "source": [
    "A = [1,10,88,0,59,63,0,20,0]\n",
    "#def move_zeros_to_left(A):\n"
   ]
  },
  {
   "cell_type": "code",
   "execution_count": 109,
   "metadata": {},
   "outputs": [
    {
     "data": {
      "text/plain": [
       "[1, 10, 88, 0, 59, 63, 0, 20, 0]"
      ]
     },
     "execution_count": 109,
     "metadata": {},
     "output_type": "execute_result"
    }
   ],
   "source": [
    "A = [1,10,88,0,59,63,0,20,0]\n",
    "\n",
    "lista_nueva = []\n",
    "\n",
    "for num in A:\n",
    "    if num == 0:\n",
    "        lista_nueva.append(num)\n",
    "    else:\n",
    "        pass\n",
    "\n",
    "for num2 in A:\n",
    "    if num2 != 0:\n",
    "            lista_nueva.append(num2)\n",
    "    else:\n",
    "        pass "
   ]
  },
  {
   "cell_type": "code",
   "execution_count": null,
   "metadata": {},
   "outputs": [],
   "source": [
    "A = [1,10,88,0,59,63,0,20,0]\n",
    "\n",
    "def move_zeros_to_left(A):\n",
    "    zero_count = 0\n",
    "\n",
    "    while 0 in A:\n",
    "        A.pop(A.index(0))\n",
    "        zero_count += 1\n",
    "\n",
    "    return zero_count * [0] + A\n",
    "\n",
    "x = move_zeros_to_left(A)\n",
    "print(x)"
   ]
  },
  {
   "cell_type": "markdown",
   "metadata": {},
   "source": [
    "lista_ceros =[]\n",
    "for item in range(0,len(A)+1):\n",
    "    print(item)\n",
    "    if A[item-1] == 0 :\n",
    "        lista_ceros.append(item)\n",
    "        print(A)\n",
    "        A.remove(A[item])\n",
    "        print(A)\n",
    "\n",
    "lista_ceros + A"
   ]
  },
  {
   "cell_type": "code",
   "execution_count": 110,
   "metadata": {},
   "outputs": [
    {
     "data": {
      "text/plain": [
       "[0, 0, 0, 1, 10, 88, 59, 63, 20]"
      ]
     },
     "execution_count": 110,
     "metadata": {},
     "output_type": "execute_result"
    }
   ],
   "source": [
    "lista_ceros =[]\n",
    "for item in range(0,len(A)+1):\n",
    "    #print(item)\n",
    "    while 0 in A:\n",
    "        lista_ceros.append(item)\n",
    "        #print(A)\n",
    "        A.remove(item)\n",
    "        #print(A)\n",
    "\n",
    "lista_ceros + A\n"
   ]
  },
  {
   "cell_type": "markdown",
   "metadata": {},
   "source": [
    "### 2. Invertir palabras de una frase\n",
    "\n",
    "Nos dan una frase en que quieren que las letras de cada palabra tienen el orden invertido, manteniendo el orden de las palabras.\n",
    "\n",
    "```python\n",
    "    sentence = 'Hola Ada'\n",
    "    x = reverse_words(sentence)\n",
    "    print(x) # nos daría 'aloH adA'\n",
    "```"
   ]
  },
  {
   "cell_type": "code",
   "execution_count": 125,
   "metadata": {},
   "outputs": [],
   "source": [
    "sentence = list('Hola Ada')\n",
    "sentence.reverse()\n"
   ]
  },
  {
   "cell_type": "code",
   "execution_count": 120,
   "metadata": {},
   "outputs": [
    {
     "data": {
      "text/plain": [
       "['Hola', 'Ada']"
      ]
     },
     "execution_count": 120,
     "metadata": {},
     "output_type": "execute_result"
    }
   ],
   "source": [
    "'Hola Ada'.split()"
   ]
  },
  {
   "cell_type": "code",
   "execution_count": 128,
   "metadata": {},
   "outputs": [
    {
     "name": "stdout",
     "output_type": "stream",
     "text": [
      "['a', 'l', 'o', 'H']\n",
      "['a', 'd', 'A']\n",
      "aloH adA\n"
     ]
    }
   ],
   "source": [
    "sentence = 'Hola Ada'\n",
    "\n",
    "def reverse_words(sentence):\n",
    "    result = ''\n",
    "    for palabra in sentence.split():\n",
    "        lista_palabra = list(palabra)\n",
    "        lista_palabra.reverse()\n",
    "        print(lista_palabra)\n",
    "        result += ' ' + ''.join(lista_palabra)\n",
    "    return result.lstrip()\n",
    "\n",
    "x = reverse_words(sentence)\n",
    "print(x) # nos daría 'aloH adA'"
   ]
  },
  {
   "cell_type": "code",
   "execution_count": 130,
   "metadata": {},
   "outputs": [
    {
     "ename": "TypeError",
     "evalue": "can only concatenate str (not \"tuple\") to str",
     "output_type": "error",
     "traceback": [
      "\u001b[0;31m---------------------------------------------------------------------------\u001b[0m",
      "\u001b[0;31mTypeError\u001b[0m                                 Traceback (most recent call last)",
      "\u001b[0;32m<ipython-input-130-58b5f66f8146>\u001b[0m in \u001b[0;36m<module>\u001b[0;34m\u001b[0m\n\u001b[1;32m      9\u001b[0m     \u001b[0;32mreturn\u001b[0m \u001b[0mresult\u001b[0m\u001b[0;34m.\u001b[0m\u001b[0mstrip\u001b[0m\u001b[0;34m(\u001b[0m\u001b[0;34m)\u001b[0m\u001b[0;34m\u001b[0m\u001b[0;34m\u001b[0m\u001b[0m\n\u001b[1;32m     10\u001b[0m \u001b[0;34m\u001b[0m\u001b[0m\n\u001b[0;32m---> 11\u001b[0;31m \u001b[0mx\u001b[0m \u001b[0;34m=\u001b[0m \u001b[0mreverse_words\u001b[0m\u001b[0;34m(\u001b[0m\u001b[0msentence\u001b[0m\u001b[0;34m)\u001b[0m\u001b[0;34m\u001b[0m\u001b[0;34m\u001b[0m\u001b[0m\n\u001b[0m\u001b[1;32m     12\u001b[0m \u001b[0mprint\u001b[0m\u001b[0;34m(\u001b[0m\u001b[0mx\u001b[0m\u001b[0;34m)\u001b[0m \u001b[0;31m# nos daría 'aloH adA'\u001b[0m\u001b[0;34m\u001b[0m\u001b[0;34m\u001b[0m\u001b[0m\n",
      "\u001b[0;32m<ipython-input-130-58b5f66f8146>\u001b[0m in \u001b[0;36mreverse_words\u001b[0;34m(sentence)\u001b[0m\n\u001b[1;32m      6\u001b[0m         \u001b[0mlista_palabra\u001b[0m \u001b[0;34m=\u001b[0m \u001b[0mlist\u001b[0m\u001b[0;34m(\u001b[0m\u001b[0mpalabra\u001b[0m\u001b[0;34m)\u001b[0m\u001b[0;34m\u001b[0m\u001b[0;34m\u001b[0m\u001b[0m\n\u001b[1;32m      7\u001b[0m         \u001b[0mlista_palabra\u001b[0m\u001b[0;34m.\u001b[0m\u001b[0mreverse\u001b[0m\u001b[0;34m(\u001b[0m\u001b[0;34m)\u001b[0m\u001b[0;34m\u001b[0m\u001b[0;34m\u001b[0m\u001b[0m\n\u001b[0;32m----> 8\u001b[0;31m         \u001b[0mresult\u001b[0m \u001b[0;34m+=\u001b[0m \u001b[0;34m' '\u001b[0m \u001b[0;34m,\u001b[0m \u001b[0mlista_palabra\u001b[0m\u001b[0;34m\u001b[0m\u001b[0;34m\u001b[0m\u001b[0m\n\u001b[0m\u001b[1;32m      9\u001b[0m     \u001b[0;32mreturn\u001b[0m \u001b[0mresult\u001b[0m\u001b[0;34m.\u001b[0m\u001b[0mstrip\u001b[0m\u001b[0;34m(\u001b[0m\u001b[0;34m)\u001b[0m\u001b[0;34m\u001b[0m\u001b[0;34m\u001b[0m\u001b[0m\n\u001b[1;32m     10\u001b[0m \u001b[0;34m\u001b[0m\u001b[0m\n",
      "\u001b[0;31mTypeError\u001b[0m: can only concatenate str (not \"tuple\") to str"
     ]
    }
   ],
   "source": [
    "sentence = 'Hola Ada'\n",
    "\n",
    "def reverse_words(sentence):\n",
    "    result = ''\n",
    "    for palabra in sentence.split():\n",
    "        lista_palabra = list(palabra)\n",
    "        lista_palabra.reverse()\n",
    "        result += ' ' , lista_palabra\n",
    "    return result.strip()\n",
    "\n",
    "x = reverse_words(sentence)\n",
    "print(x) # nos daría 'aloH adA'"
   ]
  },
  {
   "cell_type": "markdown",
   "metadata": {},
   "source": [
    "### 3. Encontrar primer y último índice de un contenido\n",
    "\n",
    "Te darán una lista aleatoria con duplicados. Escribe una función con que sacas el primer y último índice de un elemento dado, o `-1` si no existe en la lista.\n",
    "\n",
    "```python\n",
    "    first, last = find_indices(key, lista)\n",
    "```\n"
   ]
  },
  {
   "cell_type": "code",
   "execution_count": null,
   "metadata": {},
   "outputs": [],
   "source": [
    "import numpy as np\n",
    "lista = list(np.random.choice(10, 20, replace=True))\n",
    "print(lista)\n"
   ]
  },
  {
   "cell_type": "markdown",
   "metadata": {},
   "source": [
    "## Google coding questions\n",
    "\n",
    "### 1. Encuentra los `k` números más cerca a `X`\n",
    "\n",
    "Haz una función que compara los contenidos de una lista a un número dado `X`. Queremos que nos devuelve los `k` números que son más parecidos al número dado.\n",
    "\n",
    "Ejemplo:\n",
    "\n",
    "```python\n",
    "    L = [4, 19, -5, 100, 53, 43, 74, -83, 13.5, 26]\n",
    "    a = numeroscerca(30, 3, L) # a debería ser igual a [26, 19, 43]\n",
    "```\n",
    "\n",
    "BONUS (ejercicio mental): ¿Dónde se encontraban esos `k` valores en la lista?"
   ]
  },
  {
   "cell_type": "code",
   "execution_count": null,
   "metadata": {},
   "outputs": [],
   "source": []
  },
  {
   "cell_type": "markdown",
   "metadata": {},
   "source": [
    "### 2. Pagar con cupones\n",
    "\n",
    "Tengo unos cuantos cupones de varios valores, por ejemplo por haber devuelto cosas. ¿Puedo comprarme algo nuevo de cierto valor usando sólo los cupones, sin demorra? Recuerda que un cupón sólo se puede gastar una vez (es decir, sin duplicados). \n",
    "<!-- Si tengo múltiples combinaciones válidas quiero usar el máximo de cupones que puedo.  -->\n",
    "\n",
    "PISTA: En matemáticas, el conjunto potencia ([power set](https://es.wikipedia.org/wiki/Conjunto_potencia)) de un conjunto dado es otro conjunto formado por todos los subconjuntos del conjunto dado.\n",
    "\n",
    "<!-- BONUS (ejercicio mental): ¿Cómo cambiarías la función para que funcione con monedas (= con duplicados) y si quiero pagar con el mínimo de monedas? -->"
   ]
  },
  {
   "cell_type": "code",
   "execution_count": null,
   "metadata": {},
   "outputs": [],
   "source": [
    "cupones = [14.85, 3.75, 2.98, 11.13, 4.52, 9.89, 6.73, 19.37]\n",
    "\n",
    "A = pagable(29.11, cupones) # [[3.75, 2.98, 11.13, 4.52, 6.73]]\n",
    "A = pagable(32.26, cupones) # imposible\n",
    "A = pagable(6.73, cupones)  # dos opciones [[6.73], [3.75, 2.98]]"
   ]
  },
  {
   "cell_type": "markdown",
   "metadata": {},
   "source": [
    "### 3. Convertir string a número\n",
    "\n",
    "Vamos a leer un string de izquierda hacia la derecha, interpretando los caracteres para decidir si el string contiene un número o no, y si es así si el número es íntegro o no. Sigue para cada carácter el autómata finito que ves en la imagen de abajo."
   ]
  },
  {
   "cell_type": "markdown",
   "metadata": {},
   "source": [
    "![String to number state machine](https://github.com/Adalab/materiales-da-promo-a/blob/main/modulo-3/los3diasfinales/lecciones/check-if-number-state-machine.png)"
   ]
  },
  {
   "cell_type": "code",
   "execution_count": null,
   "metadata": {},
   "outputs": [],
   "source": [
    "string = '13.5'\n",
    "string = '.61'\n",
    "string = '8'\n",
    "string = '13. '\n",
    "string = ' 72'\n",
    "string = '    33.156. '\n"
   ]
  }
 ],
 "metadata": {
  "interpreter": {
   "hash": "363b8a3dd650dafe334525b95b2c8d881cd2bf9170bb08b45b51c2361a0bd89a"
  },
  "kernelspec": {
   "display_name": "Python 3.8.8 ('base')",
   "language": "python",
   "name": "python3"
  },
  "language_info": {
   "codemirror_mode": {
    "name": "ipython",
    "version": 3
   },
   "file_extension": ".py",
   "mimetype": "text/x-python",
   "name": "python",
   "nbconvert_exporter": "python",
   "pygments_lexer": "ipython3",
   "version": "3.8.8"
  },
  "orig_nbformat": 4
 },
 "nbformat": 4,
 "nbformat_minor": 2
}
