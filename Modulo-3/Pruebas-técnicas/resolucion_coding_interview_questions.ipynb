{
 "cells": [
  {
   "cell_type": "markdown",
   "metadata": {},
   "source": [
    "# Challenges para entrevistas técnicas\n",
    "\n",
    "## Calentamiento\n",
    "\n",
    "### 1. Índices\n",
    "Saca la lista de los *valores* de este diccionario y encuéntra la ubicación de la palabra 'Adalab'.\n",
    "\n",
    "```python\n",
    "    dict = {'alpha':15, 'beta':True, 'gamma':'alumnas', 'delta':2, 'epsilon':-500.13, 'zeta':False, 'eta':[1,2,3], 'theta':'Adalab', 'iota':0, 'kappa':'K', 'lambda':1e5, 'mu':'apple', 'nu':'RGB', 'xi':'Ada'}\n",
    "```"
   ]
  },
  {
   "cell_type": "code",
   "execution_count": 10,
   "metadata": {},
   "outputs": [
    {
     "name": "stdout",
     "output_type": "stream",
     "text": [
      "7\n"
     ]
    }
   ],
   "source": [
    "dict = {'alpha':15, 'beta':True, 'gamma':'alumnas', 'delta':2, 'epsilon':-500.13, 'zeta':False, 'eta':[1,2,3], 'theta':'Adalab', 'iota':0, 'kappa':'K', 'lambda':1e5, 'mu':'apple', 'nu':'RGB', 'xi':'Ada'}\n",
    "\n",
    "if 'Adalab' in dict.values():\n",
    "    print(list(dict.values()).index('Adalab'))\n"
   ]
  },
  {
   "cell_type": "markdown",
   "metadata": {},
   "source": [
    "### 2. Contenedores\n",
    "\n",
    "Si me interesa encontrar los contenidos de dos listas aleatorias que *no* estén en ambas, ¿qué tipo de contenedor me puede servir? ¿Cómo lo harías?"
   ]
  },
  {
   "cell_type": "code",
   "execution_count": 11,
   "metadata": {},
   "outputs": [
    {
     "data": {
      "text/plain": [
       "{12, 15, 18, 22, 26, 29}"
      ]
     },
     "execution_count": 11,
     "metadata": {},
     "output_type": "execute_result"
    }
   ],
   "source": [
    "import random\n",
    "\n",
    "lista1 = random.sample(range(10, 30), 15)\n",
    "lista2 = random.sample(range(10, 30), 15)\n",
    "\n",
    "set(lista1) ^ set(lista2)\n"
   ]
  },
  {
   "cell_type": "markdown",
   "metadata": {},
   "source": [
    "### 3. Funciones\n",
    "\n",
    "Haremos una función que, al llamarla, nos devuelve la suma de la lista, y *a la vez* nos deja la lista que le dimos como argumento ordenado sin devolverla."
   ]
  },
  {
   "cell_type": "code",
   "execution_count": 12,
   "metadata": {},
   "outputs": [
    {
     "name": "stdout",
     "output_type": "stream",
     "text": [
      "lista antes:   [19, 10, 13, 14, 22, 15, 12, 24, 27, 16, 18, 23, 26, 28, 25]\n",
      "resultado:     292\n",
      "lista después: [10, 12, 13, 14, 15, 16, 18, 19, 22, 23, 24, 25, 26, 27, 28]\n"
     ]
    }
   ],
   "source": [
    "lista = random.sample(range(10, 30), 15)\n",
    "\n",
    "# definición de la función\n",
    "def sumar_y_ordenar(lista):\n",
    "    lista.sort()\n",
    "    return sum(lista)\n",
    "\n",
    "# el programa en sí\n",
    "print('lista antes:  ',lista)\n",
    "suma = sumar_y_ordenar(lista)\n",
    "print('resultado:    ',suma)\n",
    "print('lista después:',lista)"
   ]
  },
  {
   "cell_type": "markdown",
   "metadata": {},
   "source": [
    "### 4. List comprehensions\n",
    "\n",
    "Como os acordáis, se puede generar una lista usando un for loop, pero hay un atajo: la list comprehension. De la misma manera queremos construir un diccionario en una sola línea, usando una dict comprehension.\n",
    "\n",
    "```python\n",
    "    resultado = []\n",
    "    for item in lista:\n",
    "        if item > 5:\n",
    "            resultado.append(item-5)\n",
    "        else:\n",
    "            resultado.append(item)\n",
    "```\n",
    "\n",
    "sería\n",
    "\n",
    "```python\n",
    "    resultado = [item-5 if item>5 else item for item in lista]\n",
    "```\n",
    "\n",
    "Para cada alumna queremos generar un nombre de usuario semi-anónimo, queremos que se guarde en un dictionario tanto el nombre original como el nombre de usuario. Nos basamos en sus cumpleaños.\n",
    "\n",
    "Ejemplo:\n",
    "\n",
    "```python\n",
    "    alumnas = {'Anne': '11-03'}\n",
    "    usuarios = {'Anne': 'A11e03'}\n",
    "```\n"
   ]
  },
  {
   "cell_type": "code",
   "execution_count": 26,
   "metadata": {},
   "outputs": [
    {
     "data": {
      "text/plain": [
       "{'Lorena': 'L15a09',\n",
       " 'Jennifer': 'J03r12',\n",
       " 'Camila': 'C30a04',\n",
       " 'Margarita': 'M12a06'}"
      ]
     },
     "execution_count": 26,
     "metadata": {},
     "output_type": "execute_result"
    }
   ],
   "source": [
    "alumnas = {'Lorena':'15-09', 'Jennifer':'03-12', 'Camila':'30-04', 'Margarita':'12-06'}\n",
    "\n",
    "{nombre:nombre[0]+fecha[0:2]+nombre[-1]+fecha[-2:] for nombre, fecha in alumnas.items()}"
   ]
  },
  {
   "cell_type": "markdown",
   "metadata": {},
   "source": [
    "### 5. ¿Es un DNI valido?\n",
    "\n",
    "Los DNI españoles pueden ser:\n",
    "\n",
    "- NIF (Numero de Identificación Fiscal) - 8 numeros y una letra, o\n",
    "- NIE (Numero de Identificación de Extranjeros) - 1 letra, 7 numeros y 1 letra.\n",
    "\n",
    "La última letra es una [letra de control](http://www.interior.gob.es/web/servicios-al-ciudadano/dni/calculo-del-digito-de-control-del-nif-nie). Comprueba si un DNI dado (en formato string) es válido o no."
   ]
  },
  {
   "cell_type": "code",
   "execution_count": 34,
   "metadata": {},
   "outputs": [
    {
     "name": "stdout",
     "output_type": "stream",
     "text": [
      "valido\n"
     ]
    }
   ],
   "source": [
    "import re\n",
    "\n",
    "dni = 'Y5785826Y'\n",
    "\n",
    "equiv = {'X':'0','Y':'1','Z':'2'}\n",
    "controls = 'TRWAGMYFPDXBNJZSQVHLCKE'\n",
    "\n",
    "if dni[0] in equiv.keys():\n",
    "    dni = equiv[dni[0]]+dni[1:]\n",
    "\n",
    "if dni[-1] == controls[int(re.search('\\d+',dni).group())%23]:\n",
    "    print('valido')\n",
    "else:\n",
    "    print('invalido')"
   ]
  },
  {
   "cell_type": "markdown",
   "metadata": {},
   "source": [
    "## Amazon coding questions\n",
    "\n",
    "### 1. Encuentra el número que no está en la lista\n",
    "Tenemos una lista desordenada con números positivos de `1` a `n`. Siempre faltará un sólo número de esta lista aleatoria, ¿cómo identifico cuál falta? Usa una función para que este código devuelve los resultados deseados:\n",
    "\n",
    "```python\n",
    "    lista1 = [3,7,1,2,8,4,5]\n",
    "    x = find_missing(lista1) # nos tiene que devolver 6\n",
    "    print(x)\n",
    "\n",
    "    lista2 = [4,6,1,3,5]\n",
    "    x = find_missing(lista2) # nos tiene que devolver 2\n",
    "    print(x)\n",
    "```"
   ]
  },
  {
   "cell_type": "code",
   "execution_count": 35,
   "metadata": {},
   "outputs": [
    {
     "name": "stdout",
     "output_type": "stream",
     "text": [
      "6.0\n",
      "2.0\n"
     ]
    }
   ],
   "source": [
    "def find_missing(input):\n",
    "    sum_of_elements = sum(input)\n",
    "    n = len(input) + 1\n",
    "    actual_sum = (n * (n + 1) ) / 2\n",
    "    return actual_sum - sum_of_elements\n",
    "    # return [x for x in range(1,len(input)+1) if x not in input][0]\n",
    "\n",
    "lista1 = [3,7,1,2,8,4,5]\n",
    "x = find_missing(lista1) # nos tiene que devolver 6\n",
    "print(x)\n",
    "\n",
    "lista2 = [4,6,1,3,5]\n",
    "x = find_missing(lista2) # nos tiene que devolver 2\n",
    "print(x)"
   ]
  },
  {
   "cell_type": "markdown",
   "metadata": {},
   "source": [
    "### 2. Cortar strings\n",
    "Nos dan un string largo y un set de palabras cortas. Comprueba si es posible cortar el string dado en trozos del set. Hay distintos caminos para resolver esto, antes de empezar, ¿cuál será el más fácil en programar?\n",
    "\n",
    "```python\n",
    "    can_segment_string('apple', {'app', 'ple'}) # False\n",
    "    can_segment_string('apple', {'ap', 'ple'}) # True\n",
    "```"
   ]
  },
  {
   "cell_type": "code",
   "execution_count": null,
   "metadata": {},
   "outputs": [],
   "source": [
    "def can_segment_string(s, wordlist):\n",
    "  #TODO: Write - Your - Code\n",
    "  return"
   ]
  },
  {
   "cell_type": "code",
   "execution_count": 66,
   "metadata": {},
   "outputs": [
    {
     "data": {
      "text/plain": [
       "True"
      ]
     },
     "execution_count": 66,
     "metadata": {},
     "output_type": "execute_result"
    }
   ],
   "source": [
    "def can_segment_string(s, wordlist):\n",
    "  for i in range(1, len(s) + 1):\n",
    "    first = s[0:i]\n",
    "    if first in wordlist:\n",
    "      second = s[i:]\n",
    "      if not second or second in wordlist or can_segment_string(second, wordlist):\n",
    "        return True\n",
    "  return False\n",
    "\n",
    "can_segment_string('applepie',{'pear', 'pie', 'peach', 'apple'})"
   ]
  },
  {
   "cell_type": "code",
   "execution_count": 72,
   "metadata": {},
   "outputs": [
    {
     "name": "stdout",
     "output_type": "stream",
     "text": [
      "True\n",
      "False\n",
      "True\n",
      "True\n"
     ]
    }
   ],
   "source": [
    "print(can_segment_string('applepie',{'pear', 'pie', 'peach', 'apple'}))  # True\n",
    "print(can_segment_string('applepeer',{'pear', 'pie', 'peach', 'apple'})) # False\n",
    "print(can_segment_string('hellonow',{'hell', 'on', 'now', 'hello'}))     # True\n",
    "print(can_segment_string('Adalabrocks',{'abro', 'rock','cks', 'lab','Ada','l', 'Adalab'}))  # True"
   ]
  },
  {
   "cell_type": "markdown",
   "metadata": {},
   "source": [
    "## Facebook coding questions\n",
    "\n",
    "### 1. Mover los ceros a la izquierda\n",
    "Nos dan un string con números aleatorios. Algunos de ellos son `0`. Encuentra todos los ceros y ponlos al principio de la lista, manteniendo el orden de los demás números.\n",
    "\n",
    "Ejemplo:\n",
    "\n",
    "```python\n",
    "    A = [1,10,88,0,59,63,0,20,0]\n",
    "    x = move_zeros_to_left(A)\n",
    "    print(x)\n",
    "```\n",
    "\n",
    "tiene que devolver\n",
    "\n",
    "```python\n",
    "    [0, 0, 0, 1, 10, 88, 59, 63, 20]\n",
    "```"
   ]
  },
  {
   "cell_type": "code",
   "execution_count": 78,
   "metadata": {},
   "outputs": [
    {
     "name": "stdout",
     "output_type": "stream",
     "text": [
      "[0, 0, 0, 1, 10, 88, 59, 63, 20]\n"
     ]
    }
   ],
   "source": [
    "A = [1,10,88,0,59,63,0,20,0]\n",
    "\n",
    "def move_zeros_to_left(A):\n",
    "    zero_count = 0\n",
    "\n",
    "    while 0 in A:\n",
    "        A.pop(A.index(0))\n",
    "        zero_count += 1\n",
    "\n",
    "    return zero_count * [0] + A\n",
    "\n",
    "x = move_zeros_to_left(A)\n",
    "print(x)"
   ]
  },
  {
   "cell_type": "markdown",
   "metadata": {},
   "source": [
    "### 2. Invertir palabras de una frase\n",
    "\n",
    "Nos dan una frase en que quieren que las letras de cada palabra tienen el orden invertido, manteniendo el orden de las palabras.\n",
    "\n",
    "```python\n",
    "    sentence = 'Hola Ada'\n",
    "    x = reverse_words(sentence)\n",
    "    print(x) # nos daría 'aloH adA'\n",
    "```"
   ]
  },
  {
   "cell_type": "code",
   "execution_count": 94,
   "metadata": {},
   "outputs": [
    {
     "name": "stdout",
     "output_type": "stream",
     "text": [
      "aloH adA\n"
     ]
    }
   ],
   "source": [
    "sentence = 'Hola Ada'\n",
    "\n",
    "def reverse_words(A):\n",
    "    result = ''\n",
    "\n",
    "    for word in A.split():\n",
    "        x = list(word)\n",
    "        x.reverse()\n",
    "        result += ' '+''.join(x)\n",
    "\n",
    "    return result.strip()\n",
    "\n",
    "x = reverse_words(sentence)\n",
    "print(x)"
   ]
  },
  {
   "cell_type": "markdown",
   "metadata": {},
   "source": [
    "### 3. Encontrar primer y último índice de un contenido\n",
    "\n",
    "Te darán una lista aleatoria con duplicados. Escribe una función con que sacas el primer y último índice de un elemento dado, o `-1` si no existe en la lista.\n",
    "\n",
    "```python\n",
    "    first, last = find_indices(key, lista)\n",
    "```\n"
   ]
  },
  {
   "cell_type": "code",
   "execution_count": 121,
   "metadata": {},
   "outputs": [
    {
     "name": "stdout",
     "output_type": "stream",
     "text": [
      "[5, 4, 2, 8, 2, 9, 1, 7, 5, 9, 9, 6, 8, 8, 4, 0, 1, 3, 0, 0]\n",
      "key in lista\n",
      "first 3\n",
      "last -7\n",
      "function outputs: 3 -7\n",
      "8 8\n"
     ]
    }
   ],
   "source": [
    "import numpy as np\n",
    "lista = list(np.random.choice(10, 20, replace=True))\n",
    "print(lista)\n",
    "\n",
    "def find_indices(key, lista):\n",
    "    if key in lista:\n",
    "        print('key in lista')\n",
    "        first = lista.index(key)\n",
    "        print('first',first)\n",
    "        lista.reverse()\n",
    "        last = -lista.index(key)-1\n",
    "        lista.reverse()\n",
    "        print('last',last)\n",
    "        return first, last\n",
    "    else:\n",
    "        print('absent')\n",
    "        return -1, -1\n",
    "\n",
    "first, last = find_indices(8,lista)\n",
    "print('function outputs:',first,last)\n",
    "if first >= 0:\n",
    "    print(lista[first], lista[last])\n"
   ]
  },
  {
   "cell_type": "markdown",
   "metadata": {},
   "source": [
    "## Google coding questions\n",
    "\n",
    "### 1. Encuentra los `k` números más cerca a `X`\n",
    "\n",
    "Haz una función que compara los contenidos de una lista a un número dado `X`. Queremos que nos devuelve los `k` números que son más parecidos al número dado.\n",
    "\n",
    "Ejemplo:\n",
    "\n",
    "```python\n",
    "    L = [4, 19, -5, 100, 53, 43, 74, -83, 13.5, 26]\n",
    "    a = numeroscerca(30, 3, L) # a debería ser igual a [26, 19, 43]\n",
    "```\n",
    "\n",
    "BONUS (ejercicio mental): ¿Dónde se encontraban esos `k` valores en la lista?"
   ]
  },
  {
   "cell_type": "code",
   "execution_count": 40,
   "metadata": {},
   "outputs": [
    {
     "name": "stdout",
     "output_type": "stream",
     "text": [
      "[26, 19, 43]\n"
     ]
    }
   ],
   "source": [
    "L = [4, 19, -5, 100, 53, 43, 74, -83, 13.5, 26]\n",
    "\n",
    "def numeroscerca(X, k, L):\n",
    "    L2 = sorted(L)\n",
    "\n",
    "    return [num for _,num in sorted(zip([abs(X-30) for X in L2],L2))][:k]\n",
    "\n",
    "a = numeroscerca(30, 3, L)\n",
    "print(a)"
   ]
  },
  {
   "cell_type": "markdown",
   "metadata": {},
   "source": [
    "### 2. Pagar con cupones\n",
    "\n",
    "Tengo unos cuantos cupones de varios valores, por ejemplo por haber devuelto cosas. ¿Puedo comprarme algo nuevo de cierto valor usando sólo los cupones, sin demorra? Recuerda que un cupón sólo se puede gastar una vez (es decir, sin duplicados). \n",
    "<!-- Si tengo múltiples combinaciones válidas quiero usar el máximo de cupones que puedo.  -->\n",
    "\n",
    "PISTA: En matemáticas, el conjunto potencia ([power set](https://es.wikipedia.org/wiki/Conjunto_potencia)) de un conjunto dado es otro conjunto formado por todos los subconjuntos del conjunto dado.\n",
    "\n",
    "<!-- BONUS (ejercicio mental): ¿Cómo cambiarías la función para que funcione con monedas (= con duplicados) y si quiero pagar con el mínimo de monedas? -->"
   ]
  },
  {
   "cell_type": "code",
   "execution_count": 107,
   "metadata": {},
   "outputs": [
    {
     "name": "stdout",
     "output_type": "stream",
     "text": [
      "[[6.73], [3.75, 2.98]]\n"
     ]
    }
   ],
   "source": [
    "from itertools import chain, combinations\n",
    "\n",
    "cupones = [14.85, 3.75, 2.98, 11.13, 4.52, 9.89, 6.73, 19.37]\n",
    "\n",
    "def powerset(list_name):\n",
    "    s = list(list_name)\n",
    "    return chain.from_iterable(combinations(s, r) for r in range(len(s)+1))\n",
    "\n",
    "def pagable(cantidad, cupones):\n",
    "    combos = []\n",
    "    for x in powerset(cupones):\n",
    "        if sum(x) == cantidad:\n",
    "            # print(x)\n",
    "            # print(sum(x))\n",
    "            combos.append(list(x))\n",
    "    return combos\n",
    "\n",
    "A = pagable(29.11, cupones) # [[3.75, 2.98, 11.13, 4.52, 6.73]]\n",
    "A = pagable(32.26, cupones) # imposible\n",
    "A = pagable(6.73, cupones)  # dos opciones [[6.73], [3.75, 2.98]]\n",
    "print(A)"
   ]
  },
  {
   "cell_type": "markdown",
   "metadata": {},
   "source": [
    "### 3. Convertir string a número\n",
    "\n",
    "Vamos a leer un string de izquierda hacia la derecha, interpretando los caracteres para decidir si el string contiene un número o no, y si es así si el número es íntegro o no. Sigue para cada carácter el autómata finito que ves en la imagen de abajo."
   ]
  },
  {
   "cell_type": "markdown",
   "metadata": {},
   "source": [
    "![String to number state machine](check-if-number-state-machine.png)"
   ]
  },
  {
   "cell_type": "code",
   "execution_count": 116,
   "metadata": {},
   "outputs": [
    {
     "name": "stdout",
     "output_type": "stream",
     "text": [
      "    33.156.  no es (sólo) un número\n"
     ]
    }
   ],
   "source": [
    "string = '13.5'\n",
    "string = '.61'\n",
    "string = '8'\n",
    "string = '13. '\n",
    "string = ' 72'\n",
    "string = '    33.156. '\n",
    "\n",
    "estado = ''\n",
    "for letra in string:\n",
    "    if estado == 'dec':\n",
    "        if letra in '0123456789':\n",
    "            estado = 'dec'\n",
    "        else:\n",
    "            estado = 'desconocido'\n",
    "            break\n",
    "    else:\n",
    "        if letra in '0123456789':\n",
    "            estado = 'int'\n",
    "        elif letra == '.':\n",
    "            estado = 'dec'\n",
    "        else:\n",
    "            estado = 'desconocido'\n",
    "            break\n",
    "\n",
    "if estado == 'dec':\n",
    "    print(string, 'es un número decimal')\n",
    "elif estado == 'int':\n",
    "    print(string, 'es un número íntegro')\n",
    "else:\n",
    "    print(string, 'no es (sólo) un número')\n"
   ]
  }
 ],
 "metadata": {
  "interpreter": {
   "hash": "13b61c53029f9938c0e2f8047b7792943f3985c3124654a984486e1d28611813"
  },
  "kernelspec": {
   "display_name": "Python 3.9.7 ('base')",
   "language": "python",
   "name": "python3"
  },
  "language_info": {
   "codemirror_mode": {
    "name": "ipython",
    "version": 3
   },
   "file_extension": ".py",
   "mimetype": "text/x-python",
   "name": "python",
   "nbconvert_exporter": "python",
   "pygments_lexer": "ipython3",
   "version": "3.9.7"
  },
  "orig_nbformat": 4
 },
 "nbformat": 4,
 "nbformat_minor": 2
}
