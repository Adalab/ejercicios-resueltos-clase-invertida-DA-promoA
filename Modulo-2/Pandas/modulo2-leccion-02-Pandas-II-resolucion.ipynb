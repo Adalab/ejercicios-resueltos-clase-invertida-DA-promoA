{
 "cells": [
  {
   "cell_type": "markdown",
   "id": "312b98e8",
   "metadata": {},
   "source": [
    "**EJERCICIOS** \n",
    "\n",
    "1️⃣ Usando el diccionacrio dado Cread un *dataframe*.\n",
    "\n",
    "  ```python\n",
    "\n",
    "    diccionario = {\"Nombre\": [\"Alejandro\", \"Anne\", \"Ana\"], \n",
    "              \"Apellidos\": [\"Sanz\", \"Krus\", \"García\" ], \n",
    "              \"Edad\": [29, 30, 33], \n",
    "              \"Provincia\": [\"Valencia\", \"Madrid\", \"Madrid\"], \n",
    "              \"Estudios\": [\"Físico\", \"Ingeniera\", \"Biologa\"]}\n",
    "  ```\n",
    "    \n",
    "    \n",
    "2️⃣ Cread un *array* de NumPy con numeros aleatorios del 1 al 100 de dos dimensiones de 3 filas y 5 columnas (necesitaremos recordad conceptos adquiridos en la lección de NumPy 1). Los nombres de las columnas deben ser los dias de la semana de Lunes a Viernes. \n",
    "\n",
    "\n",
    "3️⃣ Empecemos a trabajar con `loc`e `iloc`. Usando el primer dataframe: \n",
    "\n",
    "   - Extrae todos los nombres de nuestro dataframe. \n",
    "   \n",
    "   \n",
    "   - ¿Cuántos años tiene Alejandro?\n",
    "   \n",
    "   \n",
    "   - Extrae toda la información de las dos primeras columnas\n",
    "   \n",
    "   \n",
    "   - ¿Quién tiene más de 30 años? Devolved solo el nombre. \n",
    "   \n",
    "   \n",
    "   - ¿Quién es de Madrid y tienen 30 años?\n",
    "   \n",
    "   \n",
    "   - ¿Quién es Ingeniera o tiene menos de 30 años?\n",
    "   \n",
    "\n",
    "4️⃣ Momento de crear nuevas columnas: \n",
    "\n",
    "   - Cread una nueva columna a la que le sumeis 4 a todas las edades\n",
    "   \n",
    "   - Imaginemos ahora que Alejandro tiene 2 hermanos, Anne 1 y Ana 3. Insertad una nueva columna en la última posición con el número de hermanos de cada uno. \n",
    "\n",
    "   - Insertar una nueva columna donde tengamos el nombre y apellidos juntos. \n",
    "   \n",
    "       **NOTA** De la misma forma que sumamos columnas numéricas podemos sumar columnas con strings"
   ]
  },
  {
   "cell_type": "code",
   "execution_count": 8,
   "id": "bb088931",
   "metadata": {},
   "outputs": [],
   "source": [
    "import pandas as pd\n",
    "import numpy as np"
   ]
  },
  {
   "cell_type": "code",
   "execution_count": 12,
   "id": "64082dd2",
   "metadata": {},
   "outputs": [
    {
     "data": {
      "text/html": [
       "<div>\n",
       "<style scoped>\n",
       "    .dataframe tbody tr th:only-of-type {\n",
       "        vertical-align: middle;\n",
       "    }\n",
       "\n",
       "    .dataframe tbody tr th {\n",
       "        vertical-align: top;\n",
       "    }\n",
       "\n",
       "    .dataframe thead th {\n",
       "        text-align: right;\n",
       "    }\n",
       "</style>\n",
       "<table border=\"1\" class=\"dataframe\">\n",
       "  <thead>\n",
       "    <tr style=\"text-align: right;\">\n",
       "      <th></th>\n",
       "      <th>Nombre</th>\n",
       "      <th>Apellidos</th>\n",
       "      <th>Edad</th>\n",
       "      <th>Provincia</th>\n",
       "      <th>Estudios</th>\n",
       "    </tr>\n",
       "  </thead>\n",
       "  <tbody>\n",
       "    <tr>\n",
       "      <th>0</th>\n",
       "      <td>Alejandro</td>\n",
       "      <td>Sanz</td>\n",
       "      <td>29</td>\n",
       "      <td>Valencia</td>\n",
       "      <td>Físico</td>\n",
       "    </tr>\n",
       "    <tr>\n",
       "      <th>1</th>\n",
       "      <td>Anne</td>\n",
       "      <td>Krus</td>\n",
       "      <td>30</td>\n",
       "      <td>Madrid</td>\n",
       "      <td>Ingeniera</td>\n",
       "    </tr>\n",
       "    <tr>\n",
       "      <th>2</th>\n",
       "      <td>Ana</td>\n",
       "      <td>García</td>\n",
       "      <td>33</td>\n",
       "      <td>Madrid</td>\n",
       "      <td>Biologa</td>\n",
       "    </tr>\n",
       "  </tbody>\n",
       "</table>\n",
       "</div>"
      ],
      "text/plain": [
       "      Nombre Apellidos  Edad Provincia   Estudios\n",
       "0  Alejandro      Sanz    29  Valencia     Físico\n",
       "1       Anne      Krus    30    Madrid  Ingeniera\n",
       "2        Ana    García    33    Madrid    Biologa"
      ]
     },
     "execution_count": 12,
     "metadata": {},
     "output_type": "execute_result"
    }
   ],
   "source": [
    "# 1️⃣ Usando un diccionario creado por vosotras donde incluyais: \n",
    "\n",
    "diccionario = {\"Nombre\": [\"Alejandro\", \"Anne\", \"Ana\"], \n",
    "              \"Apellidos\": [\"Sanz\", \"Krus\", \"García\" ], \n",
    "              \"Edad\": [29, 30, 33], \n",
    "              \"Provincia\": [\"Valencia\", \"Madrid\", \"Madrid\"], \n",
    "              \"Estudios\": [\"Físico\", \"Ingeniera\", \"Biologa\"]}\n",
    "\n",
    "\n",
    "df1 = pd.DataFrame(diccionario)\n",
    "df1"
   ]
  },
  {
   "cell_type": "code",
   "execution_count": 14,
   "id": "8138f20a",
   "metadata": {},
   "outputs": [
    {
     "data": {
      "text/plain": [
       "array([[23, 13, 62, 62, 32],\n",
       "       [66, 10, 80, 66,  3],\n",
       "       [45,  9, 54, 23, 82]])"
      ]
     },
     "execution_count": 14,
     "metadata": {},
     "output_type": "execute_result"
    }
   ],
   "source": [
    "# 2️⃣ Cread un *array* de NumPy con numeros aleatorios del 1 al 100 de tres dimensiones \n",
    "\n",
    "array = np.random.randint(0,100, (3,5))\n",
    "array"
   ]
  },
  {
   "cell_type": "code",
   "execution_count": 17,
   "id": "12fbc612",
   "metadata": {},
   "outputs": [
    {
     "data": {
      "text/html": [
       "<div>\n",
       "<style scoped>\n",
       "    .dataframe tbody tr th:only-of-type {\n",
       "        vertical-align: middle;\n",
       "    }\n",
       "\n",
       "    .dataframe tbody tr th {\n",
       "        vertical-align: top;\n",
       "    }\n",
       "\n",
       "    .dataframe thead th {\n",
       "        text-align: right;\n",
       "    }\n",
       "</style>\n",
       "<table border=\"1\" class=\"dataframe\">\n",
       "  <thead>\n",
       "    <tr style=\"text-align: right;\">\n",
       "      <th></th>\n",
       "      <th>Lunes</th>\n",
       "      <th>Martes</th>\n",
       "      <th>Miercoles</th>\n",
       "      <th>Jueves</th>\n",
       "      <th>Viernes</th>\n",
       "    </tr>\n",
       "  </thead>\n",
       "  <tbody>\n",
       "    <tr>\n",
       "      <th>0</th>\n",
       "      <td>23</td>\n",
       "      <td>13</td>\n",
       "      <td>62</td>\n",
       "      <td>62</td>\n",
       "      <td>32</td>\n",
       "    </tr>\n",
       "    <tr>\n",
       "      <th>1</th>\n",
       "      <td>66</td>\n",
       "      <td>10</td>\n",
       "      <td>80</td>\n",
       "      <td>66</td>\n",
       "      <td>3</td>\n",
       "    </tr>\n",
       "    <tr>\n",
       "      <th>2</th>\n",
       "      <td>45</td>\n",
       "      <td>9</td>\n",
       "      <td>54</td>\n",
       "      <td>23</td>\n",
       "      <td>82</td>\n",
       "    </tr>\n",
       "  </tbody>\n",
       "</table>\n",
       "</div>"
      ],
      "text/plain": [
       "   Lunes  Martes  Miercoles  Jueves  Viernes\n",
       "0     23      13         62      62       32\n",
       "1     66      10         80      66        3\n",
       "2     45       9         54      23       82"
      ]
     },
     "execution_count": 17,
     "metadata": {},
     "output_type": "execute_result"
    }
   ],
   "source": [
    "df2 = pd.DataFrame(array, columns = [\"Lunes\", \"Martes\", \"Miercoles\", \"Jueves\", \"Viernes\"])\n",
    "df2"
   ]
  },
  {
   "cell_type": "code",
   "execution_count": 18,
   "id": "489a628f",
   "metadata": {},
   "outputs": [
    {
     "data": {
      "text/plain": [
       "0    Alejandro\n",
       "1         Anne\n",
       "2          Ana\n",
       "Name: Nombre, dtype: object"
      ]
     },
     "execution_count": 18,
     "metadata": {},
     "output_type": "execute_result"
    }
   ],
   "source": [
    "# 3️⃣ Extrae todos los nombres de nuestro dataframe. \n",
    "df1.loc[:, \"Nombre\"]"
   ]
  },
  {
   "cell_type": "code",
   "execution_count": 20,
   "id": "e059401e",
   "metadata": {},
   "outputs": [
    {
     "data": {
      "text/plain": [
       "29"
      ]
     },
     "execution_count": 20,
     "metadata": {},
     "output_type": "execute_result"
    }
   ],
   "source": [
    "# 3️⃣¿Cuántos años tiene Alejandro? \n",
    "\n",
    "df.loc[0, \"Edad\"]"
   ]
  },
  {
   "cell_type": "code",
   "execution_count": 24,
   "id": "5a8b8b08",
   "metadata": {},
   "outputs": [
    {
     "data": {
      "text/html": [
       "<div>\n",
       "<style scoped>\n",
       "    .dataframe tbody tr th:only-of-type {\n",
       "        vertical-align: middle;\n",
       "    }\n",
       "\n",
       "    .dataframe tbody tr th {\n",
       "        vertical-align: top;\n",
       "    }\n",
       "\n",
       "    .dataframe thead th {\n",
       "        text-align: right;\n",
       "    }\n",
       "</style>\n",
       "<table border=\"1\" class=\"dataframe\">\n",
       "  <thead>\n",
       "    <tr style=\"text-align: right;\">\n",
       "      <th></th>\n",
       "      <th>Nombre</th>\n",
       "      <th>Apellidos</th>\n",
       "    </tr>\n",
       "  </thead>\n",
       "  <tbody>\n",
       "    <tr>\n",
       "      <th>0</th>\n",
       "      <td>Alejandro</td>\n",
       "      <td>Sanz</td>\n",
       "    </tr>\n",
       "    <tr>\n",
       "      <th>1</th>\n",
       "      <td>Anne</td>\n",
       "      <td>Krus</td>\n",
       "    </tr>\n",
       "    <tr>\n",
       "      <th>2</th>\n",
       "      <td>Ana</td>\n",
       "      <td>García</td>\n",
       "    </tr>\n",
       "  </tbody>\n",
       "</table>\n",
       "</div>"
      ],
      "text/plain": [
       "      Nombre Apellidos\n",
       "0  Alejandro      Sanz\n",
       "1       Anne      Krus\n",
       "2        Ana    García"
      ]
     },
     "execution_count": 24,
     "metadata": {},
     "output_type": "execute_result"
    }
   ],
   "source": [
    "# 3️⃣ Extrae toda la información de las dos primeras columnas\n",
    "df.iloc[:, :2]"
   ]
  },
  {
   "cell_type": "code",
   "execution_count": 29,
   "id": "6da679c9",
   "metadata": {},
   "outputs": [
    {
     "data": {
      "text/plain": [
       "2    Ana\n",
       "Name: Nombre, dtype: object"
      ]
     },
     "execution_count": 29,
     "metadata": {},
     "output_type": "execute_result"
    }
   ],
   "source": [
    "# 3️⃣ ¿Quién tiene más de 30 años? Devolved solo el nombre. \n",
    "\n",
    "df[df[\"Edad\"] > 30].loc[:, \"Nombre\"]"
   ]
  },
  {
   "cell_type": "code",
   "execution_count": 32,
   "id": "b4fe7f2d",
   "metadata": {},
   "outputs": [
    {
     "data": {
      "text/plain": [
       "1    Anne\n",
       "Name: Nombre, dtype: object"
      ]
     },
     "execution_count": 32,
     "metadata": {},
     "output_type": "execute_result"
    }
   ],
   "source": [
    "# 3️⃣ Quién es de Madrid y tienen 30 años?\n",
    "\n",
    "df[(df[\"Edad\"] == 30) & (df[\"Provincia\"] == \"Madrid\")].loc[:, \"Nombre\"]"
   ]
  },
  {
   "cell_type": "code",
   "execution_count": 33,
   "id": "da4b34dc",
   "metadata": {},
   "outputs": [
    {
     "data": {
      "text/plain": [
       "0    Alejandro\n",
       "1         Anne\n",
       "Name: Nombre, dtype: object"
      ]
     },
     "execution_count": 33,
     "metadata": {},
     "output_type": "execute_result"
    }
   ],
   "source": [
    "# 3️⃣ ¿Quién es Ingeniera o tiene menos de 30 años?\n",
    "\n",
    "df[(df[\"Edad\"] < 30) | (df[\"Estudios\"] == \"Ingeniera\")].loc[:, \"Nombre\"]"
   ]
  },
  {
   "cell_type": "code",
   "execution_count": 35,
   "id": "adc3331b",
   "metadata": {},
   "outputs": [
    {
     "data": {
      "text/html": [
       "<div>\n",
       "<style scoped>\n",
       "    .dataframe tbody tr th:only-of-type {\n",
       "        vertical-align: middle;\n",
       "    }\n",
       "\n",
       "    .dataframe tbody tr th {\n",
       "        vertical-align: top;\n",
       "    }\n",
       "\n",
       "    .dataframe thead th {\n",
       "        text-align: right;\n",
       "    }\n",
       "</style>\n",
       "<table border=\"1\" class=\"dataframe\">\n",
       "  <thead>\n",
       "    <tr style=\"text-align: right;\">\n",
       "      <th></th>\n",
       "      <th>Nombre</th>\n",
       "      <th>Apellidos</th>\n",
       "      <th>Edad</th>\n",
       "      <th>Provincia</th>\n",
       "      <th>Estudios</th>\n",
       "      <th>nueva_edad</th>\n",
       "    </tr>\n",
       "  </thead>\n",
       "  <tbody>\n",
       "    <tr>\n",
       "      <th>0</th>\n",
       "      <td>Alejandro</td>\n",
       "      <td>Sanz</td>\n",
       "      <td>29</td>\n",
       "      <td>Valencia</td>\n",
       "      <td>Físico</td>\n",
       "      <td>33</td>\n",
       "    </tr>\n",
       "    <tr>\n",
       "      <th>1</th>\n",
       "      <td>Anne</td>\n",
       "      <td>Krus</td>\n",
       "      <td>30</td>\n",
       "      <td>Madrid</td>\n",
       "      <td>Ingeniera</td>\n",
       "      <td>34</td>\n",
       "    </tr>\n",
       "    <tr>\n",
       "      <th>2</th>\n",
       "      <td>Ana</td>\n",
       "      <td>García</td>\n",
       "      <td>33</td>\n",
       "      <td>Madrid</td>\n",
       "      <td>Biologa</td>\n",
       "      <td>37</td>\n",
       "    </tr>\n",
       "  </tbody>\n",
       "</table>\n",
       "</div>"
      ],
      "text/plain": [
       "      Nombre Apellidos  Edad Provincia   Estudios  nueva_edad\n",
       "0  Alejandro      Sanz    29  Valencia     Físico          33\n",
       "1       Anne      Krus    30    Madrid  Ingeniera          34\n",
       "2        Ana    García    33    Madrid    Biologa          37"
      ]
     },
     "execution_count": 35,
     "metadata": {},
     "output_type": "execute_result"
    }
   ],
   "source": [
    "# 4️⃣ Cread una nueva columna a la que le sumeis 4 a todas las edades\n",
    "\n",
    "df[\"nueva_edad\"] = df[\"Edad\"] + 4\n",
    "df"
   ]
  },
  {
   "cell_type": "code",
   "execution_count": 36,
   "id": "1bed8850",
   "metadata": {},
   "outputs": [],
   "source": [
    "# 4️⃣ Insertad una nueva columna en la última posición con el número de hermanos de cada uno. \n",
    "\n",
    "df.insert(6, \"Hermanos\", [2,1,3])"
   ]
  },
  {
   "cell_type": "code",
   "execution_count": 37,
   "id": "df11d10b",
   "metadata": {},
   "outputs": [
    {
     "data": {
      "text/html": [
       "<div>\n",
       "<style scoped>\n",
       "    .dataframe tbody tr th:only-of-type {\n",
       "        vertical-align: middle;\n",
       "    }\n",
       "\n",
       "    .dataframe tbody tr th {\n",
       "        vertical-align: top;\n",
       "    }\n",
       "\n",
       "    .dataframe thead th {\n",
       "        text-align: right;\n",
       "    }\n",
       "</style>\n",
       "<table border=\"1\" class=\"dataframe\">\n",
       "  <thead>\n",
       "    <tr style=\"text-align: right;\">\n",
       "      <th></th>\n",
       "      <th>Nombre</th>\n",
       "      <th>Apellidos</th>\n",
       "      <th>Edad</th>\n",
       "      <th>Provincia</th>\n",
       "      <th>Estudios</th>\n",
       "      <th>nueva_edad</th>\n",
       "      <th>Hermanos</th>\n",
       "    </tr>\n",
       "  </thead>\n",
       "  <tbody>\n",
       "    <tr>\n",
       "      <th>0</th>\n",
       "      <td>Alejandro</td>\n",
       "      <td>Sanz</td>\n",
       "      <td>29</td>\n",
       "      <td>Valencia</td>\n",
       "      <td>Físico</td>\n",
       "      <td>33</td>\n",
       "      <td>2</td>\n",
       "    </tr>\n",
       "    <tr>\n",
       "      <th>1</th>\n",
       "      <td>Anne</td>\n",
       "      <td>Krus</td>\n",
       "      <td>30</td>\n",
       "      <td>Madrid</td>\n",
       "      <td>Ingeniera</td>\n",
       "      <td>34</td>\n",
       "      <td>1</td>\n",
       "    </tr>\n",
       "    <tr>\n",
       "      <th>2</th>\n",
       "      <td>Ana</td>\n",
       "      <td>García</td>\n",
       "      <td>33</td>\n",
       "      <td>Madrid</td>\n",
       "      <td>Biologa</td>\n",
       "      <td>37</td>\n",
       "      <td>3</td>\n",
       "    </tr>\n",
       "  </tbody>\n",
       "</table>\n",
       "</div>"
      ],
      "text/plain": [
       "      Nombre Apellidos  Edad Provincia   Estudios  nueva_edad  Hermanos\n",
       "0  Alejandro      Sanz    29  Valencia     Físico          33         2\n",
       "1       Anne      Krus    30    Madrid  Ingeniera          34         1\n",
       "2        Ana    García    33    Madrid    Biologa          37         3"
      ]
     },
     "execution_count": 37,
     "metadata": {},
     "output_type": "execute_result"
    }
   ],
   "source": [
    "df"
   ]
  },
  {
   "cell_type": "code",
   "execution_count": 38,
   "id": "5c53a831",
   "metadata": {},
   "outputs": [],
   "source": [
    "df[\"Nombre_completo\"] = df[\"Nombre\"] + \" \" + df[\"Apellidos\"]"
   ]
  },
  {
   "cell_type": "code",
   "execution_count": 39,
   "id": "4fb0ce5a",
   "metadata": {},
   "outputs": [
    {
     "data": {
      "text/html": [
       "<div>\n",
       "<style scoped>\n",
       "    .dataframe tbody tr th:only-of-type {\n",
       "        vertical-align: middle;\n",
       "    }\n",
       "\n",
       "    .dataframe tbody tr th {\n",
       "        vertical-align: top;\n",
       "    }\n",
       "\n",
       "    .dataframe thead th {\n",
       "        text-align: right;\n",
       "    }\n",
       "</style>\n",
       "<table border=\"1\" class=\"dataframe\">\n",
       "  <thead>\n",
       "    <tr style=\"text-align: right;\">\n",
       "      <th></th>\n",
       "      <th>Nombre</th>\n",
       "      <th>Apellidos</th>\n",
       "      <th>Edad</th>\n",
       "      <th>Provincia</th>\n",
       "      <th>Estudios</th>\n",
       "      <th>nueva_edad</th>\n",
       "      <th>Hermanos</th>\n",
       "      <th>Nombre_completo</th>\n",
       "    </tr>\n",
       "  </thead>\n",
       "  <tbody>\n",
       "    <tr>\n",
       "      <th>0</th>\n",
       "      <td>Alejandro</td>\n",
       "      <td>Sanz</td>\n",
       "      <td>29</td>\n",
       "      <td>Valencia</td>\n",
       "      <td>Físico</td>\n",
       "      <td>33</td>\n",
       "      <td>2</td>\n",
       "      <td>Alejandro Sanz</td>\n",
       "    </tr>\n",
       "    <tr>\n",
       "      <th>1</th>\n",
       "      <td>Anne</td>\n",
       "      <td>Krus</td>\n",
       "      <td>30</td>\n",
       "      <td>Madrid</td>\n",
       "      <td>Ingeniera</td>\n",
       "      <td>34</td>\n",
       "      <td>1</td>\n",
       "      <td>Anne Krus</td>\n",
       "    </tr>\n",
       "    <tr>\n",
       "      <th>2</th>\n",
       "      <td>Ana</td>\n",
       "      <td>García</td>\n",
       "      <td>33</td>\n",
       "      <td>Madrid</td>\n",
       "      <td>Biologa</td>\n",
       "      <td>37</td>\n",
       "      <td>3</td>\n",
       "      <td>Ana García</td>\n",
       "    </tr>\n",
       "  </tbody>\n",
       "</table>\n",
       "</div>"
      ],
      "text/plain": [
       "      Nombre Apellidos  Edad Provincia   Estudios  nueva_edad  Hermanos  \\\n",
       "0  Alejandro      Sanz    29  Valencia     Físico          33         2   \n",
       "1       Anne      Krus    30    Madrid  Ingeniera          34         1   \n",
       "2        Ana    García    33    Madrid    Biologa          37         3   \n",
       "\n",
       "  Nombre_completo  \n",
       "0  Alejandro Sanz  \n",
       "1       Anne Krus  \n",
       "2      Ana García  "
      ]
     },
     "execution_count": 39,
     "metadata": {},
     "output_type": "execute_result"
    }
   ],
   "source": [
    "df"
   ]
  },
  {
   "cell_type": "code",
   "execution_count": null,
   "id": "ad24efaf",
   "metadata": {},
   "outputs": [],
   "source": []
  }
 ],
 "metadata": {
  "kernelspec": {
   "display_name": "Python 3 (ipykernel)",
   "language": "python",
   "name": "python3"
  },
  "language_info": {
   "codemirror_mode": {
    "name": "ipython",
    "version": 3
   },
   "file_extension": ".py",
   "mimetype": "text/x-python",
   "name": "python",
   "nbconvert_exporter": "python",
   "pygments_lexer": "ipython3",
   "version": "3.10.2"
  }
 },
 "nbformat": 4,
 "nbformat_minor": 5
}
