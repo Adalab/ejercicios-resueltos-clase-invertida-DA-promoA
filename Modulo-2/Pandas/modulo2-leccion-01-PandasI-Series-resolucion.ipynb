{
 "cells": [
  {
   "cell_type": "code",
   "execution_count": 3,
   "id": "abb7e886",
   "metadata": {},
   "outputs": [],
   "source": [
    "import pandas as pd\n",
    "import numpy as np"
   ]
  },
  {
   "cell_type": "markdown",
   "id": "9f1a5dc3",
   "metadata": {},
   "source": [
    "**EJERCICIO 1** \n",
    "\n",
    "- 1️⃣ Crea dos Series que cumplan las siguientes condiciones: \n",
    "\n",
    "    - Serie 1: \n",
    "        - Provenga de un diccionario donde las keys sean números\n",
    "        - Que sus índices vayan del 5-11\n",
    "\n",
    "    - Serie 1:     \n",
    "        - A partir de una lista\n",
    "        - Tiene que tener al menos un valor nulo (NaN)\n",
    "        - Que sus índices se generen automáticamente\n",
    "        \n",
    "- 2️⃣ Realiza tres operaciones (a tu elección) con las dos Series que has creado. Importante, el resultado de las operaciones no nos debe devolver ningún valor nulo, a excepción de los nulos que nosotras hemos creado.  \n",
    "\n",
    "\n",
    "- 3️⃣ ¿Alguna de nuestras Series tiene algún valor nulo?\n",
    "\n",
    "\n",
    "- 4️⃣ ¿Hay algún valor mayor a 10 en la primera serie que hemos definido (la del diccionario)? Extrae solo aquellos valores que cumplan la condición. "
   ]
  },
  {
   "cell_type": "markdown",
   "id": "90c6071f",
   "metadata": {},
   "source": [
    "1️⃣ Crea dos Series que cumplan las siguientes condiciones: "
   ]
  },
  {
   "cell_type": "code",
   "execution_count": 9,
   "id": "e7883154",
   "metadata": {},
   "outputs": [],
   "source": [
    "diccionario = {5:23, \n",
    "              6: 56,\n",
    "              7: 45,\n",
    "              8: 98, \n",
    "              9: 1, \n",
    "              10: 90, \n",
    "              11: 12}"
   ]
  },
  {
   "cell_type": "code",
   "execution_count": 10,
   "id": "b259086f",
   "metadata": {},
   "outputs": [
    {
     "data": {
      "text/plain": [
       "5     23\n",
       "6     56\n",
       "7     45\n",
       "8     98\n",
       "9      1\n",
       "10    90\n",
       "11    12\n",
       "dtype: int64"
      ]
     },
     "execution_count": 10,
     "metadata": {},
     "output_type": "execute_result"
    }
   ],
   "source": [
    "a = pd.Series(diccionario)\n",
    "a"
   ]
  },
  {
   "cell_type": "code",
   "execution_count": 11,
   "id": "c806ac89",
   "metadata": {},
   "outputs": [
    {
     "data": {
      "text/plain": [
       "0     NaN\n",
       "1     3.0\n",
       "2     NaN\n",
       "3    12.0\n",
       "4    34.0\n",
       "5    11.0\n",
       "6    23.0\n",
       "7    78.0\n",
       "dtype: float64"
      ]
     },
     "execution_count": 11,
     "metadata": {},
     "output_type": "execute_result"
    }
   ],
   "source": [
    "lista = [np.nan, 3, np.nan, 12, 34, 11,23, 78]\n",
    "b = pd.Series(lista)\n",
    "b"
   ]
  },
  {
   "cell_type": "markdown",
   "id": "1d5c3dd4",
   "metadata": {},
   "source": [
    "2️⃣ Realiza tres operaciones (a tu elección) con las dos Series que has creado. Importante, el resultado de las operaciones no nos debe devolver ningún valor nulo, a excepción de los nulos que nosotras hemos creado. "
   ]
  },
  {
   "cell_type": "code",
   "execution_count": 12,
   "id": "3ed96d60",
   "metadata": {},
   "outputs": [
    {
     "data": {
      "text/plain": [
       "0       NaN\n",
       "1       4.0\n",
       "2       NaN\n",
       "3      13.0\n",
       "4      35.0\n",
       "5      34.0\n",
       "6      79.0\n",
       "7     123.0\n",
       "8      99.0\n",
       "9       2.0\n",
       "10     91.0\n",
       "11     13.0\n",
       "dtype: float64"
      ]
     },
     "execution_count": 12,
     "metadata": {},
     "output_type": "execute_result"
    }
   ],
   "source": [
    "a.add(b, fill_value = 1)"
   ]
  },
  {
   "cell_type": "code",
   "execution_count": 13,
   "id": "74df207e",
   "metadata": {},
   "outputs": [
    {
     "data": {
      "text/plain": [
       "0        NaN\n",
       "1        3.0\n",
       "2        NaN\n",
       "3       12.0\n",
       "4       34.0\n",
       "5      253.0\n",
       "6     1288.0\n",
       "7     3510.0\n",
       "8       98.0\n",
       "9        1.0\n",
       "10      90.0\n",
       "11      12.0\n",
       "dtype: float64"
      ]
     },
     "execution_count": 13,
     "metadata": {},
     "output_type": "execute_result"
    }
   ],
   "source": [
    "a.mul(b, fill_value = 1)"
   ]
  },
  {
   "cell_type": "code",
   "execution_count": 14,
   "id": "8750a27a",
   "metadata": {},
   "outputs": [
    {
     "data": {
      "text/plain": [
       "0               NaN\n",
       "1      1.000000e+00\n",
       "2               NaN\n",
       "3      1.000000e+00\n",
       "4      1.000000e+00\n",
       "5      9.528098e+14\n",
       "6      1.615566e+40\n",
       "7     8.924339e+128\n",
       "8      9.800000e+01\n",
       "9      1.000000e+00\n",
       "10     9.000000e+01\n",
       "11     1.200000e+01\n",
       "dtype: float64"
      ]
     },
     "execution_count": 14,
     "metadata": {},
     "output_type": "execute_result"
    }
   ],
   "source": [
    "a.pow(b, fill_value = 1)"
   ]
  },
  {
   "cell_type": "markdown",
   "id": "ba7580f4",
   "metadata": {},
   "source": [
    "3️⃣ ¿Alguna de nuestras Series tiene algún valor nulo?"
   ]
  },
  {
   "cell_type": "code",
   "execution_count": 17,
   "id": "e5244914",
   "metadata": {},
   "outputs": [
    {
     "data": {
      "text/plain": [
       "5     False\n",
       "6     False\n",
       "7     False\n",
       "8     False\n",
       "9     False\n",
       "10    False\n",
       "11    False\n",
       "dtype: bool"
      ]
     },
     "execution_count": 17,
     "metadata": {},
     "output_type": "execute_result"
    }
   ],
   "source": [
    "# \"a\" no tiene ningún valor nulo\n",
    "\n",
    "a.isnull()"
   ]
  },
  {
   "cell_type": "code",
   "execution_count": 18,
   "id": "b6bb7819",
   "metadata": {},
   "outputs": [
    {
     "data": {
      "text/plain": [
       "0     True\n",
       "1    False\n",
       "2     True\n",
       "3    False\n",
       "4    False\n",
       "5    False\n",
       "6    False\n",
       "7    False\n",
       "dtype: bool"
      ]
     },
     "execution_count": 18,
     "metadata": {},
     "output_type": "execute_result"
    }
   ],
   "source": [
    "# b tiene dos valores nulos\n",
    "\n",
    "b.isnull()"
   ]
  },
  {
   "cell_type": "markdown",
   "id": "ebea7fd0",
   "metadata": {},
   "source": [
    "4️⃣ ¿Hay algún valor mayor a 10 en la primera serie que hemos definido (la del diccionario)? Extrae solo aquellos valores que cumplan la condición. "
   ]
  },
  {
   "cell_type": "code",
   "execution_count": 20,
   "id": "776a0e7e",
   "metadata": {},
   "outputs": [
    {
     "data": {
      "text/plain": [
       "5      True\n",
       "6      True\n",
       "7      True\n",
       "8      True\n",
       "9     False\n",
       "10     True\n",
       "11     True\n",
       "dtype: bool"
      ]
     },
     "execution_count": 20,
     "metadata": {},
     "output_type": "execute_result"
    }
   ],
   "source": [
    "# para ver si hay algun valor mayor que 10 en nuestra Serie\n",
    "\n",
    "a > 10"
   ]
  },
  {
   "cell_type": "code",
   "execution_count": 21,
   "id": "eeddb731",
   "metadata": {},
   "outputs": [
    {
     "data": {
      "text/plain": [
       "5     23\n",
       "6     56\n",
       "7     45\n",
       "8     98\n",
       "10    90\n",
       "11    12\n",
       "dtype: int64"
      ]
     },
     "execution_count": 21,
     "metadata": {},
     "output_type": "execute_result"
    }
   ],
   "source": [
    "# para que nos devuelva únicamente los que cumplen la condición\n",
    "\n",
    "a[a > 10]"
   ]
  },
  {
   "cell_type": "code",
   "execution_count": null,
   "id": "b78e83b8",
   "metadata": {},
   "outputs": [],
   "source": []
  }
 ],
 "metadata": {
  "kernelspec": {
   "display_name": "adalab",
   "language": "python",
   "name": "adalab"
  },
  "language_info": {
   "codemirror_mode": {
    "name": "ipython",
    "version": 3
   },
   "file_extension": ".py",
   "mimetype": "text/x-python",
   "name": "python",
   "nbconvert_exporter": "python",
   "pygments_lexer": "ipython3",
   "version": "3.8.10"
  },
  "toc": {
   "base_numbering": 1,
   "nav_menu": {},
   "number_sections": true,
   "sideBar": true,
   "skip_h1_title": false,
   "title_cell": "Table of Contents",
   "title_sidebar": "Contents",
   "toc_cell": false,
   "toc_position": {},
   "toc_section_display": true,
   "toc_window_display": false
  }
 },
 "nbformat": 4,
 "nbformat_minor": 5
}
