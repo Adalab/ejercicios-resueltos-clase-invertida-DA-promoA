{
 "cells": [
  {
   "cell_type": "markdown",
   "id": "445b0159",
   "metadata": {},
   "source": [
    "**EJERCICIOS** \n",
    "\n",
    "1️⃣ Usando el diccionacrio dado Cread un *dataframe*.\n",
    "\n",
    "  ```python\n",
    "\n",
    "    diccionario = {\"Nombre\": [\"Alejandro\", \"Anne\", \"Ana\"], \n",
    "              \"Apellidos\": [\"Sanz\", \"Krus\", \"García\" ], \n",
    "              \"Edad\": [29, 30, 33], \n",
    "              \"Provincia\": [\"Valencia\", \"Madrid\", \"Madrid\"], \n",
    "              \"Estudios\": [\"Físico\", \"Ingeniera\", \"Biologa\"]}\n",
    "  ```\n",
    "    \n",
    "    \n",
    "2️⃣ Cread un *array* de NumPy con numeros aleatorios del 1 al 100 de dos dimensiones de 3 filas y 5 columnas (necesitaremos recordad conceptos adquiridos en la lección de NumPy 1). Los nombres de las columnas deben ser los dias de la semana de Lunes a Viernes. \n",
    "\n",
    "\n",
    "3️⃣ Empecemos a trabajar con `loc`e `iloc`. Usando el primer dataframe: \n",
    "\n",
    "   - Extrae todos los nombres de nuestro dataframe. \n",
    "   \n",
    "   \n",
    "   - ¿Cuántos años tiene Alejandro?\n",
    "   \n",
    "   \n",
    "   - Extrae toda la información de las dos primeras columnas\n",
    "   \n",
    "   \n",
    "   - ¿Quién tiene más de 30 años? Devolved solo el nombre. \n",
    "   \n",
    "   \n",
    "   - ¿Quién es de Madrid y tienen 30 años?\n",
    "   \n",
    "   \n",
    "   - ¿Quién es Ingeniera o tiene menos de 30 años?\n",
    "   \n",
    "\n",
    "4️⃣ Momento de crear nuevas columnas: \n",
    "\n",
    "   - Cread una nueva columna a la que le sumeis 4 a todas las edades\n",
    "   \n",
    "   - Imaginemos ahora que Alejandro tiene 2 hermanos, Anne 1 y Ana 3. Insertad una nueva columna en la última posición con el número de hermanos de cada uno. \n",
    "\n",
    "   - Insertar una nueva columna donde tengamos el nombre y apellidos juntos. \n",
    "   \n",
    "       **NOTA** De la misma forma que sumamos columnas numéricas podemos sumar columnas con strings"
   ]
  },
  {
   "cell_type": "code",
   "execution_count": 2,
   "id": "a8f7cdfa",
   "metadata": {},
   "outputs": [],
   "source": [
    "import numpy as np\n",
    "import pandas as pd"
   ]
  },
  {
   "cell_type": "code",
   "execution_count": 5,
   "id": "b20bc8ef",
   "metadata": {},
   "outputs": [
    {
     "data": {
      "text/plain": [
       "array([[ 2, 88, 67, 84, 42],\n",
       "       [19,  7, 49, 87, 33]])"
      ]
     },
     "execution_count": 5,
     "metadata": {},
     "output_type": "execute_result"
    }
   ],
   "source": [
    "# crear dataframe a partir de array\n",
    "a = np.random.randint(0,100, (2,5))\n",
    "a"
   ]
  },
  {
   "cell_type": "code",
   "execution_count": 4,
   "id": "54f66160",
   "metadata": {},
   "outputs": [
    {
     "data": {
      "text/html": [
       "<div>\n",
       "<style scoped>\n",
       "    .dataframe tbody tr th:only-of-type {\n",
       "        vertical-align: middle;\n",
       "    }\n",
       "\n",
       "    .dataframe tbody tr th {\n",
       "        vertical-align: top;\n",
       "    }\n",
       "\n",
       "    .dataframe thead th {\n",
       "        text-align: right;\n",
       "    }\n",
       "</style>\n",
       "<table border=\"1\" class=\"dataframe\">\n",
       "  <thead>\n",
       "    <tr style=\"text-align: right;\">\n",
       "      <th></th>\n",
       "      <th>Lunes</th>\n",
       "      <th>Martes</th>\n",
       "      <th>Miercoles</th>\n",
       "      <th>Jueves</th>\n",
       "      <th>Viernes</th>\n",
       "    </tr>\n",
       "  </thead>\n",
       "  <tbody>\n",
       "    <tr>\n",
       "      <th>0</th>\n",
       "      <td>67</td>\n",
       "      <td>61</td>\n",
       "      <td>27</td>\n",
       "      <td>92</td>\n",
       "      <td>60</td>\n",
       "    </tr>\n",
       "    <tr>\n",
       "      <th>1</th>\n",
       "      <td>20</td>\n",
       "      <td>51</td>\n",
       "      <td>17</td>\n",
       "      <td>64</td>\n",
       "      <td>43</td>\n",
       "    </tr>\n",
       "  </tbody>\n",
       "</table>\n",
       "</div>"
      ],
      "text/plain": [
       "   Lunes  Martes  Miercoles  Jueves  Viernes\n",
       "0     67      61         27      92       60\n",
       "1     20      51         17      64       43"
      ]
     },
     "execution_count": 4,
     "metadata": {},
     "output_type": "execute_result"
    }
   ],
   "source": [
    "df_array = pd.DataFrame(a, columns = [\"Lunes\", \"Martes\", \"Miercoles\", \"Jueves\", \"Viernes\"])\n",
    "df_array"
   ]
  },
  {
   "cell_type": "code",
   "execution_count": 6,
   "id": "ce58f34c",
   "metadata": {},
   "outputs": [
    {
     "data": {
      "text/html": [
       "<div>\n",
       "<style scoped>\n",
       "    .dataframe tbody tr th:only-of-type {\n",
       "        vertical-align: middle;\n",
       "    }\n",
       "\n",
       "    .dataframe tbody tr th {\n",
       "        vertical-align: top;\n",
       "    }\n",
       "\n",
       "    .dataframe thead th {\n",
       "        text-align: right;\n",
       "    }\n",
       "</style>\n",
       "<table border=\"1\" class=\"dataframe\">\n",
       "  <thead>\n",
       "    <tr style=\"text-align: right;\">\n",
       "      <th></th>\n",
       "      <th>Nombre</th>\n",
       "      <th>Apellidos</th>\n",
       "      <th>Edad</th>\n",
       "      <th>Provincia</th>\n",
       "      <th>Estudios</th>\n",
       "    </tr>\n",
       "  </thead>\n",
       "  <tbody>\n",
       "    <tr>\n",
       "      <th>0</th>\n",
       "      <td>Alejandro</td>\n",
       "      <td>Sanz</td>\n",
       "      <td>29</td>\n",
       "      <td>Valencia</td>\n",
       "      <td>Físico</td>\n",
       "    </tr>\n",
       "    <tr>\n",
       "      <th>1</th>\n",
       "      <td>Anne</td>\n",
       "      <td>Krus</td>\n",
       "      <td>30</td>\n",
       "      <td>Madrid</td>\n",
       "      <td>Ingeniera</td>\n",
       "    </tr>\n",
       "    <tr>\n",
       "      <th>2</th>\n",
       "      <td>Ana</td>\n",
       "      <td>García</td>\n",
       "      <td>33</td>\n",
       "      <td>Madrid</td>\n",
       "      <td>Biologa</td>\n",
       "    </tr>\n",
       "  </tbody>\n",
       "</table>\n",
       "</div>"
      ],
      "text/plain": [
       "      Nombre Apellidos  Edad Provincia   Estudios\n",
       "0  Alejandro      Sanz    29  Valencia     Físico\n",
       "1       Anne      Krus    30    Madrid  Ingeniera\n",
       "2        Ana    García    33    Madrid    Biologa"
      ]
     },
     "execution_count": 6,
     "metadata": {},
     "output_type": "execute_result"
    }
   ],
   "source": [
    "# crear dataframe a partir de diccionario\n",
    "\n",
    "diccionario = {\"Nombre\": [\"Alejandro\", \"Anne\", \"Ana\"], \n",
    "              \"Apellidos\": [\"Sanz\", \"Krus\", \"García\" ], \n",
    "              \"Edad\": [29, 30, 33], \n",
    "              \"Provincia\": [\"Valencia\", \"Madrid\", \"Madrid\"], \n",
    "              \"Estudios\": [\"Físico\", \"Ingeniera\", \"Biologa\"]}\n",
    "\n",
    "df = pd.DataFrame(diccionario)\n",
    "df.head()"
   ]
  },
  {
   "cell_type": "code",
   "execution_count": 16,
   "id": "42c0b6bc",
   "metadata": {},
   "outputs": [
    {
     "data": {
      "text/plain": [
       "0    Alejandro\n",
       "1         Anne\n",
       "2          Ana\n",
       "Name: Nombre, dtype: object"
      ]
     },
     "execution_count": 16,
     "metadata": {},
     "output_type": "execute_result"
    }
   ],
   "source": [
    "# Extrae todos los nombres de nuestro dataframe.\n",
    "df.loc[:,\"Nombre\"]"
   ]
  },
  {
   "cell_type": "code",
   "execution_count": 15,
   "id": "f3330369",
   "metadata": {},
   "outputs": [
    {
     "data": {
      "text/plain": [
       "29"
      ]
     },
     "execution_count": 15,
     "metadata": {},
     "output_type": "execute_result"
    }
   ],
   "source": [
    "#¿Cuántos años tiene Alejandro?\n",
    "df.loc[0, \"Edad\"]"
   ]
  },
  {
   "cell_type": "code",
   "execution_count": 14,
   "id": "44ada67b",
   "metadata": {},
   "outputs": [
    {
     "data": {
      "text/html": [
       "<div>\n",
       "<style scoped>\n",
       "    .dataframe tbody tr th:only-of-type {\n",
       "        vertical-align: middle;\n",
       "    }\n",
       "\n",
       "    .dataframe tbody tr th {\n",
       "        vertical-align: top;\n",
       "    }\n",
       "\n",
       "    .dataframe thead th {\n",
       "        text-align: right;\n",
       "    }\n",
       "</style>\n",
       "<table border=\"1\" class=\"dataframe\">\n",
       "  <thead>\n",
       "    <tr style=\"text-align: right;\">\n",
       "      <th></th>\n",
       "      <th>Nombre</th>\n",
       "      <th>Apellidos</th>\n",
       "    </tr>\n",
       "  </thead>\n",
       "  <tbody>\n",
       "    <tr>\n",
       "      <th>0</th>\n",
       "      <td>Alejandro</td>\n",
       "      <td>Sanz</td>\n",
       "    </tr>\n",
       "    <tr>\n",
       "      <th>1</th>\n",
       "      <td>Anne</td>\n",
       "      <td>Krus</td>\n",
       "    </tr>\n",
       "    <tr>\n",
       "      <th>2</th>\n",
       "      <td>Ana</td>\n",
       "      <td>García</td>\n",
       "    </tr>\n",
       "  </tbody>\n",
       "</table>\n",
       "</div>"
      ],
      "text/plain": [
       "      Nombre Apellidos\n",
       "0  Alejandro      Sanz\n",
       "1       Anne      Krus\n",
       "2        Ana    García"
      ]
     },
     "execution_count": 14,
     "metadata": {},
     "output_type": "execute_result"
    }
   ],
   "source": [
    "#Extrae toda la información de las dos primeras columnas\n",
    "df.iloc[:,:2]\n"
   ]
  },
  {
   "cell_type": "code",
   "execution_count": 10,
   "id": "8da86da6",
   "metadata": {},
   "outputs": [
    {
     "data": {
      "text/plain": [
       "2    Ana\n",
       "Name: Nombre, dtype: object"
      ]
     },
     "execution_count": 10,
     "metadata": {},
     "output_type": "execute_result"
    }
   ],
   "source": [
    "\n",
    "#¿Quién tiene más de 30 años? Devolved solo el nombre.\n",
    "df[df[\"Edad\"] > 30][\"Nombre\"]\n"
   ]
  },
  {
   "cell_type": "code",
   "execution_count": 11,
   "id": "361a9235",
   "metadata": {},
   "outputs": [
    {
     "data": {
      "text/html": [
       "<div>\n",
       "<style scoped>\n",
       "    .dataframe tbody tr th:only-of-type {\n",
       "        vertical-align: middle;\n",
       "    }\n",
       "\n",
       "    .dataframe tbody tr th {\n",
       "        vertical-align: top;\n",
       "    }\n",
       "\n",
       "    .dataframe thead th {\n",
       "        text-align: right;\n",
       "    }\n",
       "</style>\n",
       "<table border=\"1\" class=\"dataframe\">\n",
       "  <thead>\n",
       "    <tr style=\"text-align: right;\">\n",
       "      <th></th>\n",
       "      <th>Nombre</th>\n",
       "      <th>Apellidos</th>\n",
       "      <th>Edad</th>\n",
       "      <th>Provincia</th>\n",
       "      <th>Estudios</th>\n",
       "    </tr>\n",
       "  </thead>\n",
       "  <tbody>\n",
       "    <tr>\n",
       "      <th>1</th>\n",
       "      <td>Anne</td>\n",
       "      <td>Krus</td>\n",
       "      <td>30</td>\n",
       "      <td>Madrid</td>\n",
       "      <td>Ingeniera</td>\n",
       "    </tr>\n",
       "  </tbody>\n",
       "</table>\n",
       "</div>"
      ],
      "text/plain": [
       "  Nombre Apellidos  Edad Provincia   Estudios\n",
       "1   Anne      Krus    30    Madrid  Ingeniera"
      ]
     },
     "execution_count": 11,
     "metadata": {},
     "output_type": "execute_result"
    }
   ],
   "source": [
    "#¿Quién es de Madrid y tienen 30 años?\n",
    "df[(df[\"Edad\"] == 30) & (df[\"Provincia\"] == \"Madrid\")]\n"
   ]
  },
  {
   "cell_type": "code",
   "execution_count": 13,
   "id": "5097088a",
   "metadata": {},
   "outputs": [
    {
     "data": {
      "text/html": [
       "<div>\n",
       "<style scoped>\n",
       "    .dataframe tbody tr th:only-of-type {\n",
       "        vertical-align: middle;\n",
       "    }\n",
       "\n",
       "    .dataframe tbody tr th {\n",
       "        vertical-align: top;\n",
       "    }\n",
       "\n",
       "    .dataframe thead th {\n",
       "        text-align: right;\n",
       "    }\n",
       "</style>\n",
       "<table border=\"1\" class=\"dataframe\">\n",
       "  <thead>\n",
       "    <tr style=\"text-align: right;\">\n",
       "      <th></th>\n",
       "      <th>Nombre</th>\n",
       "      <th>Apellidos</th>\n",
       "      <th>Edad</th>\n",
       "      <th>Provincia</th>\n",
       "      <th>Estudios</th>\n",
       "    </tr>\n",
       "  </thead>\n",
       "  <tbody>\n",
       "    <tr>\n",
       "      <th>1</th>\n",
       "      <td>Anne</td>\n",
       "      <td>Krus</td>\n",
       "      <td>30</td>\n",
       "      <td>Madrid</td>\n",
       "      <td>Ingeniera</td>\n",
       "    </tr>\n",
       "  </tbody>\n",
       "</table>\n",
       "</div>"
      ],
      "text/plain": [
       "  Nombre Apellidos  Edad Provincia   Estudios\n",
       "1   Anne      Krus    30    Madrid  Ingeniera"
      ]
     },
     "execution_count": 13,
     "metadata": {},
     "output_type": "execute_result"
    }
   ],
   "source": [
    "#¿Quién es Ingeniera o tiene menos de 30 años?\n",
    "df[(df[\"Edad\"] == 30) & (df[\"Estudios\"] == \"Ingeniera\")]"
   ]
  },
  {
   "cell_type": "code",
   "execution_count": 17,
   "id": "c67b36aa",
   "metadata": {},
   "outputs": [
    {
     "data": {
      "text/html": [
       "<div>\n",
       "<style scoped>\n",
       "    .dataframe tbody tr th:only-of-type {\n",
       "        vertical-align: middle;\n",
       "    }\n",
       "\n",
       "    .dataframe tbody tr th {\n",
       "        vertical-align: top;\n",
       "    }\n",
       "\n",
       "    .dataframe thead th {\n",
       "        text-align: right;\n",
       "    }\n",
       "</style>\n",
       "<table border=\"1\" class=\"dataframe\">\n",
       "  <thead>\n",
       "    <tr style=\"text-align: right;\">\n",
       "      <th></th>\n",
       "      <th>Nombre</th>\n",
       "      <th>Apellidos</th>\n",
       "      <th>Edad</th>\n",
       "      <th>Provincia</th>\n",
       "      <th>Estudios</th>\n",
       "      <th>edades2</th>\n",
       "    </tr>\n",
       "  </thead>\n",
       "  <tbody>\n",
       "    <tr>\n",
       "      <th>0</th>\n",
       "      <td>Alejandro</td>\n",
       "      <td>Sanz</td>\n",
       "      <td>29</td>\n",
       "      <td>Valencia</td>\n",
       "      <td>Físico</td>\n",
       "      <td>33</td>\n",
       "    </tr>\n",
       "    <tr>\n",
       "      <th>1</th>\n",
       "      <td>Anne</td>\n",
       "      <td>Krus</td>\n",
       "      <td>30</td>\n",
       "      <td>Madrid</td>\n",
       "      <td>Ingeniera</td>\n",
       "      <td>34</td>\n",
       "    </tr>\n",
       "    <tr>\n",
       "      <th>2</th>\n",
       "      <td>Ana</td>\n",
       "      <td>García</td>\n",
       "      <td>33</td>\n",
       "      <td>Madrid</td>\n",
       "      <td>Biologa</td>\n",
       "      <td>37</td>\n",
       "    </tr>\n",
       "  </tbody>\n",
       "</table>\n",
       "</div>"
      ],
      "text/plain": [
       "      Nombre Apellidos  Edad Provincia   Estudios  edades2\n",
       "0  Alejandro      Sanz    29  Valencia     Físico       33\n",
       "1       Anne      Krus    30    Madrid  Ingeniera       34\n",
       "2        Ana    García    33    Madrid    Biologa       37"
      ]
     },
     "execution_count": 17,
     "metadata": {},
     "output_type": "execute_result"
    }
   ],
   "source": [
    "# sumar edades\n",
    "\n",
    "df[\"edades2\"] = df[\"Edad\"] + 4\n",
    "df"
   ]
  },
  {
   "cell_type": "code",
   "execution_count": 18,
   "id": "2172fb08",
   "metadata": {},
   "outputs": [
    {
     "data": {
      "text/html": [
       "<div>\n",
       "<style scoped>\n",
       "    .dataframe tbody tr th:only-of-type {\n",
       "        vertical-align: middle;\n",
       "    }\n",
       "\n",
       "    .dataframe tbody tr th {\n",
       "        vertical-align: top;\n",
       "    }\n",
       "\n",
       "    .dataframe thead th {\n",
       "        text-align: right;\n",
       "    }\n",
       "</style>\n",
       "<table border=\"1\" class=\"dataframe\">\n",
       "  <thead>\n",
       "    <tr style=\"text-align: right;\">\n",
       "      <th></th>\n",
       "      <th>Nombre</th>\n",
       "      <th>Apellidos</th>\n",
       "      <th>Edad</th>\n",
       "      <th>Provincia</th>\n",
       "      <th>Estudios</th>\n",
       "      <th>edades2</th>\n",
       "      <th>hermanos</th>\n",
       "    </tr>\n",
       "  </thead>\n",
       "  <tbody>\n",
       "    <tr>\n",
       "      <th>0</th>\n",
       "      <td>Alejandro</td>\n",
       "      <td>Sanz</td>\n",
       "      <td>29</td>\n",
       "      <td>Valencia</td>\n",
       "      <td>Físico</td>\n",
       "      <td>33</td>\n",
       "      <td>2</td>\n",
       "    </tr>\n",
       "    <tr>\n",
       "      <th>1</th>\n",
       "      <td>Anne</td>\n",
       "      <td>Krus</td>\n",
       "      <td>30</td>\n",
       "      <td>Madrid</td>\n",
       "      <td>Ingeniera</td>\n",
       "      <td>34</td>\n",
       "      <td>1</td>\n",
       "    </tr>\n",
       "    <tr>\n",
       "      <th>2</th>\n",
       "      <td>Ana</td>\n",
       "      <td>García</td>\n",
       "      <td>33</td>\n",
       "      <td>Madrid</td>\n",
       "      <td>Biologa</td>\n",
       "      <td>37</td>\n",
       "      <td>3</td>\n",
       "    </tr>\n",
       "  </tbody>\n",
       "</table>\n",
       "</div>"
      ],
      "text/plain": [
       "      Nombre Apellidos  Edad Provincia   Estudios  edades2  hermanos\n",
       "0  Alejandro      Sanz    29  Valencia     Físico       33         2\n",
       "1       Anne      Krus    30    Madrid  Ingeniera       34         1\n",
       "2        Ana    García    33    Madrid    Biologa       37         3"
      ]
     },
     "execution_count": 18,
     "metadata": {},
     "output_type": "execute_result"
    }
   ],
   "source": [
    "# hermanos\n",
    "\n",
    "df.insert(6, \"hermanos\", [2,1,3])\n",
    "df"
   ]
  },
  {
   "cell_type": "code",
   "execution_count": 19,
   "id": "6582c231",
   "metadata": {},
   "outputs": [
    {
     "data": {
      "text/html": [
       "<div>\n",
       "<style scoped>\n",
       "    .dataframe tbody tr th:only-of-type {\n",
       "        vertical-align: middle;\n",
       "    }\n",
       "\n",
       "    .dataframe tbody tr th {\n",
       "        vertical-align: top;\n",
       "    }\n",
       "\n",
       "    .dataframe thead th {\n",
       "        text-align: right;\n",
       "    }\n",
       "</style>\n",
       "<table border=\"1\" class=\"dataframe\">\n",
       "  <thead>\n",
       "    <tr style=\"text-align: right;\">\n",
       "      <th></th>\n",
       "      <th>Nombre</th>\n",
       "      <th>Apellidos</th>\n",
       "      <th>Edad</th>\n",
       "      <th>Provincia</th>\n",
       "      <th>Estudios</th>\n",
       "      <th>edades2</th>\n",
       "      <th>hermanos</th>\n",
       "      <th>nombre_completo</th>\n",
       "    </tr>\n",
       "  </thead>\n",
       "  <tbody>\n",
       "    <tr>\n",
       "      <th>0</th>\n",
       "      <td>Alejandro</td>\n",
       "      <td>Sanz</td>\n",
       "      <td>29</td>\n",
       "      <td>Valencia</td>\n",
       "      <td>Físico</td>\n",
       "      <td>33</td>\n",
       "      <td>2</td>\n",
       "      <td>Alejandro Sanz</td>\n",
       "    </tr>\n",
       "    <tr>\n",
       "      <th>1</th>\n",
       "      <td>Anne</td>\n",
       "      <td>Krus</td>\n",
       "      <td>30</td>\n",
       "      <td>Madrid</td>\n",
       "      <td>Ingeniera</td>\n",
       "      <td>34</td>\n",
       "      <td>1</td>\n",
       "      <td>Anne Krus</td>\n",
       "    </tr>\n",
       "    <tr>\n",
       "      <th>2</th>\n",
       "      <td>Ana</td>\n",
       "      <td>García</td>\n",
       "      <td>33</td>\n",
       "      <td>Madrid</td>\n",
       "      <td>Biologa</td>\n",
       "      <td>37</td>\n",
       "      <td>3</td>\n",
       "      <td>Ana García</td>\n",
       "    </tr>\n",
       "  </tbody>\n",
       "</table>\n",
       "</div>"
      ],
      "text/plain": [
       "      Nombre Apellidos  Edad Provincia   Estudios  edades2  hermanos  \\\n",
       "0  Alejandro      Sanz    29  Valencia     Físico       33         2   \n",
       "1       Anne      Krus    30    Madrid  Ingeniera       34         1   \n",
       "2        Ana    García    33    Madrid    Biologa       37         3   \n",
       "\n",
       "  nombre_completo  \n",
       "0  Alejandro Sanz  \n",
       "1       Anne Krus  \n",
       "2      Ana García  "
      ]
     },
     "execution_count": 19,
     "metadata": {},
     "output_type": "execute_result"
    }
   ],
   "source": [
    "#columna nombre completa\n",
    "df[\"nombre_completo\"] = df[\"Nombre\"] + \" \" +  df[\"Apellidos\"]\n",
    "df"
   ]
  },
  {
   "cell_type": "code",
   "execution_count": null,
   "id": "f34422bb",
   "metadata": {},
   "outputs": [],
   "source": []
  },
  {
   "cell_type": "code",
   "execution_count": null,
   "id": "31277011",
   "metadata": {},
   "outputs": [],
   "source": []
  }
 ],
 "metadata": {
  "kernelspec": {
   "display_name": "ironhack",
   "language": "python",
   "name": "ironhack"
  },
  "language_info": {
   "codemirror_mode": {
    "name": "ipython",
    "version": 3
   },
   "file_extension": ".py",
   "mimetype": "text/x-python",
   "name": "python",
   "nbconvert_exporter": "python",
   "pygments_lexer": "ipython3",
   "version": "3.8.5"
  },
  "toc": {
   "base_numbering": 1,
   "nav_menu": {},
   "number_sections": true,
   "sideBar": true,
   "skip_h1_title": false,
   "title_cell": "Table of Contents",
   "title_sidebar": "Contents",
   "toc_cell": false,
   "toc_position": {},
   "toc_section_display": true,
   "toc_window_display": false
  }
 },
 "nbformat": 4,
 "nbformat_minor": 5
}
