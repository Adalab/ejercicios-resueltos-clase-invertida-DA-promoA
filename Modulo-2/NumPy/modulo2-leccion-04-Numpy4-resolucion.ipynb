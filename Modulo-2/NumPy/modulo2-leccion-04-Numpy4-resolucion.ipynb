{
 "cells": [
  {
   "cell_type": "code",
   "execution_count": 1,
   "id": "0748774a",
   "metadata": {},
   "outputs": [],
   "source": [
    "import numpy as np"
   ]
  },
  {
   "cell_type": "markdown",
   "id": "c964d8bc",
   "metadata": {},
   "source": [
    "**EJERCICIO 1** Crea dos *arrays* de una dimensión con 6 elementos aleatorios del 1-10. Una vez que los tengamos:\n",
    "\n",
    "- ¿Qué elementos son comunes en los dos *arrays*?\n",
    "\n",
    "\n",
    "\n",
    "- ¿Qué elementos están en el primer *array* pero no en el segundo? ¿Qué pasa si cambio el orden de entrada de los arrays? \n",
    "\n",
    "\n",
    "- ¿Qué elementos únicos vamos a encontrar en los *arrays* ?"
   ]
  },
  {
   "cell_type": "code",
   "execution_count": 27,
   "id": "ab4983d6",
   "metadata": {},
   "outputs": [],
   "source": [
    "# crea dos arrays unidimensionales\n",
    "\n",
    "array1 = np.random.randint(1, 10, 6)\n",
    "array2 = np.random.randint(1, 10, 6)"
   ]
  },
  {
   "cell_type": "code",
   "execution_count": 28,
   "id": "e3ff90f0",
   "metadata": {},
   "outputs": [
    {
     "data": {
      "text/plain": [
       "array([2, 9, 5, 3, 3, 5])"
      ]
     },
     "execution_count": 28,
     "metadata": {},
     "output_type": "execute_result"
    }
   ],
   "source": [
    "array1"
   ]
  },
  {
   "cell_type": "code",
   "execution_count": 29,
   "id": "383c138c",
   "metadata": {},
   "outputs": [
    {
     "data": {
      "text/plain": [
       "array([3, 7, 6, 7, 7, 8])"
      ]
     },
     "execution_count": 29,
     "metadata": {},
     "output_type": "execute_result"
    }
   ],
   "source": [
    "array2"
   ]
  },
  {
   "cell_type": "code",
   "execution_count": 30,
   "id": "cf15e78b",
   "metadata": {},
   "outputs": [
    {
     "data": {
      "text/plain": [
       "array([3])"
      ]
     },
     "execution_count": 30,
     "metadata": {},
     "output_type": "execute_result"
    }
   ],
   "source": [
    "# ¿Qué elementos son comunes en los dos *arrays*?\n",
    "\n",
    "np.intersect1d(array1, array2)"
   ]
  },
  {
   "cell_type": "code",
   "execution_count": 31,
   "id": "2792e022",
   "metadata": {},
   "outputs": [
    {
     "data": {
      "text/plain": [
       "array([2, 5, 9])"
      ]
     },
     "execution_count": 31,
     "metadata": {},
     "output_type": "execute_result"
    }
   ],
   "source": [
    "# ¿Qué elementos están en el primer *array* pero no en el segundo? \n",
    "\n",
    "np.setdiff1d(array1, array2)"
   ]
  },
  {
   "cell_type": "markdown",
   "id": "efd0ee2b",
   "metadata": {},
   "source": [
    "En este caso estamos viendo los elementos que están en el *array1* pero no en el dos"
   ]
  },
  {
   "cell_type": "code",
   "execution_count": 32,
   "id": "46ac9899",
   "metadata": {},
   "outputs": [
    {
     "data": {
      "text/plain": [
       "array([6, 7, 8])"
      ]
     },
     "execution_count": 32,
     "metadata": {},
     "output_type": "execute_result"
    }
   ],
   "source": [
    "# si le damos la vuelta\n",
    "\n",
    "np.setdiff1d(array2, array1)"
   ]
  },
  {
   "cell_type": "markdown",
   "id": "9f0df1e9",
   "metadata": {},
   "source": [
    "Nos está indicando que solo el número 4 está en el *array2* pero no en el *array1* "
   ]
  },
  {
   "cell_type": "code",
   "execution_count": 33,
   "id": "d37cfb1c",
   "metadata": {},
   "outputs": [
    {
     "data": {
      "text/plain": [
       "array([2, 5, 6, 7, 8, 9])"
      ]
     },
     "execution_count": 33,
     "metadata": {},
     "output_type": "execute_result"
    }
   ],
   "source": [
    "# ¿Qué elementos únicos vamos a encontrar en cada uno de los *arrays* ?\n",
    "\n",
    "\n",
    "np.setxor1d(array1, array2)"
   ]
  },
  {
   "cell_type": "markdown",
   "id": "958ea37a",
   "metadata": {},
   "source": [
    "- los números 2,5,y 9 son únicos del *array1*\n",
    "\n",
    "- los números 6,7,8 son únicos del *array2* "
   ]
  },
  {
   "cell_type": "markdown",
   "id": "d77b917c",
   "metadata": {},
   "source": [
    "**EJERCICIO 2** Trabajemos con números aleatorios: \n",
    "\n",
    "- Crea datos aleatorios para las tres distribuciones explicadas en este jupyter. Todas deben tener ser bidimensionales.\n",
    "\n",
    "\n",
    "- Guarda cada una de las distribuciones en un archivo `.txt`"
   ]
  },
  {
   "cell_type": "code",
   "execution_count": 52,
   "id": "a569092b",
   "metadata": {},
   "outputs": [
    {
     "data": {
      "text/plain": [
       "array([[ 64.84246294,  19.64571982, 116.96763485],\n",
       "       [106.30297996, 128.0790612 ,  29.61193152]])"
      ]
     },
     "execution_count": 52,
     "metadata": {},
     "output_type": "execute_result"
    }
   ],
   "source": [
    "uniforme = np.random.uniform(1,200, size = (2,3))\n",
    "uniforme"
   ]
  },
  {
   "cell_type": "code",
   "execution_count": 54,
   "id": "ac7a5bef",
   "metadata": {},
   "outputs": [],
   "source": [
    "np.savetxt('uniforme.txt', uniforme)"
   ]
  },
  {
   "cell_type": "code",
   "execution_count": 53,
   "id": "66527683",
   "metadata": {},
   "outputs": [
    {
     "data": {
      "text/plain": [
       "array([[4, 3, 3],\n",
       "       [2, 3, 4]])"
      ]
     },
     "execution_count": 53,
     "metadata": {},
     "output_type": "execute_result"
    }
   ],
   "source": [
    "binomial = np.random.binomial(4, 0.8,  size = (2,3))\n",
    "binomial"
   ]
  },
  {
   "cell_type": "code",
   "execution_count": 55,
   "id": "4fd88af1",
   "metadata": {},
   "outputs": [],
   "source": [
    "np.savetxt('binomial.txt', binomial)"
   ]
  },
  {
   "cell_type": "code",
   "execution_count": 56,
   "id": "e9883eca",
   "metadata": {},
   "outputs": [
    {
     "data": {
      "text/plain": [
       "array([[5.28549586, 4.53336962, 4.09128847],\n",
       "       [4.18100928, 3.68497877, 3.51134272]])"
      ]
     },
     "execution_count": 56,
     "metadata": {},
     "output_type": "execute_result"
    }
   ],
   "source": [
    "normal = np.random.normal(loc = 4, scale = 0.6,  size = (2,3))\n",
    "normal"
   ]
  },
  {
   "cell_type": "code",
   "execution_count": 57,
   "id": "edd2c466",
   "metadata": {},
   "outputs": [],
   "source": [
    "np.savetxt('tridimensional.txt', normal)"
   ]
  },
  {
   "cell_type": "code",
   "execution_count": null,
   "id": "e10d5597",
   "metadata": {},
   "outputs": [],
   "source": []
  }
 ],
 "metadata": {
  "kernelspec": {
   "display_name": "adalab",
   "language": "python",
   "name": "adalab"
  },
  "language_info": {
   "codemirror_mode": {
    "name": "ipython",
    "version": 3
   },
   "file_extension": ".py",
   "mimetype": "text/x-python",
   "name": "python",
   "nbconvert_exporter": "python",
   "pygments_lexer": "ipython3",
   "version": "3.9.6"
  },
  "toc": {
   "base_numbering": 1,
   "nav_menu": {},
   "number_sections": true,
   "sideBar": true,
   "skip_h1_title": false,
   "title_cell": "Table of Contents",
   "title_sidebar": "Contents",
   "toc_cell": false,
   "toc_position": {},
   "toc_section_display": true,
   "toc_window_display": false
  },
  "varInspector": {
   "cols": {
    "lenName": 16,
    "lenType": 16,
    "lenVar": 40
   },
   "kernels_config": {
    "python": {
     "delete_cmd_postfix": "",
     "delete_cmd_prefix": "del ",
     "library": "var_list.py",
     "varRefreshCmd": "print(var_dic_list())"
    },
    "r": {
     "delete_cmd_postfix": ") ",
     "delete_cmd_prefix": "rm(",
     "library": "var_list.r",
     "varRefreshCmd": "cat(var_dic_list()) "
    }
   },
   "types_to_exclude": [
    "module",
    "function",
    "builtin_function_or_method",
    "instance",
    "_Feature"
   ],
   "window_display": true
  }
 },
 "nbformat": 4,
 "nbformat_minor": 5
}
