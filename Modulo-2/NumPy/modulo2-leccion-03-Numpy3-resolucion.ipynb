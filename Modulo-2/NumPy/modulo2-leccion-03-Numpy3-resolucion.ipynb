{
 "cells": [
  {
   "cell_type": "code",
   "execution_count": 1,
   "id": "1bd726b5",
   "metadata": {},
   "outputs": [],
   "source": [
    "import numpy as np"
   ]
  },
  {
   "cell_type": "markdown",
   "id": "1dacf425",
   "metadata": {},
   "source": [
    "**EJERCICIO 1** En este ejercicio vamos a tratar de usar algunos de los métodos aprendidos. \n",
    "\n",
    "\n",
    "\n",
    "- Crea un *array*, puede ser bidimensional o multidimensional! Eso si, los valores tienen que estar entre 0-100\n",
    "\n",
    "- Calcula: \n",
    "\n",
    "\n",
    "    - La media de los elementos\n",
    "    \n",
    "    \n",
    "    - La media de las columnas y redondéalo a dos decimales\n",
    "    \n",
    "    \n",
    "    - El valor máximo de cada fila\n",
    "    \n",
    "    \n",
    "    - El valor mínimo de cada fila\n",
    "    \n",
    "    \n",
    "    - Hay algun valor que sea mayor que 90 en tu *array* \n",
    "    \n",
    "    \n",
    "    - Donde los podemos encontrar, cuáles son sus índices\n",
    "   \n",
    "    \n",
    "    - Ordena el *array* de mayor a menor\n",
    "\n",
    "📝 **NOTA** En este ejercicio os hemos pedido algunos de los métodos, pero sentiros libres de practicar otros para ir asentando los conocimientos. "
   ]
  },
  {
   "cell_type": "markdown",
   "id": "f5605d04",
   "metadata": {},
   "source": [
    "1️⃣ En caso de que sea tridimensional"
   ]
  },
  {
   "cell_type": "code",
   "execution_count": 7,
   "id": "ec1b5554",
   "metadata": {},
   "outputs": [
    {
     "data": {
      "text/plain": [
       "array([[[90, 32, 90, 53, 92],\n",
       "        [83, 35, 23, 26, 62],\n",
       "        [78, 86, 53,  1, 48],\n",
       "        [75, 55, 26,  1, 75],\n",
       "        [64, 68, 42, 18,  2],\n",
       "        [83, 51, 49, 27, 65]],\n",
       "\n",
       "       [[ 3, 69, 82, 39, 44],\n",
       "        [37, 22, 82, 98, 56],\n",
       "        [81, 70, 60, 46, 49],\n",
       "        [18, 95,  3, 49, 45],\n",
       "        [95,  2, 39, 64, 69],\n",
       "        [18,  6, 35, 66, 48]]])"
      ]
     },
     "execution_count": 7,
     "metadata": {},
     "output_type": "execute_result"
    }
   ],
   "source": [
    "# Crea un array\n",
    "\n",
    "tridimensional = np.random.randint(1, 100, (2, 6,5))\n",
    "tridimensional"
   ]
  },
  {
   "cell_type": "code",
   "execution_count": 8,
   "id": "c674b2dd",
   "metadata": {},
   "outputs": [
    {
     "data": {
      "text/plain": [
       "50.71666666666667"
      ]
     },
     "execution_count": 8,
     "metadata": {},
     "output_type": "execute_result"
    }
   ],
   "source": [
    "# La media de los elementos\n",
    "\n",
    "np.mean(tridimensional) "
   ]
  },
  {
   "cell_type": "code",
   "execution_count": 12,
   "id": "29cd67b2",
   "metadata": {},
   "outputs": [
    {
     "data": {
      "text/plain": [
       "array([[78.83, 54.5 , 47.17, 21.  , 57.33],\n",
       "       [42.  , 44.  , 50.17, 60.33, 51.83]])"
      ]
     },
     "execution_count": 12,
     "metadata": {},
     "output_type": "execute_result"
    }
   ],
   "source": [
    "# La media de las columnas y redondéalo a dos decimales\n",
    "\n",
    "np.round(np.mean(tridimensional, axis = 1) , 2)"
   ]
  },
  {
   "cell_type": "code",
   "execution_count": 13,
   "id": "606e9deb",
   "metadata": {},
   "outputs": [
    {
     "data": {
      "text/plain": [
       "array([[92, 83, 86, 75, 68, 83],\n",
       "       [82, 98, 81, 95, 95, 66]])"
      ]
     },
     "execution_count": 13,
     "metadata": {},
     "output_type": "execute_result"
    }
   ],
   "source": [
    "# El valor máximo de cada fila\n",
    "\n",
    "np.max(tridimensional, axis = 2)\n"
   ]
  },
  {
   "cell_type": "code",
   "execution_count": 14,
   "id": "fac8dd89",
   "metadata": {},
   "outputs": [
    {
     "data": {
      "text/plain": [
       "array([[32, 23,  1,  1,  2, 27],\n",
       "       [ 3, 22, 46,  3,  2,  6]])"
      ]
     },
     "execution_count": 14,
     "metadata": {},
     "output_type": "execute_result"
    }
   ],
   "source": [
    "# El valor mínimo de cada fila\n",
    "\n",
    "np.min(tridimensional, axis = 2)\n"
   ]
  },
  {
   "cell_type": "code",
   "execution_count": 15,
   "id": "57ada22f",
   "metadata": {},
   "outputs": [
    {
     "data": {
      "text/plain": [
       "True"
      ]
     },
     "execution_count": 15,
     "metadata": {},
     "output_type": "execute_result"
    }
   ],
   "source": [
    "# Hay algun valor que sea mayor que 90 en tu *array* \n",
    "np.any(tridimensional)"
   ]
  },
  {
   "cell_type": "code",
   "execution_count": 16,
   "id": "5f967c11",
   "metadata": {},
   "outputs": [
    {
     "data": {
      "text/plain": [
       "(array([0, 1, 1, 1]), array([0, 1, 3, 4]), array([4, 3, 1, 0]))"
      ]
     },
     "execution_count": 16,
     "metadata": {},
     "output_type": "execute_result"
    }
   ],
   "source": [
    "# Donde los podemos encontrar, cuáles son sus índices\n",
    "\n",
    "np.where(tridimensional > 90)"
   ]
  },
  {
   "cell_type": "code",
   "execution_count": 29,
   "id": "224e33d4",
   "metadata": {},
   "outputs": [
    {
     "data": {
      "text/plain": [
       "array([[[90, 86, 90, 53, 92],\n",
       "        [83, 68, 53, 27, 75],\n",
       "        [83, 55, 49, 26, 65],\n",
       "        [78, 51, 42, 18, 62],\n",
       "        [75, 35, 26,  1, 48],\n",
       "        [64, 32, 23,  1,  2]],\n",
       "\n",
       "       [[95, 95, 82, 98, 69],\n",
       "        [81, 70, 82, 66, 56],\n",
       "        [37, 69, 60, 64, 49],\n",
       "        [18, 22, 39, 49, 48],\n",
       "        [18,  6, 35, 46, 45],\n",
       "        [ 3,  2,  3, 39, 44]]])"
      ]
     },
     "execution_count": 29,
     "metadata": {},
     "output_type": "execute_result"
    }
   ],
   "source": [
    "# Ordena el *array* de mayor a menor\n",
    "\n",
    "-np.sort(-tridimensional, axis = 1)"
   ]
  },
  {
   "cell_type": "markdown",
   "id": "9340b087",
   "metadata": {},
   "source": [
    "2️⃣ En caso de que sea bidimensional"
   ]
  },
  {
   "cell_type": "code",
   "execution_count": 19,
   "id": "30325a32",
   "metadata": {},
   "outputs": [
    {
     "data": {
      "text/plain": [
       "array([[64, 45, 25, 85, 28],\n",
       "       [23, 73, 13, 65, 90],\n",
       "       [11,  4, 66, 77, 67],\n",
       "       [46,  3, 17,  2, 94],\n",
       "       [30,  7, 73, 55, 81],\n",
       "       [46,  7, 18, 73, 33]])"
      ]
     },
     "execution_count": 19,
     "metadata": {},
     "output_type": "execute_result"
    }
   ],
   "source": [
    "# Crea un array\n",
    "\n",
    "bidimensional = np.random.randint(1, 100, (6,5))\n",
    "bidimensional"
   ]
  },
  {
   "cell_type": "code",
   "execution_count": 20,
   "id": "5950e5e2",
   "metadata": {},
   "outputs": [
    {
     "data": {
      "text/plain": [
       "44.03333333333333"
      ]
     },
     "execution_count": 20,
     "metadata": {},
     "output_type": "execute_result"
    }
   ],
   "source": [
    "# La media de los elementos\n",
    "\n",
    "np.mean(bidimensional) "
   ]
  },
  {
   "cell_type": "code",
   "execution_count": 21,
   "id": "322fb7a8",
   "metadata": {},
   "outputs": [
    {
     "data": {
      "text/plain": [
       "array([49.4, 52.8, 45. , 32.4, 49.2, 35.4])"
      ]
     },
     "execution_count": 21,
     "metadata": {},
     "output_type": "execute_result"
    }
   ],
   "source": [
    "# La media de las columnas y redondéalo a dos decimales\n",
    "\n",
    "np.round(np.mean(bidimensional, axis = 1) , 2)"
   ]
  },
  {
   "cell_type": "code",
   "execution_count": 23,
   "id": "a809bffc",
   "metadata": {},
   "outputs": [
    {
     "data": {
      "text/plain": [
       "array([85, 90, 77, 94, 81, 73])"
      ]
     },
     "execution_count": 23,
     "metadata": {},
     "output_type": "execute_result"
    }
   ],
   "source": [
    "# El valor máximo de cada fila\n",
    "\n",
    "np.max(bidimensional, axis = 1)\n"
   ]
  },
  {
   "cell_type": "code",
   "execution_count": 24,
   "id": "b94a5177",
   "metadata": {},
   "outputs": [
    {
     "data": {
      "text/plain": [
       "array([25, 13,  4,  2,  7,  7])"
      ]
     },
     "execution_count": 24,
     "metadata": {},
     "output_type": "execute_result"
    }
   ],
   "source": [
    "# El valor mínimo de cada fila\n",
    "\n",
    "np.min(bidimensional, axis = 1)\n"
   ]
  },
  {
   "cell_type": "code",
   "execution_count": 25,
   "id": "f043bfa2",
   "metadata": {},
   "outputs": [
    {
     "data": {
      "text/plain": [
       "True"
      ]
     },
     "execution_count": 25,
     "metadata": {},
     "output_type": "execute_result"
    }
   ],
   "source": [
    "# Hay algun valor que sea mayor que 90 en tu *array* \n",
    "np.any(bidimensional)"
   ]
  },
  {
   "cell_type": "code",
   "execution_count": 26,
   "id": "06d08b93",
   "metadata": {},
   "outputs": [
    {
     "data": {
      "text/plain": [
       "(array([3]), array([4]))"
      ]
     },
     "execution_count": 26,
     "metadata": {},
     "output_type": "execute_result"
    }
   ],
   "source": [
    "# Donde los podemos encontrar, cuáles son sus índices\n",
    "\n",
    "np.where(bidimensional > 90)"
   ]
  },
  {
   "cell_type": "code",
   "execution_count": 27,
   "id": "b0d685b5",
   "metadata": {},
   "outputs": [
    {
     "data": {
      "text/plain": [
       "array([[85, 64, 45, 28, 25],\n",
       "       [90, 73, 65, 23, 13],\n",
       "       [77, 67, 66, 11,  4],\n",
       "       [94, 46, 17,  3,  2],\n",
       "       [81, 73, 55, 30,  7],\n",
       "       [73, 46, 33, 18,  7]])"
      ]
     },
     "execution_count": 27,
     "metadata": {},
     "output_type": "execute_result"
    }
   ],
   "source": [
    "# Ordena el *array* de mayor a menor\n",
    "\n",
    "-np.sort(-bidimensional)"
   ]
  },
  {
   "cell_type": "code",
   "execution_count": null,
   "id": "dfc2f382",
   "metadata": {},
   "outputs": [],
   "source": []
  }
 ],
 "metadata": {
  "kernelspec": {
   "display_name": "adalab",
   "language": "python",
   "name": "adalab"
  },
  "language_info": {
   "codemirror_mode": {
    "name": "ipython",
    "version": 3
   },
   "file_extension": ".py",
   "mimetype": "text/x-python",
   "name": "python",
   "nbconvert_exporter": "python",
   "pygments_lexer": "ipython3",
   "version": "3.9.6"
  },
  "toc": {
   "base_numbering": 1,
   "nav_menu": {},
   "number_sections": true,
   "sideBar": true,
   "skip_h1_title": false,
   "title_cell": "Table of Contents",
   "title_sidebar": "Contents",
   "toc_cell": false,
   "toc_position": {},
   "toc_section_display": true,
   "toc_window_display": false
  },
  "varInspector": {
   "cols": {
    "lenName": 16,
    "lenType": 16,
    "lenVar": 40
   },
   "kernels_config": {
    "python": {
     "delete_cmd_postfix": "",
     "delete_cmd_prefix": "del ",
     "library": "var_list.py",
     "varRefreshCmd": "print(var_dic_list())"
    },
    "r": {
     "delete_cmd_postfix": ") ",
     "delete_cmd_prefix": "rm(",
     "library": "var_list.r",
     "varRefreshCmd": "cat(var_dic_list()) "
    }
   },
   "types_to_exclude": [
    "module",
    "function",
    "builtin_function_or_method",
    "instance",
    "_Feature"
   ],
   "window_display": true
  }
 },
 "nbformat": 4,
 "nbformat_minor": 5
}
