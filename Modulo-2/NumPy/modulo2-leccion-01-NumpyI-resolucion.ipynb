{
 "cells": [
  {
   "cell_type": "markdown",
   "id": "b2d4a26f",
   "metadata": {},
   "source": [
    "**EJERCICIO 1** Genera un array bidimensional de 4 x 3 con valores aleatorios.\n",
    "\n",
    "Reto: hemos visto que hay al menos tres formas de hacerlo con `np.random` hay.\n",
    "\n",
    "Una vez creado cada array comprueba las dimensiones y los tipos de datos que tenemos en el array. "
   ]
  },
  {
   "cell_type": "code",
   "execution_count": 12,
   "id": "4b0bf618",
   "metadata": {},
   "outputs": [
    {
     "data": {
      "text/plain": [
       "array([[67, 90, 67],\n",
       "       [96, 26, 37],\n",
       "       [62, 88, 64],\n",
       "       [34, 24, 88]])"
      ]
     },
     "execution_count": 12,
     "metadata": {},
     "output_type": "execute_result"
    }
   ],
   "source": [
    "# solución 1\n",
    "\n",
    "array1 = np.random.randint(23, 100, (4,3), dtype= int)\n",
    "array1"
   ]
  },
  {
   "cell_type": "code",
   "execution_count": 13,
   "id": "8603d999",
   "metadata": {},
   "outputs": [
    {
     "data": {
      "text/plain": [
       "2"
      ]
     },
     "execution_count": 13,
     "metadata": {},
     "output_type": "execute_result"
    }
   ],
   "source": [
    "array1.ndim"
   ]
  },
  {
   "cell_type": "code",
   "execution_count": 14,
   "id": "12957f7d",
   "metadata": {},
   "outputs": [
    {
     "data": {
      "text/plain": [
       "dtype('int64')"
      ]
     },
     "execution_count": 14,
     "metadata": {},
     "output_type": "execute_result"
    }
   ],
   "source": [
    "array1.dtype"
   ]
  },
  {
   "cell_type": "code",
   "execution_count": 15,
   "id": "377e52c0",
   "metadata": {},
   "outputs": [
    {
     "data": {
      "text/plain": [
       "array([[0.03702326, 0.40748701, 0.74528526],\n",
       "       [0.94001842, 0.78061514, 0.75246887],\n",
       "       [0.04092871, 0.17691377, 0.08919138],\n",
       "       [0.83731217, 0.28586655, 0.72650846]])"
      ]
     },
     "execution_count": 15,
     "metadata": {},
     "output_type": "execute_result"
    }
   ],
   "source": [
    "# solución 2\n",
    "\n",
    "array2 = np.random.rand(4,3)\n",
    "array2"
   ]
  },
  {
   "cell_type": "code",
   "execution_count": 16,
   "id": "1b9ebe3c",
   "metadata": {},
   "outputs": [
    {
     "data": {
      "text/plain": [
       "2"
      ]
     },
     "execution_count": 16,
     "metadata": {},
     "output_type": "execute_result"
    }
   ],
   "source": [
    "array2.ndim"
   ]
  },
  {
   "cell_type": "code",
   "execution_count": 17,
   "id": "9456164e",
   "metadata": {},
   "outputs": [
    {
     "data": {
      "text/plain": [
       "dtype('float64')"
      ]
     },
     "execution_count": 17,
     "metadata": {},
     "output_type": "execute_result"
    }
   ],
   "source": [
    "array2.dtype"
   ]
  },
  {
   "cell_type": "code",
   "execution_count": 18,
   "id": "1d570724",
   "metadata": {},
   "outputs": [
    {
     "data": {
      "text/plain": [
       "array([[0.07908967, 0.34041617, 0.44508208],\n",
       "       [0.07929671, 0.27642167, 0.16099021],\n",
       "       [0.4962988 , 0.78486964, 0.55612226],\n",
       "       [0.9220936 , 0.7336826 , 0.23263741]])"
      ]
     },
     "execution_count": 18,
     "metadata": {},
     "output_type": "execute_result"
    }
   ],
   "source": [
    "# solución 3\n",
    "\n",
    "array3 = np.random.random_sample((4,3))\n",
    "array3"
   ]
  },
  {
   "cell_type": "code",
   "execution_count": 19,
   "id": "7ed3b0df",
   "metadata": {},
   "outputs": [
    {
     "data": {
      "text/plain": [
       "2"
      ]
     },
     "execution_count": 19,
     "metadata": {},
     "output_type": "execute_result"
    }
   ],
   "source": [
    "array3.ndim"
   ]
  },
  {
   "cell_type": "code",
   "execution_count": 21,
   "id": "d288d27a",
   "metadata": {},
   "outputs": [
    {
     "data": {
      "text/plain": [
       "dtype('float64')"
      ]
     },
     "execution_count": 21,
     "metadata": {},
     "output_type": "execute_result"
    }
   ],
   "source": [
    "array3.dtype"
   ]
  },
  {
   "cell_type": "markdown",
   "id": "bfb4fbbc",
   "metadata": {},
   "source": [
    "**EJERCICIO 2** Crea tres arrays (unidimensional, bidimensional y multidimensional) usando el método np.array(). \n",
    "\n",
    "Las listas para crear los *arrays* son las siguientes\n",
    "\n",
    "```python\n",
    "lista1 = [34,56,71,98, 10]\n",
    "lista2 = [[23,45,89, 56], [12,43,82,44]]\n",
    "lista3 = [[[1,2,3],[1,2,3],[1,2,3]]]\n",
    "```\n",
    "\n",
    "**Bonus** Haz una pequeña descripción de cada *array* usando los métodos de exploración de *arrays* que hemos aprendido"
   ]
  },
  {
   "cell_type": "code",
   "execution_count": 38,
   "id": "c8ffcd77",
   "metadata": {},
   "outputs": [
    {
     "name": "stdout",
     "output_type": "stream",
     "text": [
      "la matriz es:\n",
      "[34 56 71 98 10] \n",
      "\n",
      "las caractéristicas de esta matriz son: \n",
      "\n",
      "dimensiones -->  1\n",
      "forma -->  (5,)\n",
      "tamaño -->  5\n",
      "tipo de dato -->  int64\n"
     ]
    }
   ],
   "source": [
    "# unidimensional\n",
    "lista1 = [34,56,71,98, 10]\n",
    "\n",
    "unidimensional = np.array(lista1)\n",
    "print(\"la matriz es:\")\n",
    "print(unidimensional,\"\\n\")\n",
    "\n",
    "# bonus\n",
    "print(\"las caractéristicas de esta matriz son:\",\"\\n\")\n",
    "print(\"dimensiones --> \", unidimensional.ndim)\n",
    "print(\"forma --> \",unidimensional.shape)\n",
    "print(\"tamaño --> \",unidimensional.size)\n",
    "print(\"tipo de dato --> \",unidimensional.dtype)"
   ]
  },
  {
   "cell_type": "code",
   "execution_count": 30,
   "id": "420c6f3e",
   "metadata": {},
   "outputs": [
    {
     "name": "stdout",
     "output_type": "stream",
     "text": [
      "dimensiones -->  2\n",
      "forma -->  (2, 4)\n",
      "tamaño -->  8\n",
      "tipo de dato -->  int64\n"
     ]
    }
   ],
   "source": [
    "# bidimensional\n",
    "lista2 = [[23,45,89, 56], [12,43,82,44]]\n",
    "\n",
    "bidimensional = np.array(lista2)\n",
    "print(\"la matriz es:\")\n",
    "print(bidimensional,\"\\n\")\n",
    "\n",
    "# bonus\n",
    "print(\"las caractéristicas de esta matriz son:\",\"\\n\")\n",
    "print(\"dimensiones --> \", bidimensional.ndim)\n",
    "print(\"forma --> \",bidimensional.shape)\n",
    "print(\"tamaño --> \",bidimensional.size)\n",
    "print(\"tipo de dato --> \",bidimensional.dtype)"
   ]
  },
  {
   "cell_type": "code",
   "execution_count": 40,
   "id": "8f95b6a3",
   "metadata": {},
   "outputs": [
    {
     "name": "stdout",
     "output_type": "stream",
     "text": [
      "la matriz es:\n",
      "[[[1 2 3]\n",
      "  [1 2 3]\n",
      "  [1 2 3]]\n",
      "\n",
      " [[1 2 3]\n",
      "  [1 2 3]\n",
      "  [1 2 3]]] \n",
      "\n",
      "las caractéristicas de esta matriz son: \n",
      "\n",
      "dimensiones -->  3\n",
      "forma -->  (2, 3, 3)\n",
      "tamaño -->  18\n",
      "tipo de dato -->  int64\n"
     ]
    }
   ],
   "source": [
    "# multidimensional\n",
    "lista3 = [[[1,2,3],[1,2,3],[1,2,3]], [[1,2,3],[1,2,3],[1,2,3]]]\n",
    "\n",
    "tridimensional = np.array(lista3)\n",
    "print(\"la matriz es:\")\n",
    "print(tridimensional,\"\\n\")\n",
    "\n",
    "\n",
    "# bonus\n",
    "print(\"las caractéristicas de esta matriz son:\",\"\\n\")\n",
    "print(\"dimensiones --> \", tridimensional.ndim)\n",
    "print(\"forma --> \",tridimensional.shape)\n",
    "print(\"tamaño --> \",tridimensional.size)\n",
    "print(\"tipo de dato --> \",tridimensional.dtype)"
   ]
  },
  {
   "cell_type": "markdown",
   "id": "b6609753",
   "metadata": {},
   "source": [
    "**EJERICICIO 3** Crea una matriz solo de unos utilizando como referencia la matriz tridimensional creada en el ejercicio anterior."
   ]
  },
  {
   "cell_type": "code",
   "execution_count": 41,
   "id": "577e4970",
   "metadata": {},
   "outputs": [
    {
     "data": {
      "text/plain": [
       "array([[[1, 2, 3],\n",
       "        [1, 2, 3],\n",
       "        [1, 2, 3]],\n",
       "\n",
       "       [[1, 2, 3],\n",
       "        [1, 2, 3],\n",
       "        [1, 2, 3]]])"
      ]
     },
     "execution_count": 41,
     "metadata": {},
     "output_type": "execute_result"
    }
   ],
   "source": [
    "tridimensional"
   ]
  },
  {
   "cell_type": "code",
   "execution_count": 43,
   "id": "50b080ec",
   "metadata": {},
   "outputs": [
    {
     "data": {
      "text/plain": [
       "array([[[1, 1, 1],\n",
       "        [1, 1, 1],\n",
       "        [1, 1, 1]],\n",
       "\n",
       "       [[1, 1, 1],\n",
       "        [1, 1, 1],\n",
       "        [1, 1, 1]]])"
      ]
     },
     "execution_count": 43,
     "metadata": {},
     "output_type": "execute_result"
    }
   ],
   "source": [
    "unos = np.ones_like(tridimensional)\n",
    "unos"
   ]
  },
  {
   "cell_type": "markdown",
   "id": "672c7f37",
   "metadata": {},
   "source": [
    "**EJERICICIO 4** Crea un ejercicio con un *array** de todo 0 con cuatro dimensiones. \n",
    "\n",
    "Explica el array:\n",
    "- ¿Cuántas dimensiones hay? \n",
    "- ¿Qué tamaño tiene?\n",
    "- ¿Qué forma tiene?"
   ]
  },
  {
   "cell_type": "code",
   "execution_count": 49,
   "id": "ba76f7fb",
   "metadata": {},
   "outputs": [
    {
     "data": {
      "text/plain": [
       "array([[[[0., 0., 0., 0., 0., 0.],\n",
       "         [0., 0., 0., 0., 0., 0.],\n",
       "         [0., 0., 0., 0., 0., 0.]],\n",
       "\n",
       "        [[0., 0., 0., 0., 0., 0.],\n",
       "         [0., 0., 0., 0., 0., 0.],\n",
       "         [0., 0., 0., 0., 0., 0.]]],\n",
       "\n",
       "\n",
       "       [[[0., 0., 0., 0., 0., 0.],\n",
       "         [0., 0., 0., 0., 0., 0.],\n",
       "         [0., 0., 0., 0., 0., 0.]],\n",
       "\n",
       "        [[0., 0., 0., 0., 0., 0.],\n",
       "         [0., 0., 0., 0., 0., 0.],\n",
       "         [0., 0., 0., 0., 0., 0.]]],\n",
       "\n",
       "\n",
       "       [[[0., 0., 0., 0., 0., 0.],\n",
       "         [0., 0., 0., 0., 0., 0.],\n",
       "         [0., 0., 0., 0., 0., 0.]],\n",
       "\n",
       "        [[0., 0., 0., 0., 0., 0.],\n",
       "         [0., 0., 0., 0., 0., 0.],\n",
       "         [0., 0., 0., 0., 0., 0.]]]])"
      ]
     },
     "execution_count": 49,
     "metadata": {},
     "output_type": "execute_result"
    }
   ],
   "source": [
    "cuatro = np.zeros((3,2,3,6))\n",
    "cuatro"
   ]
  },
  {
   "cell_type": "markdown",
   "id": "3fbe0902",
   "metadata": {},
   "source": [
    "**EJERCICIO 5** Crea un *array* vacío de 2 x 5 X 4. \n",
    "\n",
    "- ¿Qué valores nos han salido en el *array*?  \n",
    "\n",
    "- ¿Por qué nos salen esos valores?"
   ]
  },
  {
   "cell_type": "code",
   "execution_count": 50,
   "id": "25cfb1d2",
   "metadata": {},
   "outputs": [
    {
     "data": {
      "text/plain": [
       "array([[[ 2.31584178e+077, -2.68678977e+154,  1.94917935e-153,\n",
       "          1.50627316e-065],\n",
       "        [ 3.11187312e+161,  1.15873714e-028,  1.96097649e+243,\n",
       "          3.60383586e-143],\n",
       "        [ 1.24889323e+137,  1.61526682e+136,  9.31466234e+242,\n",
       "          1.15873714e-028],\n",
       "        [ 1.96567925e-062,  1.12916072e+261,  6.20428116e+223,\n",
       "          1.01811692e+131],\n",
       "        [ 3.31259071e-033,  1.39736850e-076,  7.00205015e-077,\n",
       "          0.00000000e+000]],\n",
       "\n",
       "       [[ 0.00000000e+000,  0.00000000e+000,  0.00000000e+000,\n",
       "          0.00000000e+000],\n",
       "        [ 0.00000000e+000,  0.00000000e+000,  6.94109034e-310,\n",
       "          6.94108982e-310],\n",
       "        [ 6.94108983e-310,  2.23943187e-314,  6.94109034e-310,\n",
       "          6.94108855e-310],\n",
       "        [ 6.94108981e-310,  6.94109034e-310,  6.94108982e-310,\n",
       "          2.65534875e-312],\n",
       "        [ 0.00000000e+000,  4.72828195e-308,  6.94108813e-310,\n",
       "          2.85075317e-308]]])"
      ]
     },
     "execution_count": 50,
     "metadata": {},
     "output_type": "execute_result"
    }
   ],
   "source": [
    "vacio = np.empty((2,5,4))\n",
    "vacio"
   ]
  },
  {
   "cell_type": "markdown",
   "id": "e87c1772",
   "metadata": {},
   "source": [
    "En este caso nos salen valores de cero o muy cercanos a cero. Esto es así porque cuando creamos un *array* vacío los valores se rellenaran en función del último *array* guardado en memoria. Como nuestro *array* anterior es de ceros, los valores en este caso salen cercanos a 0"
   ]
  },
  {
   "cell_type": "markdown",
   "id": "f4ce7535",
   "metadata": {},
   "source": [
    "**EJERCICIO 6** ¿Qué diferencia hay entre un *array* creado con `np.eye` y `np.identity`?"
   ]
  },
  {
   "cell_type": "markdown",
   "id": "bca3d59c",
   "metadata": {},
   "source": [
    "Mientras que un *array* creado con `np.identity` nos va a crear una matriz identidad, un *array* creado con `np.eye` por defecto nos crea una matriz identidad, sin embargo, podemos cambiar donde queremos la diagonal de unos. "
   ]
  },
  {
   "cell_type": "markdown",
   "id": "8e214141",
   "metadata": {},
   "source": [
    "**EJERCICIO 7** En este ejercicio vamos a crear dos arrays:\n",
    "\n",
    "- Un array tridimensional 5x2x3 con todos los valores iguales a 1.\n",
    "\n",
    "\n",
    "- Un array tridimensional de 2 x 3 x 5 con números aleatorios entre 0-1\n",
    "\n",
    "Intenta sumarlos entre ellos. ¿Puedes? ¿Por qué?"
   ]
  },
  {
   "cell_type": "code",
   "execution_count": 2,
   "id": "ff32bd03",
   "metadata": {},
   "outputs": [],
   "source": [
    "aar3 = np.random.random_sample((2,3,5))\n",
    "unos = np.ones((5,2,3))"
   ]
  },
  {
   "cell_type": "code",
   "execution_count": 3,
   "id": "65ed9f4b",
   "metadata": {},
   "outputs": [
    {
     "ename": "ValueError",
     "evalue": "operands could not be broadcast together with shapes (2,3,5) (5,2,3) ",
     "output_type": "error",
     "traceback": [
      "\u001b[0;31m-----------------------------------------------------------------------\u001b[0m",
      "\u001b[0;31mValueError\u001b[0m                            Traceback (most recent call last)",
      "\u001b[0;32m<ipython-input-3-1586b49c8513>\u001b[0m in \u001b[0;36m<module>\u001b[0;34m\u001b[0m\n\u001b[0;32m----> 1\u001b[0;31m \u001b[0mnp\u001b[0m\u001b[0;34m.\u001b[0m\u001b[0madd\u001b[0m\u001b[0;34m(\u001b[0m\u001b[0maar3\u001b[0m\u001b[0;34m,\u001b[0m \u001b[0munos\u001b[0m\u001b[0;34m)\u001b[0m\u001b[0;34m\u001b[0m\u001b[0;34m\u001b[0m\u001b[0m\n\u001b[0m",
      "\u001b[0;31mValueError\u001b[0m: operands could not be broadcast together with shapes (2,3,5) (5,2,3) "
     ]
    }
   ],
   "source": [
    "np.add(aar3, unos)"
   ]
  },
  {
   "cell_type": "markdown",
   "id": "93af9569",
   "metadata": {},
   "source": [
    "En este caso no se puedes sumar porque las formas de los dos *arrays* no son las mismas"
   ]
  },
  {
   "cell_type": "markdown",
   "id": "a2a7ff43",
   "metadata": {},
   "source": []
  },
  {
   "cell_type": "markdown",
   "id": "0280fcd2",
   "metadata": {},
   "source": [
    "**EJERCICIO 8** Crea dos *arrays* de tres dimensiones. En este caso, puedes asignarles los valores que quieras. Después de crearlos:\n",
    "\n",
    "- Sumalos\n",
    "\n",
    "\n",
    "- Restalos\n",
    "\n",
    "\n",
    "- Divídelos\n",
    "\n",
    "\n",
    "- Multiplicalos"
   ]
  },
  {
   "cell_type": "code",
   "execution_count": 12,
   "id": "9239c5a9",
   "metadata": {},
   "outputs": [],
   "source": [
    "array8_1 = np.random.rand(3,2,5)\n",
    "array8_2 = np.random.random_sample((3,2,5))"
   ]
  },
  {
   "cell_type": "code",
   "execution_count": 13,
   "id": "52ec375c",
   "metadata": {},
   "outputs": [
    {
     "data": {
      "text/plain": [
       "array([[[0.69554299, 0.96148601, 0.5665355 , 0.52944095, 0.13068945],\n",
       "        [0.14253603, 0.64708847, 0.7698376 , 0.65038209, 0.56502048]],\n",
       "\n",
       "       [[0.83715595, 0.70102966, 0.14309477, 0.4591731 , 0.78870664],\n",
       "        [0.6351653 , 0.79152715, 0.11427132, 0.80416867, 0.04264439]],\n",
       "\n",
       "       [[0.18410602, 0.0952002 , 0.65802243, 0.3281392 , 0.12493219],\n",
       "        [0.91927016, 0.71567274, 0.94202728, 0.68980266, 0.0147981 ]]])"
      ]
     },
     "execution_count": 13,
     "metadata": {},
     "output_type": "execute_result"
    }
   ],
   "source": [
    "array8_1"
   ]
  },
  {
   "cell_type": "code",
   "execution_count": 14,
   "id": "4407df22",
   "metadata": {},
   "outputs": [
    {
     "data": {
      "text/plain": [
       "array([[[0.42230117, 0.98795698, 0.16436692, 0.4502371 , 0.55651371],\n",
       "        [0.49045159, 0.85533866, 0.51594823, 0.5985374 , 0.3702334 ]],\n",
       "\n",
       "       [[0.59880209, 0.1048884 , 0.72072456, 0.8037768 , 0.42206807],\n",
       "        [0.61027182, 0.50171142, 0.25155695, 0.70845188, 0.63452989]],\n",
       "\n",
       "       [[0.56310764, 0.47084599, 0.56588356, 0.56513161, 0.94905369],\n",
       "        [0.12923022, 0.59932268, 0.74252179, 0.37180389, 0.13405274]]])"
      ]
     },
     "execution_count": 14,
     "metadata": {},
     "output_type": "execute_result"
    }
   ],
   "source": [
    "array8_2"
   ]
  },
  {
   "cell_type": "code",
   "execution_count": 15,
   "id": "fac5a61c",
   "metadata": {},
   "outputs": [
    {
     "data": {
      "text/plain": [
       "array([[[1.11784416, 1.94944299, 0.73090242, 0.97967805, 0.68720316],\n",
       "        [0.63298762, 1.50242713, 1.28578583, 1.24891949, 0.93525388]],\n",
       "\n",
       "       [[1.43595804, 0.80591806, 0.86381933, 1.26294989, 1.21077471],\n",
       "        [1.24543712, 1.29323857, 0.36582826, 1.51262055, 0.67717427]],\n",
       "\n",
       "       [[0.74721366, 0.56604619, 1.223906  , 0.89327081, 1.07398587],\n",
       "        [1.04850037, 1.31499543, 1.68454907, 1.06160655, 0.14885085]]])"
      ]
     },
     "execution_count": 15,
     "metadata": {},
     "output_type": "execute_result"
    }
   ],
   "source": [
    "# suma\n",
    "\n",
    "np.add(array8_1, array8_2)"
   ]
  },
  {
   "cell_type": "code",
   "execution_count": 16,
   "id": "d19312dd",
   "metadata": {},
   "outputs": [
    {
     "data": {
      "text/plain": [
       "array([[[ 0.27324182, -0.02647097,  0.40216858,  0.07920385,\n",
       "         -0.42582425],\n",
       "        [-0.34791555, -0.20825019,  0.25388937,  0.05184469,\n",
       "          0.19478708]],\n",
       "\n",
       "       [[ 0.23835386,  0.59614125, -0.57762979, -0.3446037 ,\n",
       "          0.36663858],\n",
       "        [ 0.02489349,  0.28981573, -0.13728563,  0.09571678,\n",
       "         -0.5918855 ]],\n",
       "\n",
       "       [[-0.37900161, -0.37564579,  0.09213887, -0.23699241,\n",
       "         -0.8241215 ],\n",
       "        [ 0.79003994,  0.11635006,  0.19950549,  0.31799876,\n",
       "         -0.11925464]]])"
      ]
     },
     "execution_count": 16,
     "metadata": {},
     "output_type": "execute_result"
    }
   ],
   "source": [
    "# resta \n",
    "\n",
    "np.subtract(array8_1, array8_2)"
   ]
  },
  {
   "cell_type": "code",
   "execution_count": 17,
   "id": "216cc098",
   "metadata": {},
   "outputs": [
    {
     "data": {
      "text/plain": [
       "array([[[0.29372862, 0.94990682, 0.0931197 , 0.23837396, 0.07273047],\n",
       "        [0.06990702, 0.55347978, 0.39719635, 0.38927801, 0.20918945]],\n",
       "\n",
       "       [[0.50129073, 0.07352988, 0.10313192, 0.36907268, 0.33288789],\n",
       "        [0.38762348, 0.39711821, 0.02874574, 0.56971481, 0.02705914]],\n",
       "\n",
       "       [[0.10367151, 0.04482463, 0.37236408, 0.18544183, 0.11856735],\n",
       "        [0.11879748, 0.42891891, 0.69947578, 0.25647131, 0.00198373]]])"
      ]
     },
     "execution_count": 17,
     "metadata": {},
     "output_type": "execute_result"
    }
   ],
   "source": [
    "# multiplicación\n",
    "\n",
    "np.multiply(array8_1, array8_2)"
   ]
  },
  {
   "cell_type": "code",
   "execution_count": 18,
   "id": "05853ed0",
   "metadata": {},
   "outputs": [
    {
     "data": {
      "text/plain": [
       "array([[[1.64703069, 0.97320636, 3.44677321, 1.17591586, 0.234836  ],\n",
       "        [0.29062202, 0.75652896, 1.49208303, 1.08661896, 1.52611969]],\n",
       "\n",
       "       [[1.39805116, 6.68357634, 0.19854294, 0.57126941, 1.86867169],\n",
       "        [1.04079082, 1.57765424, 0.45425627, 1.13510696, 0.06720627]],\n",
       "\n",
       "       [[0.32694642, 0.20218968, 1.16282302, 0.58064209, 0.13163869],\n",
       "        [7.11343036, 1.19413592, 1.26868637, 1.85528627, 0.11039017]]])"
      ]
     },
     "execution_count": 18,
     "metadata": {},
     "output_type": "execute_result"
    }
   ],
   "source": [
    "# división \n",
    "\n",
    "np.divide(array8_1, array8_2)"
   ]
  },
  {
   "cell_type": "code",
   "execution_count": null,
   "id": "b94d256c",
   "metadata": {},
   "outputs": [],
   "source": []
  }
 ],
 "metadata": {
  "kernelspec": {
   "display_name": "ironhack",
   "language": "python",
   "name": "ironhack"
  },
  "language_info": {
   "codemirror_mode": {
    "name": "ipython",
    "version": 3
   },
   "file_extension": ".py",
   "mimetype": "text/x-python",
   "name": "python",
   "nbconvert_exporter": "python",
   "pygments_lexer": "ipython3",
   "version": "3.8.5"
  },
  "toc": {
   "base_numbering": 1,
   "nav_menu": {},
   "number_sections": true,
   "sideBar": true,
   "skip_h1_title": false,
   "title_cell": "Table of Contents",
   "title_sidebar": "Contents",
   "toc_cell": false,
   "toc_position": {},
   "toc_section_display": true,
   "toc_window_display": false
  },
  "varInspector": {
   "cols": {
    "lenName": 16,
    "lenType": 16,
    "lenVar": 40
   },
   "kernels_config": {
    "python": {
     "delete_cmd_postfix": "",
     "delete_cmd_prefix": "del ",
     "library": "var_list.py",
     "varRefreshCmd": "print(var_dic_list())"
    },
    "r": {
     "delete_cmd_postfix": ") ",
     "delete_cmd_prefix": "rm(",
     "library": "var_list.r",
     "varRefreshCmd": "cat(var_dic_list()) "
    }
   },
   "types_to_exclude": [
    "module",
    "function",
    "builtin_function_or_method",
    "instance",
    "_Feature"
   ],
   "window_display": false
  }
 },
 "nbformat": 4,
 "nbformat_minor": 5
}
