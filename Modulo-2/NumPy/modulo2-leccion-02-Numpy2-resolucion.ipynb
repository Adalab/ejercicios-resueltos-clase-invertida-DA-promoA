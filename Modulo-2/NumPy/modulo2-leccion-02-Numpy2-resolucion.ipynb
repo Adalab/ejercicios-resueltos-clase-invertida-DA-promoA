{
 "cells": [
  {
   "cell_type": "markdown",
   "id": "7948b7c0",
   "metadata": {},
   "source": [
    "**EJERCICIO 1** Crea un array unidimensional de 10 elementos y extrae: \n",
    "\n",
    "- El primer elemento.\n",
    "\n",
    "\n",
    "- Lo elementos que están en posición impar.\n",
    "\n",
    "\n",
    "- Los cuatro primeros elementos.\n",
    "\n",
    "\n",
    "- Los últimos tres elementos.\n",
    "\n",
    "\n",
    "- Los elemtos entre el 4 y el 8. "
   ]
  },
  {
   "cell_type": "code",
   "execution_count": 2,
   "id": "0f0a6d85",
   "metadata": {},
   "outputs": [
    {
     "data": {
      "text/plain": [
       "array([0, 1, 2, 3, 4, 5, 6, 7, 8, 9])"
      ]
     },
     "execution_count": 2,
     "metadata": {},
     "output_type": "execute_result"
    }
   ],
   "source": [
    "unidimensional = np.arange(10)\n",
    "unidimensional"
   ]
  },
  {
   "cell_type": "code",
   "execution_count": 3,
   "id": "5f20d4c8",
   "metadata": {},
   "outputs": [
    {
     "data": {
      "text/plain": [
       "0"
      ]
     },
     "execution_count": 3,
     "metadata": {},
     "output_type": "execute_result"
    }
   ],
   "source": [
    "# El primer elemento\n",
    "\n",
    "unidimensional[0]"
   ]
  },
  {
   "cell_type": "code",
   "execution_count": 7,
   "id": "ed013f30",
   "metadata": {},
   "outputs": [
    {
     "data": {
      "text/plain": [
       "array([0, 2, 4, 6, 8])"
      ]
     },
     "execution_count": 7,
     "metadata": {},
     "output_type": "execute_result"
    }
   ],
   "source": [
    "# Lo elementos que están en posición impar.\n",
    "\n",
    "unidimensional[::2]"
   ]
  },
  {
   "cell_type": "code",
   "execution_count": 8,
   "id": "5e897f95",
   "metadata": {},
   "outputs": [
    {
     "data": {
      "text/plain": [
       "array([0, 1, 2, 3])"
      ]
     },
     "execution_count": 8,
     "metadata": {},
     "output_type": "execute_result"
    }
   ],
   "source": [
    "# Los cuatro primeros elementos.\n",
    "\n",
    "unidimensional[:4]"
   ]
  },
  {
   "cell_type": "code",
   "execution_count": 10,
   "id": "52fbad87",
   "metadata": {},
   "outputs": [
    {
     "data": {
      "text/plain": [
       "array([7, 8, 9])"
      ]
     },
     "execution_count": 10,
     "metadata": {},
     "output_type": "execute_result"
    }
   ],
   "source": [
    "# Los últimos tres elementos\n",
    "\n",
    "unidimensional[-3:]"
   ]
  },
  {
   "cell_type": "code",
   "execution_count": 11,
   "id": "599ca170",
   "metadata": {},
   "outputs": [
    {
     "data": {
      "text/plain": [
       "array([4, 5, 6, 7, 8])"
      ]
     },
     "execution_count": 11,
     "metadata": {},
     "output_type": "execute_result"
    }
   ],
   "source": [
    "# Los elemtos entre el 4 y el 8.\n",
    "\n",
    "unidimensional[4:9]"
   ]
  },
  {
   "cell_type": "markdown",
   "id": "98823e9c",
   "metadata": {},
   "source": [
    "**EJERCICIO 2** Crea un array de dos dimensiones y extrae:\n",
    "\n",
    "- La primera fila y todas las columnas\n",
    "\n",
    "\n",
    "- Todas las filas pares\n",
    "\n",
    "\n",
    "- La primera columna y todas las filas"
   ]
  },
  {
   "cell_type": "code",
   "execution_count": 13,
   "id": "78b72141",
   "metadata": {},
   "outputs": [
    {
     "data": {
      "text/plain": [
       "array([[0.89698917, 0.83631042, 0.89116935, 0.49535321, 0.85058161],\n",
       "       [0.99499667, 0.12949272, 0.11130355, 0.4826603 , 0.33689467],\n",
       "       [0.89754873, 0.51246462, 0.83618508, 0.61225527, 0.51596033],\n",
       "       [0.09524737, 0.36050704, 0.16023951, 0.17920753, 0.50486206],\n",
       "       [0.4180467 , 0.45722924, 0.01457002, 0.53685364, 0.19378491],\n",
       "       [0.83359772, 0.57588939, 0.31301067, 0.80843636, 0.96668165],\n",
       "       [0.67046014, 0.22787148, 0.86417004, 0.32664176, 0.59965362],\n",
       "       [0.68278509, 0.80481625, 0.55302407, 0.77164912, 0.79177735],\n",
       "       [0.57128618, 0.11307867, 0.39232651, 0.4594877 , 0.54343471],\n",
       "       [0.03347032, 0.7911611 , 0.77563676, 0.23023213, 0.52642975]])"
      ]
     },
     "execution_count": 13,
     "metadata": {},
     "output_type": "execute_result"
    }
   ],
   "source": [
    "bidimensional = np.random.rand(10, 5)\n",
    "bidimensional"
   ]
  },
  {
   "cell_type": "code",
   "execution_count": 16,
   "id": "65ac23dc",
   "metadata": {},
   "outputs": [
    {
     "data": {
      "text/plain": [
       "array([0.99499667, 0.12949272, 0.11130355, 0.4826603 , 0.33689467])"
      ]
     },
     "execution_count": 16,
     "metadata": {},
     "output_type": "execute_result"
    }
   ],
   "source": [
    "# La primera fila y todas las columnas\n",
    "\n",
    "bidimensional[1,]"
   ]
  },
  {
   "cell_type": "code",
   "execution_count": 19,
   "id": "1897fe08",
   "metadata": {},
   "outputs": [
    {
     "data": {
      "text/plain": [
       "array([[0.89698917, 0.83631042, 0.89116935, 0.49535321, 0.85058161],\n",
       "       [0.89754873, 0.51246462, 0.83618508, 0.61225527, 0.51596033],\n",
       "       [0.4180467 , 0.45722924, 0.01457002, 0.53685364, 0.19378491],\n",
       "       [0.67046014, 0.22787148, 0.86417004, 0.32664176, 0.59965362],\n",
       "       [0.57128618, 0.11307867, 0.39232651, 0.4594877 , 0.54343471]])"
      ]
     },
     "execution_count": 19,
     "metadata": {},
     "output_type": "execute_result"
    }
   ],
   "source": [
    "# Todas las filas pares\n",
    "\n",
    "bidimensional[::2,]"
   ]
  },
  {
   "cell_type": "code",
   "execution_count": 24,
   "id": "698299ac",
   "metadata": {},
   "outputs": [
    {
     "data": {
      "text/plain": [
       "array([0.89698917, 0.99499667, 0.89754873, 0.09524737, 0.4180467 ,\n",
       "       0.83359772, 0.67046014, 0.68278509, 0.57128618, 0.03347032])"
      ]
     },
     "execution_count": 24,
     "metadata": {},
     "output_type": "execute_result"
    }
   ],
   "source": [
    "# La primera columna y todas las filas\n",
    "\n",
    "bidimensional[:,0]"
   ]
  },
  {
   "cell_type": "markdown",
   "id": "6164a557",
   "metadata": {},
   "source": [
    "**EJERICIO 3**\n",
    "\n",
    "- Crea una matriz mutidimensional de 2 x 3 x 5 de unos y haz una copia de la matriz multidimensional. \n",
    "\n",
    "\n",
    "- Reemplaza los siguientes valores:\n",
    "\n",
    "    - Array 0, fila 2, columna 3 por 100\n",
    "    \n",
    "    - Array 1, fila 1, columna 4 por 100\n",
    "    \n",
    "    - Array 0, fila 0, columna 2 por 100\n",
    "    \n",
    "    - Array 1, fila 2, columna 1 por 100\n",
    "\n",
    "\n",
    "- Haz una copia de la matriz anterior. Crea una matriz de unos de 5 x 2 x 3 e intenta sumarla a la copia. ¿Se puede?  ¿Por qué?\n",
    "\n",
    "\n",
    "- Trata de modificar las dimensiones de tu matriz de unos para poder sumarla con la copia. Hazlo de las dos formas_\n",
    "\n",
    "    - `transpose`\n",
    "    \n",
    "    - `reshape`\n",
    "    \n",
    "    \n",
    "    \n",
    "- Vuelve a intentar sumar las dos matrices"
   ]
  },
  {
   "cell_type": "code",
   "execution_count": 26,
   "id": "3f3f4c3f",
   "metadata": {},
   "outputs": [
    {
     "data": {
      "text/plain": [
       "array([[[1., 1., 1., 1., 1.],\n",
       "        [1., 1., 1., 1., 1.],\n",
       "        [1., 1., 1., 1., 1.]],\n",
       "\n",
       "       [[1., 1., 1., 1., 1.],\n",
       "        [1., 1., 1., 1., 1.],\n",
       "        [1., 1., 1., 1., 1.]]])"
      ]
     },
     "execution_count": 26,
     "metadata": {},
     "output_type": "execute_result"
    }
   ],
   "source": [
    "# Crea una matriz mutidimensional de 2 x 3 x 5 de unos y haz una copia\n",
    "## de la matriz multidimensional.\n",
    "\n",
    "multidimensional = np.ones((2,3,5))\n",
    "multidimensional"
   ]
  },
  {
   "cell_type": "code",
   "execution_count": 27,
   "id": "e7982bb9",
   "metadata": {},
   "outputs": [],
   "source": [
    "# Array 0, fila 2, columna 3 por 100\n",
    "multidimensional[0, 2, 3] = 100"
   ]
  },
  {
   "cell_type": "code",
   "execution_count": 29,
   "id": "91873816",
   "metadata": {},
   "outputs": [],
   "source": [
    "# Array 1, fila 1, columna 4 por 100\n",
    "multidimensional[1, 1, 4] = 100"
   ]
  },
  {
   "cell_type": "code",
   "execution_count": 30,
   "id": "e8ee3143",
   "metadata": {},
   "outputs": [],
   "source": [
    "# Array 0, fila 0, columna 2 por 100\n",
    "multidimensional[0, 0, 2] = 100"
   ]
  },
  {
   "cell_type": "code",
   "execution_count": 31,
   "id": "f6bde13d",
   "metadata": {},
   "outputs": [],
   "source": [
    "# Array 1, fila 2, columna 1 por 100\n",
    "multidimensional[1, 2, 1] = 100"
   ]
  },
  {
   "cell_type": "code",
   "execution_count": 32,
   "id": "b9d27393",
   "metadata": {},
   "outputs": [
    {
     "data": {
      "text/plain": [
       "array([[[  1.,   1., 100.,   1.,   1.],\n",
       "        [  1.,   1.,   1.,   1.,   1.],\n",
       "        [  1.,   1.,   1., 100.,   1.]],\n",
       "\n",
       "       [[  1.,   1.,   1.,   1.,   1.],\n",
       "        [  1.,   1.,   1.,   1., 100.],\n",
       "        [  1., 100.,   1.,   1.,   1.]]])"
      ]
     },
     "execution_count": 32,
     "metadata": {},
     "output_type": "execute_result"
    }
   ],
   "source": [
    "multidimensional"
   ]
  },
  {
   "cell_type": "code",
   "execution_count": 33,
   "id": "1dd5a560",
   "metadata": {},
   "outputs": [
    {
     "data": {
      "text/plain": [
       "array([[[  1.,   1., 100.,   1.,   1.],\n",
       "        [  1.,   1.,   1.,   1.,   1.],\n",
       "        [  1.,   1.,   1., 100.,   1.]],\n",
       "\n",
       "       [[  1.,   1.,   1.,   1.,   1.],\n",
       "        [  1.,   1.,   1.,   1., 100.],\n",
       "        [  1., 100.,   1.,   1.,   1.]]])"
      ]
     },
     "execution_count": 33,
     "metadata": {},
     "output_type": "execute_result"
    }
   ],
   "source": [
    "# Haz una copia de la matriz anterior. Crea una matriz de unos de 5 x 2 x 3 e intenta sumarla a la copia. \n",
    "# ¿Se puede? ¿Por qué?\n",
    "\n",
    "multidimensional_copia = multidimensional.copy()\n",
    "multidimensional_copia"
   ]
  },
  {
   "cell_type": "code",
   "execution_count": 35,
   "id": "f68638d3",
   "metadata": {},
   "outputs": [
    {
     "data": {
      "text/plain": [
       "array([[[1., 1., 1.],\n",
       "        [1., 1., 1.]],\n",
       "\n",
       "       [[1., 1., 1.],\n",
       "        [1., 1., 1.]],\n",
       "\n",
       "       [[1., 1., 1.],\n",
       "        [1., 1., 1.]],\n",
       "\n",
       "       [[1., 1., 1.],\n",
       "        [1., 1., 1.]],\n",
       "\n",
       "       [[1., 1., 1.],\n",
       "        [1., 1., 1.]]])"
      ]
     },
     "execution_count": 35,
     "metadata": {},
     "output_type": "execute_result"
    }
   ],
   "source": [
    "# crear una nueva matriz de unos\n",
    "unos = np.ones((5,2,3))\n",
    "unos"
   ]
  },
  {
   "cell_type": "code",
   "execution_count": 36,
   "id": "9d2b7d38",
   "metadata": {},
   "outputs": [
    {
     "ename": "ValueError",
     "evalue": "operands could not be broadcast together with shapes (2,3,5) (5,2,3) ",
     "output_type": "error",
     "traceback": [
      "\u001b[0;31m---------------------------------------------------------------------------\u001b[0m",
      "\u001b[0;31mValueError\u001b[0m                                Traceback (most recent call last)",
      "\u001b[0;32m/var/folders/t1/10pwyyjn64l1zlhcs5mstkwc0000gn/T/ipykernel_37011/504255647.py\u001b[0m in \u001b[0;36m<module>\u001b[0;34m\u001b[0m\n\u001b[1;32m      1\u001b[0m \u001b[0;31m# suma\u001b[0m\u001b[0;34m\u001b[0m\u001b[0;34m\u001b[0m\u001b[0;34m\u001b[0m\u001b[0m\n\u001b[1;32m      2\u001b[0m \u001b[0;34m\u001b[0m\u001b[0m\n\u001b[0;32m----> 3\u001b[0;31m \u001b[0mnp\u001b[0m\u001b[0;34m.\u001b[0m\u001b[0madd\u001b[0m\u001b[0;34m(\u001b[0m\u001b[0mmultidimensional_copia\u001b[0m\u001b[0;34m,\u001b[0m \u001b[0munos\u001b[0m\u001b[0;34m)\u001b[0m\u001b[0;34m\u001b[0m\u001b[0;34m\u001b[0m\u001b[0m\n\u001b[0m",
      "\u001b[0;31mValueError\u001b[0m: operands could not be broadcast together with shapes (2,3,5) (5,2,3) "
     ]
    }
   ],
   "source": [
    "# suma\n",
    "\n",
    "np.add(multidimensional_copia, unos)"
   ]
  },
  {
   "cell_type": "markdown",
   "id": "2baf6e16",
   "metadata": {},
   "source": [
    "No se puede realizar la suma porque los *arrays* tienen distintas formas. "
   ]
  },
  {
   "cell_type": "code",
   "execution_count": 37,
   "id": "a74f9c65",
   "metadata": {},
   "outputs": [
    {
     "data": {
      "text/plain": [
       "array([[[1., 1., 1., 1., 1.],\n",
       "        [1., 1., 1., 1., 1.],\n",
       "        [1., 1., 1., 1., 1.]],\n",
       "\n",
       "       [[1., 1., 1., 1., 1.],\n",
       "        [1., 1., 1., 1., 1.],\n",
       "        [1., 1., 1., 1., 1.]]])"
      ]
     },
     "execution_count": 37,
     "metadata": {},
     "output_type": "execute_result"
    }
   ],
   "source": [
    "# cambiar la forma del array \"unos\" usando transpose\n",
    "\n",
    "unos_transpose = np.transpose(unos, (1,2,0))\n",
    "unos_transpose"
   ]
  },
  {
   "cell_type": "code",
   "execution_count": 40,
   "id": "30e50754",
   "metadata": {},
   "outputs": [
    {
     "data": {
      "text/plain": [
       "array([[[1., 1., 1., 1., 1.],\n",
       "        [1., 1., 1., 1., 1.],\n",
       "        [1., 1., 1., 1., 1.]],\n",
       "\n",
       "       [[1., 1., 1., 1., 1.],\n",
       "        [1., 1., 1., 1., 1.],\n",
       "        [1., 1., 1., 1., 1.]]])"
      ]
     },
     "execution_count": 40,
     "metadata": {},
     "output_type": "execute_result"
    }
   ],
   "source": [
    "# cambiar la forma del array \"unos\" usando reshape\n",
    "\n",
    "unos_reshape = np.reshape(unos, (2,3,5))\n",
    "unos_reshape"
   ]
  },
  {
   "cell_type": "code",
   "execution_count": 41,
   "id": "14bf7f7f",
   "metadata": {},
   "outputs": [
    {
     "data": {
      "text/plain": [
       "array([[[  2.,   2., 101.,   2.,   2.],\n",
       "        [  2.,   2.,   2.,   2.,   2.],\n",
       "        [  2.,   2.,   2., 101.,   2.]],\n",
       "\n",
       "       [[  2.,   2.,   2.,   2.,   2.],\n",
       "        [  2.,   2.,   2.,   2., 101.],\n",
       "        [  2., 101.,   2.,   2.,   2.]]])"
      ]
     },
     "execution_count": 41,
     "metadata": {},
     "output_type": "execute_result"
    }
   ],
   "source": [
    "# volvemos a sumar con la transpuesta\n",
    "\n",
    "np.add(multidimensional_copia, unos_transpose)"
   ]
  },
  {
   "cell_type": "code",
   "execution_count": 42,
   "id": "192a855f",
   "metadata": {},
   "outputs": [
    {
     "data": {
      "text/plain": [
       "array([[[  2.,   2., 101.,   2.,   2.],\n",
       "        [  2.,   2.,   2.,   2.,   2.],\n",
       "        [  2.,   2.,   2., 101.,   2.]],\n",
       "\n",
       "       [[  2.,   2.,   2.,   2.,   2.],\n",
       "        [  2.,   2.,   2.,   2., 101.],\n",
       "        [  2., 101.,   2.,   2.,   2.]]])"
      ]
     },
     "execution_count": 42,
     "metadata": {},
     "output_type": "execute_result"
    }
   ],
   "source": [
    "# volvemos a sumar con el reshape\n",
    "\n",
    "np.add(multidimensional_copia, unos_reshape)"
   ]
  },
  {
   "cell_type": "code",
   "execution_count": null,
   "id": "eacf8eef",
   "metadata": {},
   "outputs": [],
   "source": []
  }
 ],
 "metadata": {
  "kernelspec": {
   "display_name": "adalab",
   "language": "python",
   "name": "adalab"
  },
  "language_info": {
   "codemirror_mode": {
    "name": "ipython",
    "version": 3
   },
   "file_extension": ".py",
   "mimetype": "text/x-python",
   "name": "python",
   "nbconvert_exporter": "python",
   "pygments_lexer": "ipython3",
   "version": "3.9.6"
  },
  "toc": {
   "base_numbering": 1,
   "nav_menu": {},
   "number_sections": true,
   "sideBar": true,
   "skip_h1_title": false,
   "title_cell": "Table of Contents",
   "title_sidebar": "Contents",
   "toc_cell": false,
   "toc_position": {},
   "toc_section_display": true,
   "toc_window_display": false
  },
  "varInspector": {
   "cols": {
    "lenName": 16,
    "lenType": 16,
    "lenVar": 40
   },
   "kernels_config": {
    "python": {
     "delete_cmd_postfix": "",
     "delete_cmd_prefix": "del ",
     "library": "var_list.py",
     "varRefreshCmd": "print(var_dic_list())"
    },
    "r": {
     "delete_cmd_postfix": ") ",
     "delete_cmd_prefix": "rm(",
     "library": "var_list.r",
     "varRefreshCmd": "cat(var_dic_list()) "
    }
   },
   "position": {
    "height": "144.844px",
    "left": "589px",
    "right": "20px",
    "top": "120px",
    "width": "350px"
   },
   "types_to_exclude": [
    "module",
    "function",
    "builtin_function_or_method",
    "instance",
    "_Feature"
   ],
   "window_display": false
  }
 },
 "nbformat": 4,
 "nbformat_minor": 5
}
